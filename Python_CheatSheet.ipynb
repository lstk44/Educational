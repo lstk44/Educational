{
 "cells": [
  {
   "cell_type": "markdown",
   "metadata": {},
   "source": [
    "# Python Core Notebook\n",
    "\n",
    "most important stuff to know about the programming language"
   ]
  },
  {
   "cell_type": "markdown",
   "metadata": {},
   "source": [
    "## Basic Information"
   ]
  },
  {
   "cell_type": "markdown",
   "metadata": {},
   "source": [
    "### What is Python?\n",
    "\n",
    "Python is a high-level, general-purpose programming language. Its design philosophy emphasizes code readability with the use of indentation. Python is dynamically typed, meaning you don't need to explicitly declare the type of a variable when you create it; instead, the interpreter assigns the type based on the value you assign to the variable. It supports multiple programming paradigms, including object-oriented and functional programming."
   ]
  },
  {
   "cell_type": "markdown",
   "metadata": {},
   "source": [
    "### One Advantage & Disadvantage of Python?\n",
    "\n",
    "**Advantage:** Readability and Ease of Use\n",
    "\n",
    "Python is renowned for its clean and readable syntax, which makes it accessible for beginners and efficient for experienced developers. The language emphasizes readability and simplicity, allowing programmers to write clear and concise code. This readability facilitates collaboration and maintenance, as code is easier to understand and debug. The extensive standard library and vibrant ecosystem of third-party packages further enhance productivity, enabling rapid development and deployment of applications.\n",
    "\n",
    "**Disadvantage:** Performance Limitations\n",
    "\n",
    "Python is an interpreted language, which generally makes it slower compared to compiled languages like C or Java. Python is an interpreted languageThis means it runs the code line by line, which can make it slower than languages like C or Java that are compiled into machine code (binary) before running."
   ]
  },
  {
   "cell_type": "markdown",
   "metadata": {},
   "source": [
    "### What is Object Oriented Programming (OOP)?\n",
    "\n",
    "Object-Oriented Programming (OOP) is a programming paradigm that uses \"objects\" to design and develop applications. An object is a collection of data (attributes) and methods (functions) that operate on the data.\n",
    "\n",
    "**Data (Attributes):**\n",
    "Attributes are variables that belong to an object and store data about that object. They are defined within a class and are usually initialized in a special method called the constructor (__init__).\n",
    "\n",
    "**Methods (Functions):**\n",
    "\n",
    "Methods are functions defined inside a class that operate on the attributes of the object. They define the behaviors or actions that an object can perform."
   ]
  },
  {
   "cell_type": "markdown",
   "metadata": {},
   "source": [
    "### The principles of Object Oriented Programming\n",
    "\n",
    "**Principles:**\n",
    "\n",
    "_Encapsulation:_ Bundling the data (attributes) and the methods (functions) that operate on the data into a single unit called an object.\n",
    "\n",
    "_Inheritance:_ Creating new classes based on existing ones, allowing for code reuse and the creation of a hierarchy of classes.\n",
    "\n",
    "_Polymorphism:_ Allowing objects to be treated as instances of their parent class rather than their actual class, enabling methods to operate on objects of different classes in a uniform way.\n",
    "\n",
    "_Abstraction:_ Hiding complex implementation details and showing only the necessary features of an object.\n",
    "\n",
    "**Key Concepts:**\n",
    "\n",
    "_Classes and Objects:_ A class is a blueprint for creating objects, which are instances of the class.\n",
    "\n",
    "_Methods:_ Functions defined within a class that operate on instances of the class (objects).\n",
    "\n",
    "_Attributes:_ Variables defined within a class to hold data."
   ]
  },
  {
   "cell_type": "markdown",
   "metadata": {},
   "source": [
    "#### Classes and Objects\n",
    "\n",
    "A class is a blueprint for creating objects. An object is an instance of a class."
   ]
  },
  {
   "cell_type": "code",
   "execution_count": 1,
   "metadata": {},
   "outputs": [
    {
     "name": "stdout",
     "output_type": "stream",
     "text": [
      "The red Toyota Corolla is driving.\n"
     ]
    }
   ],
   "source": [
    "class Car:\n",
    "    def __init__(self, color, make, model):\n",
    "        self.color = color\n",
    "        self.make = make\n",
    "        self.model = model\n",
    "\n",
    "    def drive(self):\n",
    "        print(f\"The {self.color} {self.make} {self.model} is driving.\")\n",
    "\n",
    "my_car = Car(\"red\", \"Toyota\", \"Corolla\")\n",
    "my_car.drive()  # Output: The red Toyota Corolla is driving."
   ]
  },
  {
   "cell_type": "markdown",
   "metadata": {},
   "source": [
    "#### Encapsulation\n",
    "\n",
    "Bundling data and methods that operate on the data within an object."
   ]
  },
  {
   "cell_type": "code",
   "execution_count": 2,
   "metadata": {},
   "outputs": [],
   "source": [
    "class Car:\n",
    "    def __init__(self, color, make, model):\n",
    "        self.color = color\n",
    "        self.make = make\n",
    "        self.model = model\n",
    "\n",
    "    def drive(self):\n",
    "        print(f\"The {self.color} {self.make} {self.model} is driving.\")"
   ]
  },
  {
   "cell_type": "markdown",
   "metadata": {},
   "source": [
    "#### Inheritance\n",
    "\n",
    "Creating new classes from existing classes to promote code reuse."
   ]
  },
  {
   "cell_type": "code",
   "execution_count": 3,
   "metadata": {},
   "outputs": [],
   "source": [
    "class ElectricCar(Car):\n",
    "    def __init__(self, color, make, model, battery_size):\n",
    "        super().__init__(color, make, model)\n",
    "        self.battery_size = battery_size\n",
    "\n",
    "    def charge(self):\n",
    "        print(f\"The {self.color} {self.make} {self.model} with a {self.battery_size}kWh battery is charging.\")"
   ]
  },
  {
   "cell_type": "markdown",
   "metadata": {},
   "source": [
    "#### Polymorphism\n",
    "\n",
    "Allowing methods to operate on objects of different classes through a common interface."
   ]
  },
  {
   "cell_type": "code",
   "execution_count": 4,
   "metadata": {},
   "outputs": [
    {
     "name": "stdout",
     "output_type": "stream",
     "text": [
      "The red Toyota Corolla is driving.\n",
      "The blue Tesla Model S is driving.\n"
     ]
    }
   ],
   "source": [
    "def start_trip(car):\n",
    "    car.drive()\n",
    "\n",
    "my_car = Car(\"red\", \"Toyota\", \"Corolla\")\n",
    "my_electric_car = ElectricCar(\"blue\", \"Tesla\", \"Model S\", 100)\n",
    "\n",
    "start_trip(my_car)          # Output: The red Toyota Corolla is driving.\n",
    "start_trip(my_electric_car) # Output: The blue Tesla Model S is driving."
   ]
  },
  {
   "cell_type": "markdown",
   "metadata": {},
   "source": [
    "#### Abstraction\n",
    "\n",
    "Hiding complex implementation details and showing only the necessary features."
   ]
  },
  {
   "cell_type": "code",
   "execution_count": 5,
   "metadata": {},
   "outputs": [],
   "source": [
    "class Car:\n",
    "    def __init__(self, color, make, model):\n",
    "        self.color = color\n",
    "        self.make = make\n",
    "        self.model = model\n",
    "\n",
    "    def drive(self):\n",
    "        # Complex logic for driving is hidden\n",
    "        print(f\"The {self.color} {self.make} {self.model} is driving.\")"
   ]
  },
  {
   "cell_type": "markdown",
   "metadata": {},
   "source": [
    "### What is Functional Programming?\n",
    "\n",
    "Functional Programming (FP) is a programming paradigm that treats computation as the evaluation of mathematical functions and avoids changing state and mutable data. It focuses on writing pure functions and using function composition to build complex operations."
   ]
  },
  {
   "cell_type": "markdown",
   "metadata": {},
   "source": [
    "#### Pure Functions\n",
    "\n",
    "A pure function is a function that always produces the same output given the same input and has no side effects (it does not alter any external state or interact with the outside world)."
   ]
  },
  {
   "cell_type": "code",
   "execution_count": 6,
   "metadata": {},
   "outputs": [],
   "source": [
    "def add(a, b):\n",
    "    return a + b"
   ]
  },
  {
   "cell_type": "markdown",
   "metadata": {},
   "source": [
    "#### Immutability\n",
    "\n",
    "Data is immutable, meaning once it is created, it cannot be changed. Instead of modifying existing data, new data structures are created when changes are needed."
   ]
  },
  {
   "cell_type": "code",
   "execution_count": 7,
   "metadata": {},
   "outputs": [
    {
     "name": "stdout",
     "output_type": "stream",
     "text": [
      "(1, 2, 3, 4)\n"
     ]
    }
   ],
   "source": [
    "numbers = (1, 2, 3)\n",
    "new_numbers = numbers + (4,)\n",
    "print(new_numbers)  # Output: (1, 2, 3, 4)"
   ]
  },
  {
   "cell_type": "markdown",
   "metadata": {},
   "source": [
    "#### First-Class Functions\n",
    "\n",
    "Functions are first-class citizens in FP. This means they can be assigned to variables, passed as arguments to other functions, and returned from other functions."
   ]
  },
  {
   "cell_type": "code",
   "execution_count": 8,
   "metadata": {},
   "outputs": [
    {
     "name": "stdout",
     "output_type": "stream",
     "text": [
      "25\n"
     ]
    }
   ],
   "source": [
    "def square(x):\n",
    "    return x * x\n",
    "\n",
    "def apply_function(func, value):\n",
    "    return func(value)\n",
    "\n",
    "result = apply_function(square, 5)\n",
    "print(result)  # Output: 25"
   ]
  },
  {
   "cell_type": "markdown",
   "metadata": {},
   "source": [
    "#### Higher-Order Functions\n",
    "\n",
    "Higher-order functions are functions that take other functions as arguments or return them as results."
   ]
  },
  {
   "cell_type": "code",
   "execution_count": 9,
   "metadata": {},
   "outputs": [
    {
     "name": "stdout",
     "output_type": "stream",
     "text": [
      "7\n"
     ]
    }
   ],
   "source": [
    "def increment(x):\n",
    "    return x + 1\n",
    "\n",
    "def apply_twice(func, value):\n",
    "    return func(func(value))\n",
    "\n",
    "result = apply_twice(increment, 5)\n",
    "print(result)  # Output: 7"
   ]
  },
  {
   "cell_type": "markdown",
   "metadata": {},
   "source": [
    "#### Function Composition\n",
    "\n",
    "Function composition is the process of combining two or more functions to produce a new function."
   ]
  },
  {
   "cell_type": "code",
   "execution_count": 10,
   "metadata": {},
   "outputs": [
    {
     "name": "stdout",
     "output_type": "stream",
     "text": [
      "18\n"
     ]
    }
   ],
   "source": [
    "def add(x):\n",
    "    return x + 2\n",
    "\n",
    "def multiply(x):\n",
    "    return x * 3\n",
    "\n",
    "def compose(f, g):\n",
    "    return lambda x: f(g(x))\n",
    "\n",
    "add_then_multiply = compose(multiply, add)\n",
    "result = add_then_multiply(4)\n",
    "print(result)  # Output: 18 (first adds 2 to 4, then multiplies the result by 3)"
   ]
  },
  {
   "cell_type": "markdown",
   "metadata": {},
   "source": [
    "#### Avoiding Side Effects\n",
    "\n",
    "A side effect is any interaction with the outside world (like modifying a global variable, printing to the console, or writing to a file). In FP, functions should avoid side effects to maintain predictability."
   ]
  },
  {
   "cell_type": "code",
   "execution_count": 11,
   "metadata": {},
   "outputs": [],
   "source": [
    "# Impure function with a side effect\n",
    "def impure_add(a, b):\n",
    "    print(a + b)\n",
    "    return a + b\n",
    "\n",
    "# Pure function without side effects\n",
    "def pure_add(a, b):\n",
    "    return a + b"
   ]
  },
  {
   "cell_type": "markdown",
   "metadata": {},
   "source": [
    "#### Declarative Programming\n",
    "\n",
    "FP emphasizes declarative programming, where the focus is on what needs to be done rather than how it should be done. This is in contrast to imperative programming, which details the steps to achieve a result."
   ]
  },
  {
   "cell_type": "code",
   "execution_count": 12,
   "metadata": {},
   "outputs": [],
   "source": [
    "# Imperative style\n",
    "numbers = [1, 2, 3, 4]\n",
    "doubled_numbers = []\n",
    "for number in numbers:\n",
    "    doubled_numbers.append(number * 2)\n",
    "\n",
    "# Declarative style\n",
    "numbers = [1, 2, 3, 4]\n",
    "doubled_numbers = map(lambda x: x * 2, numbers)"
   ]
  },
  {
   "cell_type": "markdown",
   "metadata": {},
   "source": [
    "#### Recursion\n",
    "\n",
    "Recursion is a technique where a function calls itself to solve a problem. FP often uses recursion instead of iterative loops."
   ]
  },
  {
   "cell_type": "code",
   "execution_count": 13,
   "metadata": {},
   "outputs": [
    {
     "name": "stdout",
     "output_type": "stream",
     "text": [
      "120\n"
     ]
    }
   ],
   "source": [
    "def factorial(n):\n",
    "    if n == 0:\n",
    "        return 1\n",
    "    else:\n",
    "        return n * factorial(n - 1)\n",
    "\n",
    "print(factorial(5))  # Output: 120"
   ]
  },
  {
   "cell_type": "markdown",
   "metadata": {},
   "source": [
    "### Advantages & Disadvantages of OOP and Functional Programming\n",
    "\n",
    "\n",
    "**OOP Advantage:**\n",
    "\n",
    "Modularity: OOP promotes modularity by encapsulating data and functions into objects, making code easier to manage, understand, and maintain.\n",
    "\n",
    "**OOP Disadvantage:**\n",
    "\n",
    "Complexity: OOP can lead to complex class hierarchies and interactions, which can make the codebase harder to understand and maintain, especially for large systems.\n",
    "\n",
    "**FP Advantage:**\n",
    "\n",
    "Predictability: FP emphasizes pure functions and immutability, leading to more predictable and easier-to-test code, as functions always produce the same output for the same input without side effects.\n",
    "\n",
    "**FP Disadvantage:**\n",
    "\n",
    "Performance: FP can be less performant for certain tasks due to the overhead of managing immutable data structures and frequent function calls, which can lead to increased memory usage and slower execution in some scenarios."
   ]
  },
  {
   "cell_type": "markdown",
   "metadata": {},
   "source": [
    "## Python Basics"
   ]
  },
  {
   "cell_type": "markdown",
   "metadata": {},
   "source": [
    "### Data Types & Collections\n",
    "\n",
    "Python provides several built-in data types that allow you to store and manipulate different kinds of data."
   ]
  },
  {
   "cell_type": "markdown",
   "metadata": {},
   "source": [
    "#### Integer\n",
    "\n",
    "Whole numbers, positive or negative, without a decimal point."
   ]
  },
  {
   "cell_type": "code",
   "execution_count": 14,
   "metadata": {},
   "outputs": [
    {
     "name": "stdout",
     "output_type": "stream",
     "text": [
      "100\n",
      "Integers are immutable\n"
     ]
    }
   ],
   "source": [
    "# Defining an Integer\n",
    "integer_ = 100\n",
    "print(integer_)\n",
    "\n",
    "# Check for mutable or immutable\n",
    "try:\n",
    "    integer_[0] = 2\n",
    "    print('Integers are mutable')\n",
    "except TypeError:\n",
    "    print(\"Integers are immutable\")"
   ]
  },
  {
   "cell_type": "markdown",
   "metadata": {},
   "source": [
    "#### Float\n",
    "\n",
    "Numbers with a decimal point."
   ]
  },
  {
   "cell_type": "code",
   "execution_count": 15,
   "metadata": {},
   "outputs": [
    {
     "name": "stdout",
     "output_type": "stream",
     "text": [
      "100.5\n",
      "Floats are immutable\n"
     ]
    }
   ],
   "source": [
    "# Defining a Float\n",
    "float_ = 100.5\n",
    "print(float_)\n",
    "\n",
    "# Check for mutable or immutable\n",
    "try:\n",
    "    float_[0] = 2\n",
    "    print('Floats are mutable')\n",
    "except TypeError:\n",
    "    print(\"Floats are immutable\")"
   ]
  },
  {
   "cell_type": "markdown",
   "metadata": {},
   "source": [
    "#### Strings\n",
    "\n",
    "A sequence of characters enclosed in single (') or double (\") quotes."
   ]
  },
  {
   "cell_type": "code",
   "execution_count": 16,
   "metadata": {},
   "outputs": [
    {
     "name": "stdout",
     "output_type": "stream",
     "text": [
      "Hello World!\n",
      "Strings are immutable\n"
     ]
    }
   ],
   "source": [
    "# Defining a String\n",
    "string_ = 'Hello World!'\n",
    "print(string_)\n",
    "\n",
    "# Check for mutable or immutable\n",
    "try:\n",
    "    string_[0] = 'x'\n",
    "    print('Strings are mutable')\n",
    "except TypeError:\n",
    "    print(\"Strings are immutable\")"
   ]
  },
  {
   "cell_type": "markdown",
   "metadata": {},
   "source": [
    "#### Boolean\n",
    "\n",
    "Represents one of two values: True(1) or False(0)."
   ]
  },
  {
   "cell_type": "code",
   "execution_count": 17,
   "metadata": {},
   "outputs": [
    {
     "name": "stdout",
     "output_type": "stream",
     "text": [
      "True\n",
      "Booleans are immutable\n"
     ]
    }
   ],
   "source": [
    "# Defining a Boolean\n",
    "boolean_ = True\n",
    "print(boolean_)\n",
    "\n",
    "print('Booleans are immutable')"
   ]
  },
  {
   "cell_type": "markdown",
   "metadata": {},
   "source": [
    "#### List\n",
    "\n",
    "Ordered, mutable collections of items (can be of mixed types), enclosed in square brackets ([])."
   ]
  },
  {
   "cell_type": "code",
   "execution_count": 18,
   "metadata": {},
   "outputs": [
    {
     "name": "stdout",
     "output_type": "stream",
     "text": [
      "[1, 2.4, 'Hello', True]\n",
      "Lists are mutable\n"
     ]
    }
   ],
   "source": [
    "# Defining a List\n",
    "empty_list = list()\n",
    "empty_list = []\n",
    "list_ = [1,2.4,'Hello',True]\n",
    "print(list_)\n",
    "\n",
    "# Check for mutable or immutable\n",
    "try:\n",
    "    list_[0]=False\n",
    "    print('Lists are mutable')\n",
    "except TypeError:\n",
    "    print(\"Lists are immutable\")"
   ]
  },
  {
   "cell_type": "markdown",
   "metadata": {},
   "source": [
    "#### Tuples\n",
    "\n",
    "Ordered, immutable collections of items, enclosed in parentheses (())."
   ]
  },
  {
   "cell_type": "code",
   "execution_count": 19,
   "metadata": {},
   "outputs": [
    {
     "name": "stdout",
     "output_type": "stream",
     "text": [
      "(1, 2.4, 'Hello', True)\n",
      "Tuples are immutable\n"
     ]
    }
   ],
   "source": [
    "# Defining a Tuple\n",
    "empty_tuple = tuple()\n",
    "empty_tuple = ()\n",
    "tuple_ = (1,2.4,'Hello',True)\n",
    "print(tuple_)\n",
    "\n",
    "# Check for mutable or immutable\n",
    "try:\n",
    "    tuple_[0]=False\n",
    "    print('Tuples are mutable')\n",
    "except TypeError:\n",
    "    print(\"Tuples are immutable\")"
   ]
  },
  {
   "cell_type": "markdown",
   "metadata": {},
   "source": [
    "#### Sets\n",
    "\n",
    "Unordered collections of unique items, enclosed in curly braces ({})."
   ]
  },
  {
   "cell_type": "code",
   "execution_count": 20,
   "metadata": {},
   "outputs": [
    {
     "name": "stdout",
     "output_type": "stream",
     "text": [
      "{1, 2.4, 'Hello'}\n",
      "Sets are immutable\n"
     ]
    }
   ],
   "source": [
    "# Defining a Set\n",
    "empty_set = set()\n",
    "set_ = {1,2.4,'Hello',True,1,1,1,1,1,1}\n",
    "print(set_)\n",
    "\n",
    "# Check for mutable or immutable\n",
    "try:\n",
    "    set_[0]=False\n",
    "    print('Sets are mutable')\n",
    "except TypeError:\n",
    "    print(\"Sets are immutable\")"
   ]
  },
  {
   "cell_type": "markdown",
   "metadata": {},
   "source": [
    "#### Dictionaries\n",
    "\n",
    "Unordered collections of key-value pairs, enclosed in curly braces ({}), where each key is unique."
   ]
  },
  {
   "cell_type": "code",
   "execution_count": 21,
   "metadata": {},
   "outputs": [
    {
     "name": "stdout",
     "output_type": "stream",
     "text": [
      "{'name': 'John', 'age': 25, 'male': True}\n",
      "Dictionaries are mutable\n"
     ]
    }
   ],
   "source": [
    "# Defining a Dictionary\n",
    "empty_dict = dict()\n",
    "empty_dict = {}\n",
    "dict_ = {'name':'John', 'age':25, 'male': True}\n",
    "print(dict_)\n",
    "\n",
    "# Check for mutable or immutable\n",
    "try:\n",
    "    dict_['name']='Jane'\n",
    "    print('Dictionaries are mutable')\n",
    "except TypeError:\n",
    "    print(\"Dictionaries are immutable\")"
   ]
  },
  {
   "cell_type": "markdown",
   "metadata": {},
   "source": [
    "### Basic Operations"
   ]
  },
  {
   "cell_type": "markdown",
   "metadata": {},
   "source": [
    "#### Type Casting\n",
    "\n",
    "Type casting in Python is the process of converting a value from one data type to another. This can be done explicitly using built-in functions, and it helps in situations where you need to perform operations that require a specific data type.\n",
    "\n",
    "**int():** Converts a value to an integer.\n",
    "\n",
    "**float():** Converts a value to a floating-point number.\n",
    "\n",
    "**str():** Converts a value to a string.\n",
    "\n",
    "**list():** Converts a value (like a string or a tuple) to a list.\n",
    "\n",
    "**tuple():** Converts a value (like a string or a list) to a tuple.\n",
    "\n",
    "**set():** Converts a value (like a list or a tuple) to a set."
   ]
  },
  {
   "cell_type": "code",
   "execution_count": 22,
   "metadata": {},
   "outputs": [
    {
     "name": "stdout",
     "output_type": "stream",
     "text": [
      "True\n",
      "1\n",
      "1.0\n",
      "1.0\n",
      "[5, 1, 2, 4, 2]\n",
      "{1, 2, 4, 5}\n",
      "(1, 2, 4, 5)\n",
      "Casting to a dictionary is not possible since it's requiring key-value pairs.\n"
     ]
    }
   ],
   "source": [
    "# Defining a Boolean\n",
    "boolean_ = True\n",
    "print(boolean_)\n",
    "\n",
    "# Cast boolean to int\n",
    "integer_ = int(boolean_)\n",
    "print(integer_)\n",
    "\n",
    "# Cast int to float\n",
    "float_ = float(integer_)\n",
    "print(float_)\n",
    "\n",
    "# Cast float to string\n",
    "string_ = str(float_)\n",
    "print(string_)\n",
    "\n",
    "# Defining a list\n",
    "list_ = [5,1,2,4,2]\n",
    "print(list_)\n",
    "\n",
    "# Cast list to set\n",
    "set_ = set(list_)\n",
    "print(set_)\n",
    "\n",
    "# Cast set to tuple\n",
    "tuple_ = tuple(set_)\n",
    "print(tuple_)\n",
    "\n",
    "print(\"Casting to a dictionary is not possible since it's requiring key-value pairs.\")"
   ]
  },
  {
   "cell_type": "markdown",
   "metadata": {},
   "source": [
    "#### Slicing\n",
    "\n",
    "Slicing allows you to access a subsequence of a collection, such as a string, list, or tuple.\n",
    "\n",
    "**Syntax:**\n",
    "collection[start:stop:step]"
   ]
  },
  {
   "cell_type": "code",
   "execution_count": 23,
   "metadata": {},
   "outputs": [
    {
     "name": "stdout",
     "output_type": "stream",
     "text": [
      "Hello\n",
      "[0, 1, 2]\n",
      "(0, 1, 2)\n"
     ]
    }
   ],
   "source": [
    "# Defining a variables\n",
    "string_ = 'Hello World!'\n",
    "list_ = [0,1,2,3,4,5]\n",
    "tuple_ = (0,1,2,3,4,5)\n",
    "\n",
    "# Slicing\n",
    "print(string_[0:5])  # Output: Hello\n",
    "print(list_[0:3])    # Output: [0,1,2]\n",
    "print(tuple_[0:3])   # Output: (0,1,2)"
   ]
  },
  {
   "cell_type": "markdown",
   "metadata": {},
   "source": [
    "#### Sorting"
   ]
  },
  {
   "cell_type": "code",
   "execution_count": 24,
   "metadata": {},
   "outputs": [
    {
     "name": "stdout",
     "output_type": "stream",
     "text": [
      "[0, 1, 2, 3, 4, 5]\n",
      "[0, 1, 2, 3, 4, 5]\n",
      "{1: 'Xaver', 2: 'Lukas', 3: 'Adam'}\n",
      "{3: 'Adam', 2: 'Lukas', 1: 'Xaver'}\n"
     ]
    }
   ],
   "source": [
    "# Defining some variables\n",
    "list_ = [2,1,0,3,4,5]\n",
    "tuple_ = (2,1,0,3,4,5)\n",
    "dictionary_ = {3:'Adam', 1:'Xaver', 2:'Lukas'}\n",
    "\n",
    "# Sorting (not inplace)\n",
    "list_ = sorted(list_)\n",
    "print(list_)\n",
    "\n",
    "tuple_ = sorted(tuple_)\n",
    "print(tuple_)\n",
    "\n",
    "# Sorting a dictionary by key\n",
    "dictionary_ = {key: value for key, value in sorted(dictionary_.items(), key=lambda item: item[0])}\n",
    "print(dictionary_)\n",
    "\n",
    "# Sorting a dictionary by value\n",
    "dictionary_ = {key: value for key, value in sorted(dictionary_.items(), key=lambda item: item[1])}\n",
    "print(dictionary_)"
   ]
  },
  {
   "cell_type": "markdown",
   "metadata": {},
   "source": [
    "#### Reversing"
   ]
  },
  {
   "cell_type": "code",
   "execution_count": 25,
   "metadata": {},
   "outputs": [
    {
     "name": "stdout",
     "output_type": "stream",
     "text": [
      "[5, 4, 3, 2, 1, 0]\n",
      "[5, 4, 3, 2, 1, 0]\n",
      "{3: 'Adam', 2: 'Lukas', 1: 'Xaver'}\n",
      "{1: 'Xaver', 2: 'Lukas', 3: 'Adam'}\n"
     ]
    }
   ],
   "source": [
    "# Defining some variables\n",
    "list_ = [0,1,2,3,4,5]\n",
    "tuple_ = (0,1,2,3,4,5)\n",
    "dictionary_ = {3:'Adam', 1:'Xaver', 2:'Lukas'}\n",
    "\n",
    "# Reversing (not inplace)\n",
    "list_ = sorted(list_, reverse=True)\n",
    "print(list_)\n",
    "\n",
    "tuple_ = sorted(tuple_, reverse=True)\n",
    "print(tuple_)\n",
    "\n",
    "# Reversing a dictionary by key\n",
    "dictionary_ = {key: value for key, value in sorted(dictionary_.items(), key=lambda item: item[0], reverse=True)}\n",
    "print(dictionary_)\n",
    "\n",
    "# Reversing a dictionary by value\n",
    "dictionary_ = {key: value for key, value in sorted(dictionary_.items(), key=lambda item: item[1], reverse=True)}\n",
    "print(dictionary_)"
   ]
  },
  {
   "cell_type": "markdown",
   "metadata": {},
   "source": [
    "#### List Comprehension\n",
    "\n",
    "List comprehensions provide a concise way to create lists. They can also be used to create other collections like sets and dictionaries."
   ]
  },
  {
   "cell_type": "code",
   "execution_count": 26,
   "metadata": {},
   "outputs": [
    {
     "name": "stdout",
     "output_type": "stream",
     "text": [
      "[0, 1, 2, 3, 4, 5]\n",
      "[50, 40, 30, 20, 10, 0]\n",
      "[50, 41, 32, 23, 14, 5]\n",
      "{1: 10, 2: 20, 3: 30, 4: 40, 5: 50}\n",
      "{1: 1.0, 2: 2.0, 3: 3.0, 4: 4.0, 5: 5.0}\n",
      "[0, 2, 4]\n",
      "[0, 10, 2, 30, 4, 50]\n"
     ]
    }
   ],
   "source": [
    "# Defining a list with a list comprehension\n",
    "list1_ = [i for i in range(6)]\n",
    "print(list1_)\n",
    "\n",
    "# Modifying a list with a list comprehension\n",
    "list2_ = [i*10 for i in list_]\n",
    "print(list2_)\n",
    "\n",
    "# Using multiple lists via zip\n",
    "list_ = [i+j for i,j in zip(list1_, list2_)]\n",
    "print(list_)\n",
    "\n",
    "# Creating a dictionary with a list comprehension\n",
    "dictionary_ = {i: i*10 for i in range(1,6)}\n",
    "print(dictionary_)\n",
    "\n",
    "# Modifying a dictionary with a list comprehension\n",
    "dictionary_ = {key:value/10 for key,value in dictionary_.items()}\n",
    "print(dictionary_)\n",
    "\n",
    "# If-Statement in a list comprehension\n",
    "list_ = [i for i in range(6) if i%2==0]\n",
    "print(list_)\n",
    "\n",
    "# If-Else Statement in a list comprehension\n",
    "list_ = [i if i%2==0 else i*10 for i in range(6)]\n",
    "print(list_)"
   ]
  },
  {
   "cell_type": "markdown",
   "metadata": {},
   "source": [
    "### Control Flow\n",
    "\n",
    "Control flow in Python refers to the order in which individual statements, instructions, or function calls are executed or evaluated. Python provides several constructs to alter the flow of control within a program. These include conditional statements, loops, and control flow statements like break, continue, and return."
   ]
  },
  {
   "cell_type": "markdown",
   "metadata": {},
   "source": [
    "#### Conditional Statements\n",
    "\n",
    "Conditional Statements: These include if, elif, and else statements, which are used to execute code based on certain conditions.\n",
    "\n",
    "**IF:**\n",
    "\n",
    "The if statement evaluates a condition (an expression that results in a Boolean value, either True or False). If the condition is True, the block of code inside the if statement is executed. If the condition is False, the code inside the if statement is skipped.\n",
    "\n",
    "**ELIF:**\n",
    "\n",
    "The elif (short for \"else if\") statement allows you to check multiple conditions. If the initial if condition is False, the elif condition is evaluated. If the elif condition is True, the corresponding block of code is executed. You can have multiple elif statements to check different conditions sequentially.\n",
    "\n",
    "**ELSE:**\n",
    "\n",
    "The else statement provides a block of code that will be executed if none of the preceding conditions (if or elif) are True. This is essentially a \"catch-all\" for when no specified conditions are met."
   ]
  },
  {
   "cell_type": "code",
   "execution_count": 27,
   "metadata": {},
   "outputs": [
    {
     "name": "stdout",
     "output_type": "stream",
     "text": [
      "1 \t 1\n",
      "2 \t 2\n",
      "3 \t Fizz\n",
      "4 \t 4\n",
      "5 \t Buzz\n",
      "6 \t Fizz\n",
      "7 \t 7\n",
      "8 \t 8\n",
      "9 \t Fizz\n",
      "10 \t Buzz\n",
      "11 \t 11\n",
      "12 \t Fizz\n",
      "13 \t 13\n",
      "14 \t 14\n",
      "15 \t FizzBuzz\n"
     ]
    }
   ],
   "source": [
    "def fizzbuzz(range_=16):\n",
    "    for i in range(1, range_):\n",
    "        if i%3==0 and i%5==0:\n",
    "            print(i, '\\t', 'FizzBuzz')\n",
    "        elif i%3==0:\n",
    "            print(i, '\\t', 'Fizz')\n",
    "        elif i%5==0:\n",
    "            print(i, '\\t', 'Buzz')\n",
    "        else:\n",
    "            print(i, '\\t', i)\n",
    "\n",
    "fizzbuzz()"
   ]
  },
  {
   "cell_type": "markdown",
   "metadata": {},
   "source": [
    "##### The Importance of Using IF-ELIF-ELSE\n",
    "\n",
    "**Using Only if Statements:**\n",
    "\n",
    "When you use multiple if statements, each condition is checked independently. This means that all if statements whose conditions evaluate to True will execute their corresponding blocks of code.\n",
    "\n",
    "**Using if, elif, and else Statements:**\n",
    "\n",
    "When you use if, elif, and else statements, they are part of a single conditional block. Once one of the conditions is True, the corresponding block of code executes, *and the rest of the conditional block is skipped.*"
   ]
  },
  {
   "cell_type": "code",
   "execution_count": 28,
   "metadata": {},
   "outputs": [
    {
     "name": "stdout",
     "output_type": "stream",
     "text": [
      "x is greater than 5\n",
      "x is greater than 8\n",
      "x is less than 15\n"
     ]
    }
   ],
   "source": [
    "# Using only if, checks and triggers each condition independently\n",
    "x = 10\n",
    "\n",
    "if x > 5:\n",
    "    print(\"x is greater than 5\")\n",
    "if x > 8:\n",
    "    print(\"x is greater than 8\")\n",
    "if x > 10:\n",
    "    print(\"x is greater than 10\")\n",
    "if x < 15:\n",
    "    print(\"x is less than 15\")"
   ]
  },
  {
   "cell_type": "code",
   "execution_count": 29,
   "metadata": {},
   "outputs": [
    {
     "name": "stdout",
     "output_type": "stream",
     "text": [
      "x is greater than 5\n"
     ]
    }
   ],
   "source": [
    "# Using if, elif and else only triggers the first TRUE argument\n",
    "x = 10\n",
    "\n",
    "if x > 5:\n",
    "    print(\"x is greater than 5\")\n",
    "elif x > 8:\n",
    "    print(\"x is greater than 8\")\n",
    "elif x > 10:\n",
    "    print(\"x is greater than 10\")\n",
    "else:\n",
    "    print(\"x is less than or equal to 5\")"
   ]
  },
  {
   "cell_type": "markdown",
   "metadata": {},
   "source": [
    "#### Loops\n",
    "\n",
    "These include for and while loops, which are used to repeat a block of code multiple times."
   ]
  },
  {
   "cell_type": "markdown",
   "metadata": {},
   "source": [
    "##### For Loop\n",
    "\n",
    "A for loop in Python is used to iterate over a sequence (such as a list, tuple, dictionary, set, or string) or any other iterable object. Best used when you know the number of iterations in advance, or when you need to iterate over elements of a sequence (like a list, tuple, or string)."
   ]
  },
  {
   "cell_type": "code",
   "execution_count": 30,
   "metadata": {},
   "outputs": [
    {
     "name": "stdout",
     "output_type": "stream",
     "text": [
      "1\n",
      "2\n",
      "3\n"
     ]
    }
   ],
   "source": [
    "for i in range(1,4):\n",
    "    print(i)"
   ]
  },
  {
   "cell_type": "markdown",
   "metadata": {},
   "source": [
    "##### While Loop\n",
    "\n",
    "A while loop in Python repeatedly executes a block of code _as long as a given condition is TRUE_. Best used when the number of iterations is not known beforehand and depends on a condition. "
   ]
  },
  {
   "cell_type": "code",
   "execution_count": 31,
   "metadata": {},
   "outputs": [
    {
     "name": "stdout",
     "output_type": "stream",
     "text": [
      "1\n",
      "2\n",
      "3\n"
     ]
    }
   ],
   "source": [
    "counter = 1\n",
    "while counter < 4:\n",
    "    print(counter)\n",
    "    counter += 1"
   ]
  },
  {
   "cell_type": "markdown",
   "metadata": {},
   "source": [
    "##### Control Flow Statements in Python\n",
    "\n",
    "Python provides several control flow statements to manage the execution of loops and conditionals. Here's a brief explanation of continue, break, pass, and other related statements"
   ]
  },
  {
   "cell_type": "markdown",
   "metadata": {},
   "source": [
    "###### continue\n",
    "\n",
    "Purpose: Skip the current iteration of a loop and move to the next iteration.\n",
    "\n",
    "Usage: Used inside loops (for and while)."
   ]
  },
  {
   "cell_type": "code",
   "execution_count": 32,
   "metadata": {},
   "outputs": [
    {
     "name": "stdout",
     "output_type": "stream",
     "text": [
      "0\n",
      "1\n",
      "3\n",
      "4\n"
     ]
    }
   ],
   "source": [
    "for i in range(5):\n",
    "    if i == 2:\n",
    "        continue  # Skip the rest of the code inside the loop for this iteration\n",
    "    print(i)"
   ]
  },
  {
   "cell_type": "markdown",
   "metadata": {},
   "source": [
    "###### break\n",
    "\n",
    "Purpose: Exit the nearest enclosing loop immediately.\n",
    "\n",
    "Usage: Used inside loops (for and while)."
   ]
  },
  {
   "cell_type": "code",
   "execution_count": 33,
   "metadata": {},
   "outputs": [
    {
     "name": "stdout",
     "output_type": "stream",
     "text": [
      "0\n",
      "1\n"
     ]
    }
   ],
   "source": [
    "for i in range(5):\n",
    "    if i == 2:\n",
    "        break  # Exit the loop\n",
    "    print(i)"
   ]
  },
  {
   "cell_type": "markdown",
   "metadata": {},
   "source": [
    "###### pass\n",
    "\n",
    "Purpose: Do nothing. It acts as a placeholder where syntactically some code is required but you don't want any action to be taken.\n",
    "\n",
    "Usage: Used in loops, functions, classes, or conditionals where code is syntactically required but you want to leave it empty for now."
   ]
  },
  {
   "cell_type": "code",
   "execution_count": 34,
   "metadata": {},
   "outputs": [
    {
     "name": "stdout",
     "output_type": "stream",
     "text": [
      "0\n",
      "1\n",
      "2\n",
      "3\n",
      "4\n"
     ]
    }
   ],
   "source": [
    "for i in range(5):\n",
    "    if i == 2:\n",
    "        pass  # Do nothing\n",
    "    print(i)"
   ]
  },
  {
   "cell_type": "markdown",
   "metadata": {},
   "source": [
    "###### return\n",
    "\n",
    "Purpose: Exit a function and optionally return a value.\n",
    "\n",
    "Usage: Used inside functions."
   ]
  },
  {
   "cell_type": "code",
   "execution_count": 35,
   "metadata": {},
   "outputs": [
    {
     "name": "stdout",
     "output_type": "stream",
     "text": [
      "8\n"
     ]
    }
   ],
   "source": [
    "def add(a, b):\n",
    "    return a + b  # Exit the function and return the sum\n",
    "\n",
    "result = add(5, 3)\n",
    "print(result)  # Output: 8"
   ]
  },
  {
   "cell_type": "markdown",
   "metadata": {},
   "source": [
    "###### yield\n",
    "\n",
    "Purpose: Pause a function and return an intermediate result, resuming the function later. It turns a function into a generator.\n",
    "\n",
    "Usage: Used inside functions that define generators."
   ]
  },
  {
   "cell_type": "code",
   "execution_count": 36,
   "metadata": {},
   "outputs": [
    {
     "name": "stdout",
     "output_type": "stream",
     "text": [
      "0\n",
      "1\n",
      "2\n",
      "3\n",
      "4\n"
     ]
    }
   ],
   "source": [
    "def generate_numbers():\n",
    "    for i in range(5):\n",
    "        yield i  # Pause and return an intermediate result\n",
    "\n",
    "for number in generate_numbers():\n",
    "    print(number)"
   ]
  },
  {
   "cell_type": "markdown",
   "metadata": {},
   "source": [
    "### Functions\n",
    "\n",
    "Functions in Python are blocks of reusable code that perform a specific task. Functions help in breaking down large code into smaller, modular pieces, making the code more organized and manageable.\n",
    "\n",
    "**Function Features**\n",
    "\n",
    "1. _Arguments and Parameters:_\n",
    "\n",
    "- Positional Arguments: Arguments that need to be passed in a specific order.\n",
    "- Keyword Arguments: Arguments that are passed by explicitly naming each parameter and assigning it a value.\n",
    "- Default Parameters: Parameters that assume a default value if a value is not provided in the function call.\n",
    "- Variable-length Arguments:\n",
    "    - *args: For non-keyworded, variable-length arguments.\n",
    "    - **kwargs: For keyworded, variable-length arguments.\n",
    "- Type Hints: Indicates that the Type hints can be very helpful in large codebases or when working in teams, as they make it clear what types of arguments a function expects and what it returns.\n",
    "    - b:int=2, b should be of type integer and it's default value is 2\n",
    "    - def add(x:int, y:int) -> int:, function 'add' takes two inputs (integers) and is returning another integer\n",
    "\n",
    "2. _Return Statement:_\n",
    "\n",
    "- Used to return a value from the function. If no return statement is used, the function returns None.\n",
    "\n",
    "3. _Docstring:_\n",
    "\n",
    "- A string literal that occurs as the first statement in a function, used to describe the function’s purpose.\n",
    "\n",
    "4. _Scope and Lifetime:_\n",
    "\n",
    "- Variables defined inside a function are local to that function and cannot be accessed outside. The lifetime of these variables is the duration of the function’s execution."
   ]
  },
  {
   "cell_type": "code",
   "execution_count": 37,
   "metadata": {},
   "outputs": [
    {
     "name": "stdout",
     "output_type": "stream",
     "text": [
      "Positional argument a: 1\n",
      "Default parameter b: 3\n",
      "Variable-length non-keyworded arguments (*args): (4, 5)\n",
      "Variable-length keyworded arguments (**kwargs): {'x': 10, 'y': 20}\n",
      "Result: 43\n"
     ]
    }
   ],
   "source": [
    "def example_function(a:int, b:int=2, *args, **kwargs) -> int:\n",
    "    \"\"\"\n",
    "    This is a Docstring...\n",
    "\n",
    "    This function demonstrates the use of positional arguments, default parameters,\n",
    "    variable-length arguments (*args), and keyworded variable-length arguments (**kwargs).\n",
    "    \"\"\"\n",
    "    print(\"Positional argument a:\", a)\n",
    "    print(\"Default parameter b:\", b)\n",
    "    \n",
    "    # Handling *args\n",
    "    print(\"Variable-length non-keyworded arguments (*args):\", args)\n",
    "    \n",
    "    # Handling **kwargs\n",
    "    print(\"Variable-length keyworded arguments (**kwargs):\", kwargs)\n",
    "    \n",
    "    # Example of returning a value\n",
    "    return a + b + sum(args) + sum(kwargs.values())\n",
    "\n",
    "# Calling the function with different types of arguments\n",
    "result = example_function(1, 3, 4, 5, x=10, y=20)\n",
    "\n",
    "print(\"Result:\", result)"
   ]
  },
  {
   "cell_type": "markdown",
   "metadata": {},
   "source": [
    "### Classes\n",
    "\n",
    "A class is a blueprint for creating objects. An object is an instance of a class."
   ]
  },
  {
   "cell_type": "markdown",
   "metadata": {},
   "source": [
    "#### What is an Object?\n",
    "\n",
    "In Python, an object is a fundamental building block of object-oriented programming (OOP). An object is an instance of a class and can contain data and methods that operate on that data. Everything in Python is an object, including numbers, strings, functions, and even classes themselves.\n",
    "\n",
    "**Key Characteristics of Objects:**\n",
    "- Attributes: These are variables that belong to the object. They store the state or data of the object.\n",
    "- Methods: These are functions that belong to the object. They define the behaviors or actions that the object can perform.\n",
    "- Identity: Each object has a unique identifier (its memory address) that distinguishes it from other objects.\n",
    "- Type: The class to which the object belongs. The type of an object determines the kinds of operations that can be performed on it."
   ]
  },
  {
   "cell_type": "code",
   "execution_count": 38,
   "metadata": {},
   "outputs": [
    {
     "name": "stdout",
     "output_type": "stream",
     "text": [
      "<class 'str'>\n",
      "HELLO\n"
     ]
    }
   ],
   "source": [
    "# Defining a object of type/class 'string'\n",
    "# Variable string_ is, after defining, an attribute of the class 'string'\n",
    "string_ = 'Hello'\n",
    "\n",
    "# Printing the type of the object\n",
    "print(type(string_))\n",
    "\n",
    "# Built-in methods of the class 'string'\n",
    "print(string_.upper())"
   ]
  },
  {
   "cell_type": "code",
   "execution_count": 39,
   "metadata": {},
   "outputs": [],
   "source": [
    "class Pet:\n",
    "    # This is a class attribute and keeps track of the number of pets created\n",
    "    # A class attribute is shared by all instances of this class\n",
    "    number_of_pets = 0\n",
    "\n",
    "    def __init__(self, name:str, age:int):\n",
    "        \"\"\"\n",
    "        The __init__ method is a special method in Python classes known as the constructor. It is automatically called when a new instance of the class is created.\n",
    "        Usage: It initializes the object's attributes and sets up any initial state.\n",
    "        \"\"\"\n",
    "        # Variable defined with 'self' are instance attributes and are unique to each instance/object of the class\n",
    "        # e.g. if you create two instances of the class 'Pet', each instance will have its own 'name' and 'age' attribute\n",
    "        self.name = name\n",
    "        self.age = age\n",
    "        Pet.number_of_pets += 1\n",
    "\n",
    "    def get_name(self) -> str:\n",
    "        return self.name\n",
    "    \n",
    "    def get_age(self) -> int:\n",
    "        return self.age\n",
    "    \n",
    "    def set_name(self, name:str):\n",
    "        self.name = name\n",
    "\n",
    "    def set_age(self, age:int):\n",
    "        self.age = age\n",
    "\n",
    "    def describe(self) -> str:\n",
    "        return f\"I am {self.name} and I am {self.age} years old.\"\n",
    "\n",
    "    def speak(self):\n",
    "        return \"I don't know what to say.\"\n",
    "\n",
    "# Inheritance allows a new class (child class) to inherit attributes and methods from an existing class = Cat (parent class = Pet).\n",
    "# This promotes code reuse and creates a hierarchical relationship between classes.\n",
    "class Cat(Pet):\n",
    "    def __init__(self, name:str, age:int, color:str):\n",
    "        \"\"\"\n",
    "        super() is used to call a method from the parent class.\n",
    "        When combined with __init__, it initializes the parent class's attributes in the child class.\n",
    "        Usage: Typically used in the __init__ method of a child class to ensure the parent class is properly initialized.\n",
    "        \"\"\"\n",
    "        super().__init__(name, age)\n",
    "        self.color = color\n",
    "\n",
    "    def describe(self) -> str:\n",
    "        \"\"\"\n",
    "        this method in the child class overrides the method in the parent class with the same name.\n",
    "        \"\"\"\n",
    "        return f\"I am {self.name}, {self.age} years old and {self.color} in color.\"\n",
    "    \n",
    "    def speak(self):\n",
    "        return \"Meow!\"\n",
    "    \n",
    "class Dog(Pet):\n",
    "    def __init__(self, name:str, age:int, breed:str):\n",
    "        super().__init__(name, age)\n",
    "        self.breed = breed\n",
    "\n",
    "    def describe(self) -> str:\n",
    "        return f\"I am {self.name}, {self.age} years old and a dog of the breed {self.breed}.\"\n",
    "\n",
    "    def speak(self):\n",
    "        return \"Woof!\""
   ]
  },
  {
   "cell_type": "code",
   "execution_count": 40,
   "metadata": {},
   "outputs": [
    {
     "name": "stdout",
     "output_type": "stream",
     "text": [
      "Pet: Helmut\n",
      "Number of pets:  1\n",
      "I am Helmut and I am 5 years old.\n",
      "I don't know what to say.\n"
     ]
    }
   ],
   "source": [
    "p1 = Pet(\"Helmut\", 5)\n",
    "print('Pet:', p1.get_name())\n",
    "print('Number of pets: ', p1.number_of_pets)\n",
    "print(p1.describe())\n",
    "print(p1.speak())"
   ]
  },
  {
   "cell_type": "code",
   "execution_count": 41,
   "metadata": {},
   "outputs": [
    {
     "name": "stdout",
     "output_type": "stream",
     "text": [
      "Cat: Felix\n",
      "Number of pets:  2\n",
      "I am Felix, 3 years old and White in color.\n",
      "Meow!\n"
     ]
    }
   ],
   "source": [
    "c1 = Cat('Felix', 3, 'White')\n",
    "print('Cat:', c1.get_name())\n",
    "print('Number of pets: ', c1.number_of_pets)\n",
    "print(c1.describe())\n",
    "print(c1.speak())"
   ]
  }
 ],
 "metadata": {
  "kernelspec": {
   "display_name": "myenv",
   "language": "python",
   "name": "python3"
  },
  "language_info": {
   "codemirror_mode": {
    "name": "ipython",
    "version": 3
   },
   "file_extension": ".py",
   "mimetype": "text/x-python",
   "name": "python",
   "nbconvert_exporter": "python",
   "pygments_lexer": "ipython3",
   "version": "3.10.13"
  }
 },
 "nbformat": 4,
 "nbformat_minor": 2
}
