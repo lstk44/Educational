{
 "cells": [
  {
   "cell_type": "markdown",
   "id": "62377a09",
   "metadata": {},
   "source": [
    "# SQL"
   ]
  },
  {
   "cell_type": "code",
   "execution_count": 1,
   "id": "2ecebb3b",
   "metadata": {},
   "outputs": [],
   "source": [
    "import polars as pl"
   ]
  },
  {
   "cell_type": "code",
   "execution_count": 2,
   "id": "aceb2a88",
   "metadata": {},
   "outputs": [],
   "source": [
    "employees = [\n",
    "    {\n",
    "        'EmployeeID': 1,\n",
    "        'FirstName': 'John',\n",
    "        'LastName': 'Doe',\n",
    "        'Salary': 60000.0,\n",
    "        'HireDate': '2020-01-15',\n",
    "        'ExitDate': None,\n",
    "        'DepartmentID': 1,\n",
    "        'PhoneNumber': '123-456-7890',\n",
    "        'Email': 'john.doe@example.com',\n",
    "        'ManagerID': None\n",
    "    },\n",
    "    {\n",
    "        'EmployeeID': 2,\n",
    "        'FirstName': '  Jane',\n",
    "        'LastName': 'Smith',\n",
    "        'Salary': 75000.0,\n",
    "        'HireDate': '2018-07-01',\n",
    "        'ExitDate': None,\n",
    "        'DepartmentID': 2,\n",
    "        'PhoneNumber': '789-456-7890',\n",
    "        'Email': 'jane.smith@example.com',\n",
    "        'ManagerID': 1\n",
    "    },\n",
    "    {\n",
    "        'EmployeeID': 3,\n",
    "        'FirstName': ' Alice ',\n",
    "        'LastName': 'Johnson',\n",
    "        'Salary': 50000.0,\n",
    "        'HireDate': '2021-01-01',\n",
    "        'ExitDate': None,\n",
    "        'DepartmentID': 1,\n",
    "        'PhoneNumber': '345-456-7890',\n",
    "        'Email': 'alice.johnson@example.com',\n",
    "        'ManagerID': 1\n",
    "    },\n",
    "    {\n",
    "        'EmployeeID': 4,\n",
    "        'FirstName': 'Bob',\n",
    "        'LastName': 'Brown',\n",
    "        'Salary': 45000.0,\n",
    "        'HireDate': '2019-11-15',\n",
    "        'ExitDate': '2023-01-01',\n",
    "        'DepartmentID': 3,\n",
    "        'PhoneNumber': '987-456-7890',\n",
    "        'Email': 'bob.brown@example.com',\n",
    "        'ManagerID': 2\n",
    "    },\n",
    "    {\n",
    "        'EmployeeID': 5,\n",
    "        'FirstName': 'Charlie',\n",
    "        'LastName': 'Davis',\n",
    "        'Salary': 80000.0,\n",
    "        'HireDate': '2016-01-15',\n",
    "        'ExitDate': None,\n",
    "        'DepartmentID': 2,\n",
    "        'PhoneNumber': '321-456-7890',\n",
    "        'Email': 'charlie.davis@example.com',\n",
    "        'ManagerID': None\n",
    "    },\n",
    "    {\n",
    "        'EmployeeID': 6,\n",
    "        'FirstName': 'Eve',\n",
    "        'LastName': 'Wilson',\n",
    "        'Salary': 90000.0,\n",
    "        'HireDate': '2020-07-15',\n",
    "        'ExitDate': None,\n",
    "        'DepartmentID': 3,\n",
    "        'PhoneNumber': '147-456-7890',\n",
    "        'Email': 'eve.wilson@example.com',\n",
    "        'ManagerID': 2\n",
    "    },\n",
    "    {\n",
    "        'EmployeeID': 7,\n",
    "        'FirstName': 'Frank',\n",
    "        'LastName': 'Taylor',\n",
    "        'Salary': 55000.0,\n",
    "        'HireDate': '2022-10-01',\n",
    "        'ExitDate': None,\n",
    "        'DepartmentID': 1,\n",
    "        'PhoneNumber': '945-456-7890',\n",
    "        'Email': None,\n",
    "        'ManagerID': 3\n",
    "    },\n",
    "    {\n",
    "        'EmployeeID': 8,\n",
    "        'FirstName': 'Dan',\n",
    "        'LastName': 'Smith',\n",
    "        'Salary': 55000.0,\n",
    "        'HireDate': '2020-11-15',\n",
    "        'ExitDate': None,\n",
    "        'DepartmentID': 5,\n",
    "        'PhoneNumber': None,\n",
    "        'Email': None,\n",
    "        'ManagerID': None\n",
    "    },\n",
    "]\n",
    "\n",
    "departments = [\n",
    "    {\n",
    "        'DepartmentID': 1,\n",
    "        'DepartmentName': \"HR\",\n",
    "        'Location': 'New York'\n",
    "    },\n",
    "    {\n",
    "        'DepartmentID': 2,\n",
    "        'DepartmentName': \"Engineering\",\n",
    "        'Location': 'San Francisco'\n",
    "    },\n",
    "    {\n",
    "        'DepartmentID': 3,\n",
    "        'DepartmentName': \"Finance\",\n",
    "        'Location': 'Chicago'\n",
    "    },\n",
    "    {\n",
    "        'DepartmentID': 4,\n",
    "        'DepartmentName': \"IT\",\n",
    "        'Location': 'Denver'\n",
    "    },\n",
    "]\n",
    "\n",
    "state_log = [\n",
    "    {\n",
    "        'StateID': 1,\n",
    "        'EntityID': 1,\n",
    "        'State': 'Created',\n",
    "        'TransitionTime': '2023-01-01 10:00:00'\n",
    "    },\n",
    "    {\n",
    "        'StateID': 2,\n",
    "        'EntityID': 1,\n",
    "        'State': 'Processing',\n",
    "        'TransitionTime': '2023-01-01 12:00:00'\n",
    "    },\n",
    "    {\n",
    "        'StateID': 3,\n",
    "        'EntityID': 1,\n",
    "        'State': 'Completed',\n",
    "        'TransitionTime': '2023-01-01 15:00:00'\n",
    "    },\n",
    "    {\n",
    "        'StateID': 4,\n",
    "        'EntityID': 2,\n",
    "        'State': 'Created',\n",
    "        'TransitionTime': '2023-01-02 09:00:00'\n",
    "    },\n",
    "    {\n",
    "        'StateID': 5,\n",
    "        'EntityID': 2,\n",
    "        'State': 'Processing',\n",
    "        'TransitionTime': '2023-01-02 11:00:00'\n",
    "    },\n",
    "    {\n",
    "        'StateID': 6,\n",
    "        'EntityID': 2,\n",
    "        'State': 'Failed',\n",
    "        'TransitionTime': '2023-01-02 14:00:00'\n",
    "    },\n",
    "]"
   ]
  },
  {
   "cell_type": "code",
   "execution_count": 3,
   "id": "35087702",
   "metadata": {},
   "outputs": [],
   "source": [
    "emp = pl.DataFrame(employees)\n",
    "\n",
    "dep = pl.DataFrame(departments)\n",
    "\n",
    "state = pl.DataFrame(state_log)"
   ]
  },
  {
   "cell_type": "markdown",
   "id": "98c54e2b",
   "metadata": {},
   "source": [
    "## Basic SQL Queries"
   ]
  },
  {
   "cell_type": "markdown",
   "id": "e3f0c205",
   "metadata": {},
   "source": [
    "### SELECT\n",
    "\n",
    "Retrieve data from database"
   ]
  },
  {
   "cell_type": "code",
   "execution_count": 4,
   "id": "3c9a8594",
   "metadata": {},
   "outputs": [
    {
     "data": {
      "text/html": [
       "<div><style>\n",
       ".dataframe > thead > tr,\n",
       ".dataframe > tbody > tr {\n",
       "  text-align: right;\n",
       "  white-space: pre-wrap;\n",
       "}\n",
       "</style>\n",
       "<small>shape: (8, 10)</small><table border=\"1\" class=\"dataframe\"><thead><tr><th>EmployeeID</th><th>FirstName</th><th>LastName</th><th>Salary</th><th>HireDate</th><th>ExitDate</th><th>DepartmentID</th><th>PhoneNumber</th><th>Email</th><th>ManagerID</th></tr><tr><td>i64</td><td>str</td><td>str</td><td>f64</td><td>str</td><td>str</td><td>i64</td><td>str</td><td>str</td><td>i64</td></tr></thead><tbody><tr><td>1</td><td>&quot;John&quot;</td><td>&quot;Doe&quot;</td><td>60000.0</td><td>&quot;2020-01-15&quot;</td><td>null</td><td>1</td><td>&quot;123-456-7890&quot;</td><td>&quot;john.doe@example.com&quot;</td><td>null</td></tr><tr><td>2</td><td>&quot;&nbsp;&nbsp;Jane&quot;</td><td>&quot;Smith&quot;</td><td>75000.0</td><td>&quot;2018-07-01&quot;</td><td>null</td><td>2</td><td>&quot;789-456-7890&quot;</td><td>&quot;jane.smith@example.com&quot;</td><td>1</td></tr><tr><td>3</td><td>&quot; Alice &quot;</td><td>&quot;Johnson&quot;</td><td>50000.0</td><td>&quot;2021-01-01&quot;</td><td>null</td><td>1</td><td>&quot;345-456-7890&quot;</td><td>&quot;alice.johnson@example.com&quot;</td><td>1</td></tr><tr><td>4</td><td>&quot;Bob&quot;</td><td>&quot;Brown&quot;</td><td>45000.0</td><td>&quot;2019-11-15&quot;</td><td>&quot;2023-01-01&quot;</td><td>3</td><td>&quot;987-456-7890&quot;</td><td>&quot;bob.brown@example.com&quot;</td><td>2</td></tr><tr><td>5</td><td>&quot;Charlie&quot;</td><td>&quot;Davis&quot;</td><td>80000.0</td><td>&quot;2016-01-15&quot;</td><td>null</td><td>2</td><td>&quot;321-456-7890&quot;</td><td>&quot;charlie.davis@example.com&quot;</td><td>null</td></tr><tr><td>6</td><td>&quot;Eve&quot;</td><td>&quot;Wilson&quot;</td><td>90000.0</td><td>&quot;2020-07-15&quot;</td><td>null</td><td>3</td><td>&quot;147-456-7890&quot;</td><td>&quot;eve.wilson@example.com&quot;</td><td>2</td></tr><tr><td>7</td><td>&quot;Frank&quot;</td><td>&quot;Taylor&quot;</td><td>55000.0</td><td>&quot;2022-10-01&quot;</td><td>null</td><td>1</td><td>&quot;945-456-7890&quot;</td><td>null</td><td>3</td></tr><tr><td>8</td><td>&quot;Dan&quot;</td><td>&quot;Smith&quot;</td><td>55000.0</td><td>&quot;2020-11-15&quot;</td><td>null</td><td>5</td><td>null</td><td>null</td><td>null</td></tr></tbody></table></div>"
      ],
      "text/plain": [
       "shape: (8, 10)\n",
       "┌────────────┬───────────┬──────────┬─────────┬───┬────────────┬───────────┬───────────┬───────────┐\n",
       "│ EmployeeID ┆ FirstName ┆ LastName ┆ Salary  ┆ … ┆ Department ┆ PhoneNumb ┆ Email     ┆ ManagerID │\n",
       "│ ---        ┆ ---       ┆ ---      ┆ ---     ┆   ┆ ID         ┆ er        ┆ ---       ┆ ---       │\n",
       "│ i64        ┆ str       ┆ str      ┆ f64     ┆   ┆ ---        ┆ ---       ┆ str       ┆ i64       │\n",
       "│            ┆           ┆          ┆         ┆   ┆ i64        ┆ str       ┆           ┆           │\n",
       "╞════════════╪═══════════╪══════════╪═════════╪═══╪════════════╪═══════════╪═══════════╪═══════════╡\n",
       "│ 1          ┆ John      ┆ Doe      ┆ 60000.0 ┆ … ┆ 1          ┆ 123-456-7 ┆ john.doe@ ┆ null      │\n",
       "│            ┆           ┆          ┆         ┆   ┆            ┆ 890       ┆ example.c ┆           │\n",
       "│            ┆           ┆          ┆         ┆   ┆            ┆           ┆ om        ┆           │\n",
       "│ 2          ┆   Jane    ┆ Smith    ┆ 75000.0 ┆ … ┆ 2          ┆ 789-456-7 ┆ jane.smit ┆ 1         │\n",
       "│            ┆           ┆          ┆         ┆   ┆            ┆ 890       ┆ h@example ┆           │\n",
       "│            ┆           ┆          ┆         ┆   ┆            ┆           ┆ .com      ┆           │\n",
       "│ 3          ┆  Alice    ┆ Johnson  ┆ 50000.0 ┆ … ┆ 1          ┆ 345-456-7 ┆ alice.joh ┆ 1         │\n",
       "│            ┆           ┆          ┆         ┆   ┆            ┆ 890       ┆ nson@exam ┆           │\n",
       "│            ┆           ┆          ┆         ┆   ┆            ┆           ┆ ple.com   ┆           │\n",
       "│ 4          ┆ Bob       ┆ Brown    ┆ 45000.0 ┆ … ┆ 3          ┆ 987-456-7 ┆ bob.brown ┆ 2         │\n",
       "│            ┆           ┆          ┆         ┆   ┆            ┆ 890       ┆ @example. ┆           │\n",
       "│            ┆           ┆          ┆         ┆   ┆            ┆           ┆ com       ┆           │\n",
       "│ 5          ┆ Charlie   ┆ Davis    ┆ 80000.0 ┆ … ┆ 2          ┆ 321-456-7 ┆ charlie.d ┆ null      │\n",
       "│            ┆           ┆          ┆         ┆   ┆            ┆ 890       ┆ avis@exam ┆           │\n",
       "│            ┆           ┆          ┆         ┆   ┆            ┆           ┆ ple.com   ┆           │\n",
       "│ 6          ┆ Eve       ┆ Wilson   ┆ 90000.0 ┆ … ┆ 3          ┆ 147-456-7 ┆ eve.wilso ┆ 2         │\n",
       "│            ┆           ┆          ┆         ┆   ┆            ┆ 890       ┆ n@example ┆           │\n",
       "│            ┆           ┆          ┆         ┆   ┆            ┆           ┆ .com      ┆           │\n",
       "│ 7          ┆ Frank     ┆ Taylor   ┆ 55000.0 ┆ … ┆ 1          ┆ 945-456-7 ┆ null      ┆ 3         │\n",
       "│            ┆           ┆          ┆         ┆   ┆            ┆ 890       ┆           ┆           │\n",
       "│ 8          ┆ Dan       ┆ Smith    ┆ 55000.0 ┆ … ┆ 5          ┆ null      ┆ null      ┆ null      │\n",
       "└────────────┴───────────┴──────────┴─────────┴───┴────────────┴───────────┴───────────┴───────────┘"
      ]
     },
     "execution_count": 4,
     "metadata": {},
     "output_type": "execute_result"
    }
   ],
   "source": [
    "pl.sql(\n",
    "    \"\"\"\n",
    "    SELECT\n",
    "        *\n",
    "    FROM\n",
    "        emp\n",
    "    \"\"\"\n",
    ").collect()"
   ]
  },
  {
   "cell_type": "markdown",
   "id": "e893acbb",
   "metadata": {},
   "source": [
    "### WHERE\n",
    "\n",
    "Filter records based on conditions"
   ]
  },
  {
   "cell_type": "code",
   "execution_count": 5,
   "id": "6aece844",
   "metadata": {},
   "outputs": [
    {
     "data": {
      "text/html": [
       "<div><style>\n",
       ".dataframe > thead > tr,\n",
       ".dataframe > tbody > tr {\n",
       "  text-align: right;\n",
       "  white-space: pre-wrap;\n",
       "}\n",
       "</style>\n",
       "<small>shape: (6, 10)</small><table border=\"1\" class=\"dataframe\"><thead><tr><th>EmployeeID</th><th>FirstName</th><th>LastName</th><th>Salary</th><th>HireDate</th><th>ExitDate</th><th>DepartmentID</th><th>PhoneNumber</th><th>Email</th><th>ManagerID</th></tr><tr><td>i64</td><td>str</td><td>str</td><td>f64</td><td>str</td><td>str</td><td>i64</td><td>str</td><td>str</td><td>i64</td></tr></thead><tbody><tr><td>1</td><td>&quot;John&quot;</td><td>&quot;Doe&quot;</td><td>60000.0</td><td>&quot;2020-01-15&quot;</td><td>null</td><td>1</td><td>&quot;123-456-7890&quot;</td><td>&quot;john.doe@example.com&quot;</td><td>null</td></tr><tr><td>2</td><td>&quot;&nbsp;&nbsp;Jane&quot;</td><td>&quot;Smith&quot;</td><td>75000.0</td><td>&quot;2018-07-01&quot;</td><td>null</td><td>2</td><td>&quot;789-456-7890&quot;</td><td>&quot;jane.smith@example.com&quot;</td><td>1</td></tr><tr><td>5</td><td>&quot;Charlie&quot;</td><td>&quot;Davis&quot;</td><td>80000.0</td><td>&quot;2016-01-15&quot;</td><td>null</td><td>2</td><td>&quot;321-456-7890&quot;</td><td>&quot;charlie.davis@example.com&quot;</td><td>null</td></tr><tr><td>6</td><td>&quot;Eve&quot;</td><td>&quot;Wilson&quot;</td><td>90000.0</td><td>&quot;2020-07-15&quot;</td><td>null</td><td>3</td><td>&quot;147-456-7890&quot;</td><td>&quot;eve.wilson@example.com&quot;</td><td>2</td></tr><tr><td>7</td><td>&quot;Frank&quot;</td><td>&quot;Taylor&quot;</td><td>55000.0</td><td>&quot;2022-10-01&quot;</td><td>null</td><td>1</td><td>&quot;945-456-7890&quot;</td><td>null</td><td>3</td></tr><tr><td>8</td><td>&quot;Dan&quot;</td><td>&quot;Smith&quot;</td><td>55000.0</td><td>&quot;2020-11-15&quot;</td><td>null</td><td>5</td><td>null</td><td>null</td><td>null</td></tr></tbody></table></div>"
      ],
      "text/plain": [
       "shape: (6, 10)\n",
       "┌────────────┬───────────┬──────────┬─────────┬───┬────────────┬───────────┬───────────┬───────────┐\n",
       "│ EmployeeID ┆ FirstName ┆ LastName ┆ Salary  ┆ … ┆ Department ┆ PhoneNumb ┆ Email     ┆ ManagerID │\n",
       "│ ---        ┆ ---       ┆ ---      ┆ ---     ┆   ┆ ID         ┆ er        ┆ ---       ┆ ---       │\n",
       "│ i64        ┆ str       ┆ str      ┆ f64     ┆   ┆ ---        ┆ ---       ┆ str       ┆ i64       │\n",
       "│            ┆           ┆          ┆         ┆   ┆ i64        ┆ str       ┆           ┆           │\n",
       "╞════════════╪═══════════╪══════════╪═════════╪═══╪════════════╪═══════════╪═══════════╪═══════════╡\n",
       "│ 1          ┆ John      ┆ Doe      ┆ 60000.0 ┆ … ┆ 1          ┆ 123-456-7 ┆ john.doe@ ┆ null      │\n",
       "│            ┆           ┆          ┆         ┆   ┆            ┆ 890       ┆ example.c ┆           │\n",
       "│            ┆           ┆          ┆         ┆   ┆            ┆           ┆ om        ┆           │\n",
       "│ 2          ┆   Jane    ┆ Smith    ┆ 75000.0 ┆ … ┆ 2          ┆ 789-456-7 ┆ jane.smit ┆ 1         │\n",
       "│            ┆           ┆          ┆         ┆   ┆            ┆ 890       ┆ h@example ┆           │\n",
       "│            ┆           ┆          ┆         ┆   ┆            ┆           ┆ .com      ┆           │\n",
       "│ 5          ┆ Charlie   ┆ Davis    ┆ 80000.0 ┆ … ┆ 2          ┆ 321-456-7 ┆ charlie.d ┆ null      │\n",
       "│            ┆           ┆          ┆         ┆   ┆            ┆ 890       ┆ avis@exam ┆           │\n",
       "│            ┆           ┆          ┆         ┆   ┆            ┆           ┆ ple.com   ┆           │\n",
       "│ 6          ┆ Eve       ┆ Wilson   ┆ 90000.0 ┆ … ┆ 3          ┆ 147-456-7 ┆ eve.wilso ┆ 2         │\n",
       "│            ┆           ┆          ┆         ┆   ┆            ┆ 890       ┆ n@example ┆           │\n",
       "│            ┆           ┆          ┆         ┆   ┆            ┆           ┆ .com      ┆           │\n",
       "│ 7          ┆ Frank     ┆ Taylor   ┆ 55000.0 ┆ … ┆ 1          ┆ 945-456-7 ┆ null      ┆ 3         │\n",
       "│            ┆           ┆          ┆         ┆   ┆            ┆ 890       ┆           ┆           │\n",
       "│ 8          ┆ Dan       ┆ Smith    ┆ 55000.0 ┆ … ┆ 5          ┆ null      ┆ null      ┆ null      │\n",
       "└────────────┴───────────┴──────────┴─────────┴───┴────────────┴───────────┴───────────┴───────────┘"
      ]
     },
     "execution_count": 5,
     "metadata": {},
     "output_type": "execute_result"
    }
   ],
   "source": [
    "pl.sql(\n",
    "    \"\"\"\n",
    "    SELECT\n",
    "        *\n",
    "    FROM\n",
    "        emp\n",
    "    WHERE\n",
    "        Salary > 50000\n",
    "    \"\"\"\n",
    ").collect()"
   ]
  },
  {
   "cell_type": "markdown",
   "id": "fe7ac59e",
   "metadata": {},
   "source": [
    "### AND/OR\n",
    "\n",
    "Filter records based on more than one condition"
   ]
  },
  {
   "cell_type": "code",
   "execution_count": 6,
   "id": "49857b37",
   "metadata": {},
   "outputs": [
    {
     "data": {
      "text/html": [
       "<div><style>\n",
       ".dataframe > thead > tr,\n",
       ".dataframe > tbody > tr {\n",
       "  text-align: right;\n",
       "  white-space: pre-wrap;\n",
       "}\n",
       "</style>\n",
       "<small>shape: (3, 10)</small><table border=\"1\" class=\"dataframe\"><thead><tr><th>EmployeeID</th><th>FirstName</th><th>LastName</th><th>Salary</th><th>HireDate</th><th>ExitDate</th><th>DepartmentID</th><th>PhoneNumber</th><th>Email</th><th>ManagerID</th></tr><tr><td>i64</td><td>str</td><td>str</td><td>f64</td><td>str</td><td>str</td><td>i64</td><td>str</td><td>str</td><td>i64</td></tr></thead><tbody><tr><td>1</td><td>&quot;John&quot;</td><td>&quot;Doe&quot;</td><td>60000.0</td><td>&quot;2020-01-15&quot;</td><td>null</td><td>1</td><td>&quot;123-456-7890&quot;</td><td>&quot;john.doe@example.com&quot;</td><td>null</td></tr><tr><td>5</td><td>&quot;Charlie&quot;</td><td>&quot;Davis&quot;</td><td>80000.0</td><td>&quot;2016-01-15&quot;</td><td>null</td><td>2</td><td>&quot;321-456-7890&quot;</td><td>&quot;charlie.davis@example.com&quot;</td><td>null</td></tr><tr><td>7</td><td>&quot;Frank&quot;</td><td>&quot;Taylor&quot;</td><td>55000.0</td><td>&quot;2022-10-01&quot;</td><td>null</td><td>1</td><td>&quot;945-456-7890&quot;</td><td>null</td><td>3</td></tr></tbody></table></div>"
      ],
      "text/plain": [
       "shape: (3, 10)\n",
       "┌────────────┬───────────┬──────────┬─────────┬───┬────────────┬───────────┬───────────┬───────────┐\n",
       "│ EmployeeID ┆ FirstName ┆ LastName ┆ Salary  ┆ … ┆ Department ┆ PhoneNumb ┆ Email     ┆ ManagerID │\n",
       "│ ---        ┆ ---       ┆ ---      ┆ ---     ┆   ┆ ID         ┆ er        ┆ ---       ┆ ---       │\n",
       "│ i64        ┆ str       ┆ str      ┆ f64     ┆   ┆ ---        ┆ ---       ┆ str       ┆ i64       │\n",
       "│            ┆           ┆          ┆         ┆   ┆ i64        ┆ str       ┆           ┆           │\n",
       "╞════════════╪═══════════╪══════════╪═════════╪═══╪════════════╪═══════════╪═══════════╪═══════════╡\n",
       "│ 1          ┆ John      ┆ Doe      ┆ 60000.0 ┆ … ┆ 1          ┆ 123-456-7 ┆ john.doe@ ┆ null      │\n",
       "│            ┆           ┆          ┆         ┆   ┆            ┆ 890       ┆ example.c ┆           │\n",
       "│            ┆           ┆          ┆         ┆   ┆            ┆           ┆ om        ┆           │\n",
       "│ 5          ┆ Charlie   ┆ Davis    ┆ 80000.0 ┆ … ┆ 2          ┆ 321-456-7 ┆ charlie.d ┆ null      │\n",
       "│            ┆           ┆          ┆         ┆   ┆            ┆ 890       ┆ avis@exam ┆           │\n",
       "│            ┆           ┆          ┆         ┆   ┆            ┆           ┆ ple.com   ┆           │\n",
       "│ 7          ┆ Frank     ┆ Taylor   ┆ 55000.0 ┆ … ┆ 1          ┆ 945-456-7 ┆ null      ┆ 3         │\n",
       "│            ┆           ┆          ┆         ┆   ┆            ┆ 890       ┆           ┆           │\n",
       "└────────────┴───────────┴──────────┴─────────┴───┴────────────┴───────────┴───────────┴───────────┘"
      ]
     },
     "execution_count": 6,
     "metadata": {},
     "output_type": "execute_result"
    }
   ],
   "source": [
    "pl.sql(\n",
    "    \"\"\"\n",
    "    SELECT\n",
    "        *\n",
    "    FROM\n",
    "        emp\n",
    "    WHERE\n",
    "        (Salary > 50000 AND DepartmentID = 1) OR (LastName = 'Davis')\n",
    "    \"\"\"\n",
    ").collect()"
   ]
  },
  {
   "cell_type": "markdown",
   "id": "2854774f",
   "metadata": {},
   "source": [
    "### ORDER BY\n",
    "\n",
    "Sort the result set in ascending or descending order"
   ]
  },
  {
   "cell_type": "code",
   "execution_count": 7,
   "id": "886f870f",
   "metadata": {},
   "outputs": [
    {
     "data": {
      "text/html": [
       "<div><style>\n",
       ".dataframe > thead > tr,\n",
       ".dataframe > tbody > tr {\n",
       "  text-align: right;\n",
       "  white-space: pre-wrap;\n",
       "}\n",
       "</style>\n",
       "<small>shape: (8, 10)</small><table border=\"1\" class=\"dataframe\"><thead><tr><th>EmployeeID</th><th>FirstName</th><th>LastName</th><th>Salary</th><th>HireDate</th><th>ExitDate</th><th>DepartmentID</th><th>PhoneNumber</th><th>Email</th><th>ManagerID</th></tr><tr><td>i64</td><td>str</td><td>str</td><td>f64</td><td>str</td><td>str</td><td>i64</td><td>str</td><td>str</td><td>i64</td></tr></thead><tbody><tr><td>6</td><td>&quot;Eve&quot;</td><td>&quot;Wilson&quot;</td><td>90000.0</td><td>&quot;2020-07-15&quot;</td><td>null</td><td>3</td><td>&quot;147-456-7890&quot;</td><td>&quot;eve.wilson@example.com&quot;</td><td>2</td></tr><tr><td>5</td><td>&quot;Charlie&quot;</td><td>&quot;Davis&quot;</td><td>80000.0</td><td>&quot;2016-01-15&quot;</td><td>null</td><td>2</td><td>&quot;321-456-7890&quot;</td><td>&quot;charlie.davis@example.com&quot;</td><td>null</td></tr><tr><td>2</td><td>&quot;&nbsp;&nbsp;Jane&quot;</td><td>&quot;Smith&quot;</td><td>75000.0</td><td>&quot;2018-07-01&quot;</td><td>null</td><td>2</td><td>&quot;789-456-7890&quot;</td><td>&quot;jane.smith@example.com&quot;</td><td>1</td></tr><tr><td>1</td><td>&quot;John&quot;</td><td>&quot;Doe&quot;</td><td>60000.0</td><td>&quot;2020-01-15&quot;</td><td>null</td><td>1</td><td>&quot;123-456-7890&quot;</td><td>&quot;john.doe@example.com&quot;</td><td>null</td></tr><tr><td>7</td><td>&quot;Frank&quot;</td><td>&quot;Taylor&quot;</td><td>55000.0</td><td>&quot;2022-10-01&quot;</td><td>null</td><td>1</td><td>&quot;945-456-7890&quot;</td><td>null</td><td>3</td></tr><tr><td>8</td><td>&quot;Dan&quot;</td><td>&quot;Smith&quot;</td><td>55000.0</td><td>&quot;2020-11-15&quot;</td><td>null</td><td>5</td><td>null</td><td>null</td><td>null</td></tr><tr><td>3</td><td>&quot; Alice &quot;</td><td>&quot;Johnson&quot;</td><td>50000.0</td><td>&quot;2021-01-01&quot;</td><td>null</td><td>1</td><td>&quot;345-456-7890&quot;</td><td>&quot;alice.johnson@example.com&quot;</td><td>1</td></tr><tr><td>4</td><td>&quot;Bob&quot;</td><td>&quot;Brown&quot;</td><td>45000.0</td><td>&quot;2019-11-15&quot;</td><td>&quot;2023-01-01&quot;</td><td>3</td><td>&quot;987-456-7890&quot;</td><td>&quot;bob.brown@example.com&quot;</td><td>2</td></tr></tbody></table></div>"
      ],
      "text/plain": [
       "shape: (8, 10)\n",
       "┌────────────┬───────────┬──────────┬─────────┬───┬────────────┬───────────┬───────────┬───────────┐\n",
       "│ EmployeeID ┆ FirstName ┆ LastName ┆ Salary  ┆ … ┆ Department ┆ PhoneNumb ┆ Email     ┆ ManagerID │\n",
       "│ ---        ┆ ---       ┆ ---      ┆ ---     ┆   ┆ ID         ┆ er        ┆ ---       ┆ ---       │\n",
       "│ i64        ┆ str       ┆ str      ┆ f64     ┆   ┆ ---        ┆ ---       ┆ str       ┆ i64       │\n",
       "│            ┆           ┆          ┆         ┆   ┆ i64        ┆ str       ┆           ┆           │\n",
       "╞════════════╪═══════════╪══════════╪═════════╪═══╪════════════╪═══════════╪═══════════╪═══════════╡\n",
       "│ 6          ┆ Eve       ┆ Wilson   ┆ 90000.0 ┆ … ┆ 3          ┆ 147-456-7 ┆ eve.wilso ┆ 2         │\n",
       "│            ┆           ┆          ┆         ┆   ┆            ┆ 890       ┆ n@example ┆           │\n",
       "│            ┆           ┆          ┆         ┆   ┆            ┆           ┆ .com      ┆           │\n",
       "│ 5          ┆ Charlie   ┆ Davis    ┆ 80000.0 ┆ … ┆ 2          ┆ 321-456-7 ┆ charlie.d ┆ null      │\n",
       "│            ┆           ┆          ┆         ┆   ┆            ┆ 890       ┆ avis@exam ┆           │\n",
       "│            ┆           ┆          ┆         ┆   ┆            ┆           ┆ ple.com   ┆           │\n",
       "│ 2          ┆   Jane    ┆ Smith    ┆ 75000.0 ┆ … ┆ 2          ┆ 789-456-7 ┆ jane.smit ┆ 1         │\n",
       "│            ┆           ┆          ┆         ┆   ┆            ┆ 890       ┆ h@example ┆           │\n",
       "│            ┆           ┆          ┆         ┆   ┆            ┆           ┆ .com      ┆           │\n",
       "│ 1          ┆ John      ┆ Doe      ┆ 60000.0 ┆ … ┆ 1          ┆ 123-456-7 ┆ john.doe@ ┆ null      │\n",
       "│            ┆           ┆          ┆         ┆   ┆            ┆ 890       ┆ example.c ┆           │\n",
       "│            ┆           ┆          ┆         ┆   ┆            ┆           ┆ om        ┆           │\n",
       "│ 7          ┆ Frank     ┆ Taylor   ┆ 55000.0 ┆ … ┆ 1          ┆ 945-456-7 ┆ null      ┆ 3         │\n",
       "│            ┆           ┆          ┆         ┆   ┆            ┆ 890       ┆           ┆           │\n",
       "│ 8          ┆ Dan       ┆ Smith    ┆ 55000.0 ┆ … ┆ 5          ┆ null      ┆ null      ┆ null      │\n",
       "│ 3          ┆  Alice    ┆ Johnson  ┆ 50000.0 ┆ … ┆ 1          ┆ 345-456-7 ┆ alice.joh ┆ 1         │\n",
       "│            ┆           ┆          ┆         ┆   ┆            ┆ 890       ┆ nson@exam ┆           │\n",
       "│            ┆           ┆          ┆         ┆   ┆            ┆           ┆ ple.com   ┆           │\n",
       "│ 4          ┆ Bob       ┆ Brown    ┆ 45000.0 ┆ … ┆ 3          ┆ 987-456-7 ┆ bob.brown ┆ 2         │\n",
       "│            ┆           ┆          ┆         ┆   ┆            ┆ 890       ┆ @example. ┆           │\n",
       "│            ┆           ┆          ┆         ┆   ┆            ┆           ┆ com       ┆           │\n",
       "└────────────┴───────────┴──────────┴─────────┴───┴────────────┴───────────┴───────────┴───────────┘"
      ]
     },
     "execution_count": 7,
     "metadata": {},
     "output_type": "execute_result"
    }
   ],
   "source": [
    "pl.sql(\n",
    "    \"\"\"\n",
    "    SELECT\n",
    "        *\n",
    "    FROM\n",
    "        emp\n",
    "    ORDER BY\n",
    "        Salary DESC\n",
    "    \"\"\"\n",
    ").collect()"
   ]
  },
  {
   "cell_type": "markdown",
   "id": "14ca7105",
   "metadata": {},
   "source": [
    "### LIMIT/FETCH/TOP\n",
    "\n",
    "Limit the number of rows returned"
   ]
  },
  {
   "cell_type": "code",
   "execution_count": 8,
   "id": "31f33470",
   "metadata": {},
   "outputs": [
    {
     "data": {
      "text/html": [
       "<div><style>\n",
       ".dataframe > thead > tr,\n",
       ".dataframe > tbody > tr {\n",
       "  text-align: right;\n",
       "  white-space: pre-wrap;\n",
       "}\n",
       "</style>\n",
       "<small>shape: (1, 10)</small><table border=\"1\" class=\"dataframe\"><thead><tr><th>EmployeeID</th><th>FirstName</th><th>LastName</th><th>Salary</th><th>HireDate</th><th>ExitDate</th><th>DepartmentID</th><th>PhoneNumber</th><th>Email</th><th>ManagerID</th></tr><tr><td>i64</td><td>str</td><td>str</td><td>f64</td><td>str</td><td>str</td><td>i64</td><td>str</td><td>str</td><td>i64</td></tr></thead><tbody><tr><td>6</td><td>&quot;Eve&quot;</td><td>&quot;Wilson&quot;</td><td>90000.0</td><td>&quot;2020-07-15&quot;</td><td>null</td><td>3</td><td>&quot;147-456-7890&quot;</td><td>&quot;eve.wilson@example.com&quot;</td><td>2</td></tr></tbody></table></div>"
      ],
      "text/plain": [
       "shape: (1, 10)\n",
       "┌────────────┬───────────┬──────────┬─────────┬───┬────────────┬───────────┬───────────┬───────────┐\n",
       "│ EmployeeID ┆ FirstName ┆ LastName ┆ Salary  ┆ … ┆ Department ┆ PhoneNumb ┆ Email     ┆ ManagerID │\n",
       "│ ---        ┆ ---       ┆ ---      ┆ ---     ┆   ┆ ID         ┆ er        ┆ ---       ┆ ---       │\n",
       "│ i64        ┆ str       ┆ str      ┆ f64     ┆   ┆ ---        ┆ ---       ┆ str       ┆ i64       │\n",
       "│            ┆           ┆          ┆         ┆   ┆ i64        ┆ str       ┆           ┆           │\n",
       "╞════════════╪═══════════╪══════════╪═════════╪═══╪════════════╪═══════════╪═══════════╪═══════════╡\n",
       "│ 6          ┆ Eve       ┆ Wilson   ┆ 90000.0 ┆ … ┆ 3          ┆ 147-456-7 ┆ eve.wilso ┆ 2         │\n",
       "│            ┆           ┆          ┆         ┆   ┆            ┆ 890       ┆ n@example ┆           │\n",
       "│            ┆           ┆          ┆         ┆   ┆            ┆           ┆ .com      ┆           │\n",
       "└────────────┴───────────┴──────────┴─────────┴───┴────────────┴───────────┴───────────┴───────────┘"
      ]
     },
     "execution_count": 8,
     "metadata": {},
     "output_type": "execute_result"
    }
   ],
   "source": [
    "pl.sql(\n",
    "    \"\"\"\n",
    "    SELECT\n",
    "        *\n",
    "    FROM\n",
    "        emp\n",
    "    ORDER BY\n",
    "        Salary DESC\n",
    "    LIMIT\n",
    "        1\n",
    "    \"\"\"\n",
    ").collect()"
   ]
  },
  {
   "cell_type": "markdown",
   "id": "ca75632d",
   "metadata": {},
   "source": [
    "## Aggregation Functions"
   ]
  },
  {
   "cell_type": "markdown",
   "id": "d26a3ab7",
   "metadata": {},
   "source": [
    "### COUNT\n",
    "\n",
    "Count the number of rows"
   ]
  },
  {
   "cell_type": "code",
   "execution_count": 9,
   "id": "79c9162a",
   "metadata": {},
   "outputs": [
    {
     "data": {
      "text/html": [
       "<div><style>\n",
       ".dataframe > thead > tr,\n",
       ".dataframe > tbody > tr {\n",
       "  text-align: right;\n",
       "  white-space: pre-wrap;\n",
       "}\n",
       "</style>\n",
       "<small>shape: (1, 1)</small><table border=\"1\" class=\"dataframe\"><thead><tr><th>RowCount</th></tr><tr><td>u32</td></tr></thead><tbody><tr><td>8</td></tr></tbody></table></div>"
      ],
      "text/plain": [
       "shape: (1, 1)\n",
       "┌──────────┐\n",
       "│ RowCount │\n",
       "│ ---      │\n",
       "│ u32      │\n",
       "╞══════════╡\n",
       "│ 8        │\n",
       "└──────────┘"
      ]
     },
     "execution_count": 9,
     "metadata": {},
     "output_type": "execute_result"
    }
   ],
   "source": [
    "pl.sql(\n",
    "    \"\"\"\n",
    "    SELECT\n",
    "        COUNT(*) AS RowCount\n",
    "    FROM\n",
    "        emp\n",
    "    \"\"\"\n",
    ").collect()"
   ]
  },
  {
   "cell_type": "markdown",
   "id": "8e899982",
   "metadata": {},
   "source": [
    "### SUM\n",
    "\n",
    "Calculate the sum of a numeric column"
   ]
  },
  {
   "cell_type": "code",
   "execution_count": 10,
   "id": "689c5c72",
   "metadata": {},
   "outputs": [
    {
     "data": {
      "text/html": [
       "<div><style>\n",
       ".dataframe > thead > tr,\n",
       ".dataframe > tbody > tr {\n",
       "  text-align: right;\n",
       "  white-space: pre-wrap;\n",
       "}\n",
       "</style>\n",
       "<small>shape: (1, 1)</small><table border=\"1\" class=\"dataframe\"><thead><tr><th>Payroll</th></tr><tr><td>f64</td></tr></thead><tbody><tr><td>510000.0</td></tr></tbody></table></div>"
      ],
      "text/plain": [
       "shape: (1, 1)\n",
       "┌──────────┐\n",
       "│ Payroll  │\n",
       "│ ---      │\n",
       "│ f64      │\n",
       "╞══════════╡\n",
       "│ 510000.0 │\n",
       "└──────────┘"
      ]
     },
     "execution_count": 10,
     "metadata": {},
     "output_type": "execute_result"
    }
   ],
   "source": [
    "pl.sql(\n",
    "    \"\"\"\n",
    "    SELECT\n",
    "        SUM(Salary) AS Payroll\n",
    "    FROM\n",
    "        emp\n",
    "    \"\"\"\n",
    ").collect()"
   ]
  },
  {
   "cell_type": "markdown",
   "id": "03f3714f",
   "metadata": {},
   "source": [
    "### Average\n",
    "\n",
    "Calculate the average of a numeric column"
   ]
  },
  {
   "cell_type": "code",
   "execution_count": 11,
   "id": "9c740b2e",
   "metadata": {},
   "outputs": [
    {
     "data": {
      "text/html": [
       "<div><style>\n",
       ".dataframe > thead > tr,\n",
       ".dataframe > tbody > tr {\n",
       "  text-align: right;\n",
       "  white-space: pre-wrap;\n",
       "}\n",
       "</style>\n",
       "<small>shape: (1, 1)</small><table border=\"1\" class=\"dataframe\"><thead><tr><th>AverageSalary</th></tr><tr><td>f64</td></tr></thead><tbody><tr><td>63750.0</td></tr></tbody></table></div>"
      ],
      "text/plain": [
       "shape: (1, 1)\n",
       "┌───────────────┐\n",
       "│ AverageSalary │\n",
       "│ ---           │\n",
       "│ f64           │\n",
       "╞═══════════════╡\n",
       "│ 63750.0       │\n",
       "└───────────────┘"
      ]
     },
     "execution_count": 11,
     "metadata": {},
     "output_type": "execute_result"
    }
   ],
   "source": [
    "pl.sql(\n",
    "    \"\"\"\n",
    "    SELECT\n",
    "        AVG(Salary) AS AverageSalary\n",
    "    FROM\n",
    "        emp\n",
    "    \"\"\"\n",
    ").collect()"
   ]
  },
  {
   "cell_type": "markdown",
   "id": "df304c37",
   "metadata": {},
   "source": [
    "### MIN/MAX\n",
    "\n",
    "Find the minimum or maximum value in a column"
   ]
  },
  {
   "cell_type": "code",
   "execution_count": 12,
   "id": "36da2cce",
   "metadata": {},
   "outputs": [
    {
     "data": {
      "text/html": [
       "<div><style>\n",
       ".dataframe > thead > tr,\n",
       ".dataframe > tbody > tr {\n",
       "  text-align: right;\n",
       "  white-space: pre-wrap;\n",
       "}\n",
       "</style>\n",
       "<small>shape: (1, 2)</small><table border=\"1\" class=\"dataframe\"><thead><tr><th>MinSalary</th><th>MaxSalary</th></tr><tr><td>f64</td><td>f64</td></tr></thead><tbody><tr><td>45000.0</td><td>90000.0</td></tr></tbody></table></div>"
      ],
      "text/plain": [
       "shape: (1, 2)\n",
       "┌───────────┬───────────┐\n",
       "│ MinSalary ┆ MaxSalary │\n",
       "│ ---       ┆ ---       │\n",
       "│ f64       ┆ f64       │\n",
       "╞═══════════╪═══════════╡\n",
       "│ 45000.0   ┆ 90000.0   │\n",
       "└───────────┴───────────┘"
      ]
     },
     "execution_count": 12,
     "metadata": {},
     "output_type": "execute_result"
    }
   ],
   "source": [
    "pl.sql(\n",
    "    \"\"\"\n",
    "    SELECT\n",
    "        MIN(Salary) AS MinSalary,\n",
    "        MAX(Salary) AS MaxSalary\n",
    "    FROM\n",
    "        emp\n",
    "    \"\"\"\n",
    ").collect()"
   ]
  },
  {
   "cell_type": "markdown",
   "id": "c065158a",
   "metadata": {},
   "source": [
    "### GROUP BY\n",
    "\n",
    "Group rows to apply aggregate functions"
   ]
  },
  {
   "cell_type": "code",
   "execution_count": 13,
   "id": "9c48951a",
   "metadata": {},
   "outputs": [
    {
     "data": {
      "text/html": [
       "<div><style>\n",
       ".dataframe > thead > tr,\n",
       ".dataframe > tbody > tr {\n",
       "  text-align: right;\n",
       "  white-space: pre-wrap;\n",
       "}\n",
       "</style>\n",
       "<small>shape: (4, 2)</small><table border=\"1\" class=\"dataframe\"><thead><tr><th>DepartmentID</th><th>AvgSalaryPerDept</th></tr><tr><td>i64</td><td>f64</td></tr></thead><tbody><tr><td>3</td><td>67500.0</td></tr><tr><td>2</td><td>77500.0</td></tr><tr><td>5</td><td>55000.0</td></tr><tr><td>1</td><td>55000.0</td></tr></tbody></table></div>"
      ],
      "text/plain": [
       "shape: (4, 2)\n",
       "┌──────────────┬──────────────────┐\n",
       "│ DepartmentID ┆ AvgSalaryPerDept │\n",
       "│ ---          ┆ ---              │\n",
       "│ i64          ┆ f64              │\n",
       "╞══════════════╪══════════════════╡\n",
       "│ 3            ┆ 67500.0          │\n",
       "│ 2            ┆ 77500.0          │\n",
       "│ 5            ┆ 55000.0          │\n",
       "│ 1            ┆ 55000.0          │\n",
       "└──────────────┴──────────────────┘"
      ]
     },
     "execution_count": 13,
     "metadata": {},
     "output_type": "execute_result"
    }
   ],
   "source": [
    "pl.sql(\n",
    "    \"\"\"\n",
    "    SELECT\n",
    "        DepartmentID,\n",
    "        AVG(Salary) AS AvgSalaryPerDept\n",
    "    FROM\n",
    "        emp\n",
    "    GROUP BY\n",
    "        DepartmentID\n",
    "    \"\"\"\n",
    ").collect()"
   ]
  },
  {
   "cell_type": "markdown",
   "id": "49f54639",
   "metadata": {},
   "source": [
    "### HAVING\n",
    "\n",
    "Filter groups based on aggregate conditions"
   ]
  },
  {
   "cell_type": "code",
   "execution_count": 14,
   "id": "474d177a",
   "metadata": {},
   "outputs": [
    {
     "data": {
      "text/html": [
       "<div><style>\n",
       ".dataframe > thead > tr,\n",
       ".dataframe > tbody > tr {\n",
       "  text-align: right;\n",
       "  white-space: pre-wrap;\n",
       "}\n",
       "</style>\n",
       "<small>shape: (1, 2)</small><table border=\"1\" class=\"dataframe\"><thead><tr><th>DepartmentID</th><th>AvgSalaryPerDept</th></tr><tr><td>i64</td><td>f64</td></tr></thead><tbody><tr><td>2</td><td>77500.0</td></tr></tbody></table></div>"
      ],
      "text/plain": [
       "shape: (1, 2)\n",
       "┌──────────────┬──────────────────┐\n",
       "│ DepartmentID ┆ AvgSalaryPerDept │\n",
       "│ ---          ┆ ---              │\n",
       "│ i64          ┆ f64              │\n",
       "╞══════════════╪══════════════════╡\n",
       "│ 2            ┆ 77500.0          │\n",
       "└──────────────┴──────────────────┘"
      ]
     },
     "execution_count": 14,
     "metadata": {},
     "output_type": "execute_result"
    }
   ],
   "source": [
    "pl.sql(\n",
    "    \"\"\"\n",
    "    SELECT\n",
    "        DepartmentID,\n",
    "        AVG(Salary) AS AvgSalaryPerDept\n",
    "    FROM\n",
    "        emp\n",
    "    GROUP BY\n",
    "        DepartmentID\n",
    "    HAVING\n",
    "        AvgSalaryPerDept > 70000\n",
    "    \"\"\"\n",
    ").collect()"
   ]
  },
  {
   "cell_type": "markdown",
   "id": "bb740fe0",
   "metadata": {},
   "source": [
    "## Joining Tables"
   ]
  },
  {
   "cell_type": "markdown",
   "id": "27b13305",
   "metadata": {},
   "source": [
    "### INNER JOIN\n",
    "\n",
    "Combine rows from two tables where there is a match"
   ]
  },
  {
   "cell_type": "code",
   "execution_count": 15,
   "id": "3c99116a",
   "metadata": {},
   "outputs": [
    {
     "data": {
      "text/html": [
       "<div><style>\n",
       ".dataframe > thead > tr,\n",
       ".dataframe > tbody > tr {\n",
       "  text-align: right;\n",
       "  white-space: pre-wrap;\n",
       "}\n",
       "</style>\n",
       "<small>shape: (7, 13)</small><table border=\"1\" class=\"dataframe\"><thead><tr><th>EmployeeID</th><th>FirstName</th><th>LastName</th><th>Salary</th><th>HireDate</th><th>ExitDate</th><th>DepartmentID</th><th>PhoneNumber</th><th>Email</th><th>ManagerID</th><th>DepartmentID:dep</th><th>DepartmentName</th><th>Location</th></tr><tr><td>i64</td><td>str</td><td>str</td><td>f64</td><td>str</td><td>str</td><td>i64</td><td>str</td><td>str</td><td>i64</td><td>i64</td><td>str</td><td>str</td></tr></thead><tbody><tr><td>1</td><td>&quot;John&quot;</td><td>&quot;Doe&quot;</td><td>60000.0</td><td>&quot;2020-01-15&quot;</td><td>null</td><td>1</td><td>&quot;123-456-7890&quot;</td><td>&quot;john.doe@example.com&quot;</td><td>null</td><td>1</td><td>&quot;HR&quot;</td><td>&quot;New York&quot;</td></tr><tr><td>2</td><td>&quot;&nbsp;&nbsp;Jane&quot;</td><td>&quot;Smith&quot;</td><td>75000.0</td><td>&quot;2018-07-01&quot;</td><td>null</td><td>2</td><td>&quot;789-456-7890&quot;</td><td>&quot;jane.smith@example.com&quot;</td><td>1</td><td>2</td><td>&quot;Engineering&quot;</td><td>&quot;San Francisco&quot;</td></tr><tr><td>3</td><td>&quot; Alice &quot;</td><td>&quot;Johnson&quot;</td><td>50000.0</td><td>&quot;2021-01-01&quot;</td><td>null</td><td>1</td><td>&quot;345-456-7890&quot;</td><td>&quot;alice.johnson@example.com&quot;</td><td>1</td><td>1</td><td>&quot;HR&quot;</td><td>&quot;New York&quot;</td></tr><tr><td>4</td><td>&quot;Bob&quot;</td><td>&quot;Brown&quot;</td><td>45000.0</td><td>&quot;2019-11-15&quot;</td><td>&quot;2023-01-01&quot;</td><td>3</td><td>&quot;987-456-7890&quot;</td><td>&quot;bob.brown@example.com&quot;</td><td>2</td><td>3</td><td>&quot;Finance&quot;</td><td>&quot;Chicago&quot;</td></tr><tr><td>5</td><td>&quot;Charlie&quot;</td><td>&quot;Davis&quot;</td><td>80000.0</td><td>&quot;2016-01-15&quot;</td><td>null</td><td>2</td><td>&quot;321-456-7890&quot;</td><td>&quot;charlie.davis@example.com&quot;</td><td>null</td><td>2</td><td>&quot;Engineering&quot;</td><td>&quot;San Francisco&quot;</td></tr><tr><td>6</td><td>&quot;Eve&quot;</td><td>&quot;Wilson&quot;</td><td>90000.0</td><td>&quot;2020-07-15&quot;</td><td>null</td><td>3</td><td>&quot;147-456-7890&quot;</td><td>&quot;eve.wilson@example.com&quot;</td><td>2</td><td>3</td><td>&quot;Finance&quot;</td><td>&quot;Chicago&quot;</td></tr><tr><td>7</td><td>&quot;Frank&quot;</td><td>&quot;Taylor&quot;</td><td>55000.0</td><td>&quot;2022-10-01&quot;</td><td>null</td><td>1</td><td>&quot;945-456-7890&quot;</td><td>null</td><td>3</td><td>1</td><td>&quot;HR&quot;</td><td>&quot;New York&quot;</td></tr></tbody></table></div>"
      ],
      "text/plain": [
       "shape: (7, 13)\n",
       "┌────────────┬───────────┬──────────┬─────────┬───┬───────────┬────────────┬───────────┬───────────┐\n",
       "│ EmployeeID ┆ FirstName ┆ LastName ┆ Salary  ┆ … ┆ ManagerID ┆ Department ┆ Departmen ┆ Location  │\n",
       "│ ---        ┆ ---       ┆ ---      ┆ ---     ┆   ┆ ---       ┆ ID:dep     ┆ tName     ┆ ---       │\n",
       "│ i64        ┆ str       ┆ str      ┆ f64     ┆   ┆ i64       ┆ ---        ┆ ---       ┆ str       │\n",
       "│            ┆           ┆          ┆         ┆   ┆           ┆ i64        ┆ str       ┆           │\n",
       "╞════════════╪═══════════╪══════════╪═════════╪═══╪═══════════╪════════════╪═══════════╪═══════════╡\n",
       "│ 1          ┆ John      ┆ Doe      ┆ 60000.0 ┆ … ┆ null      ┆ 1          ┆ HR        ┆ New York  │\n",
       "│ 2          ┆   Jane    ┆ Smith    ┆ 75000.0 ┆ … ┆ 1         ┆ 2          ┆ Engineeri ┆ San       │\n",
       "│            ┆           ┆          ┆         ┆   ┆           ┆            ┆ ng        ┆ Francisco │\n",
       "│ 3          ┆  Alice    ┆ Johnson  ┆ 50000.0 ┆ … ┆ 1         ┆ 1          ┆ HR        ┆ New York  │\n",
       "│ 4          ┆ Bob       ┆ Brown    ┆ 45000.0 ┆ … ┆ 2         ┆ 3          ┆ Finance   ┆ Chicago   │\n",
       "│ 5          ┆ Charlie   ┆ Davis    ┆ 80000.0 ┆ … ┆ null      ┆ 2          ┆ Engineeri ┆ San       │\n",
       "│            ┆           ┆          ┆         ┆   ┆           ┆            ┆ ng        ┆ Francisco │\n",
       "│ 6          ┆ Eve       ┆ Wilson   ┆ 90000.0 ┆ … ┆ 2         ┆ 3          ┆ Finance   ┆ Chicago   │\n",
       "│ 7          ┆ Frank     ┆ Taylor   ┆ 55000.0 ┆ … ┆ 3         ┆ 1          ┆ HR        ┆ New York  │\n",
       "└────────────┴───────────┴──────────┴─────────┴───┴───────────┴────────────┴───────────┴───────────┘"
      ]
     },
     "execution_count": 15,
     "metadata": {},
     "output_type": "execute_result"
    }
   ],
   "source": [
    "pl.sql(\n",
    "    \"\"\"\n",
    "    SELECT\n",
    "        *\n",
    "    FROM\n",
    "        emp\n",
    "    INNER JOIN dep ON dep.DepartmentID = emp.DepartmentID\n",
    "    \"\"\"\n",
    ").collect()"
   ]
  },
  {
   "cell_type": "markdown",
   "id": "5d9cc3b3",
   "metadata": {},
   "source": [
    "### LEFT JOIN\n",
    "\n",
    "Include all rows from the left table, even if there's no match in the right table"
   ]
  },
  {
   "cell_type": "code",
   "execution_count": 16,
   "id": "cc114d00",
   "metadata": {},
   "outputs": [
    {
     "data": {
      "text/html": [
       "<div><style>\n",
       ".dataframe > thead > tr,\n",
       ".dataframe > tbody > tr {\n",
       "  text-align: right;\n",
       "  white-space: pre-wrap;\n",
       "}\n",
       "</style>\n",
       "<small>shape: (8, 13)</small><table border=\"1\" class=\"dataframe\"><thead><tr><th>EmployeeID</th><th>FirstName</th><th>LastName</th><th>Salary</th><th>HireDate</th><th>ExitDate</th><th>DepartmentID</th><th>PhoneNumber</th><th>Email</th><th>ManagerID</th><th>DepartmentID:dep</th><th>DepartmentName</th><th>Location</th></tr><tr><td>i64</td><td>str</td><td>str</td><td>f64</td><td>str</td><td>str</td><td>i64</td><td>str</td><td>str</td><td>i64</td><td>i64</td><td>str</td><td>str</td></tr></thead><tbody><tr><td>1</td><td>&quot;John&quot;</td><td>&quot;Doe&quot;</td><td>60000.0</td><td>&quot;2020-01-15&quot;</td><td>null</td><td>1</td><td>&quot;123-456-7890&quot;</td><td>&quot;john.doe@example.com&quot;</td><td>null</td><td>1</td><td>&quot;HR&quot;</td><td>&quot;New York&quot;</td></tr><tr><td>2</td><td>&quot;&nbsp;&nbsp;Jane&quot;</td><td>&quot;Smith&quot;</td><td>75000.0</td><td>&quot;2018-07-01&quot;</td><td>null</td><td>2</td><td>&quot;789-456-7890&quot;</td><td>&quot;jane.smith@example.com&quot;</td><td>1</td><td>2</td><td>&quot;Engineering&quot;</td><td>&quot;San Francisco&quot;</td></tr><tr><td>3</td><td>&quot; Alice &quot;</td><td>&quot;Johnson&quot;</td><td>50000.0</td><td>&quot;2021-01-01&quot;</td><td>null</td><td>1</td><td>&quot;345-456-7890&quot;</td><td>&quot;alice.johnson@example.com&quot;</td><td>1</td><td>1</td><td>&quot;HR&quot;</td><td>&quot;New York&quot;</td></tr><tr><td>4</td><td>&quot;Bob&quot;</td><td>&quot;Brown&quot;</td><td>45000.0</td><td>&quot;2019-11-15&quot;</td><td>&quot;2023-01-01&quot;</td><td>3</td><td>&quot;987-456-7890&quot;</td><td>&quot;bob.brown@example.com&quot;</td><td>2</td><td>3</td><td>&quot;Finance&quot;</td><td>&quot;Chicago&quot;</td></tr><tr><td>5</td><td>&quot;Charlie&quot;</td><td>&quot;Davis&quot;</td><td>80000.0</td><td>&quot;2016-01-15&quot;</td><td>null</td><td>2</td><td>&quot;321-456-7890&quot;</td><td>&quot;charlie.davis@example.com&quot;</td><td>null</td><td>2</td><td>&quot;Engineering&quot;</td><td>&quot;San Francisco&quot;</td></tr><tr><td>6</td><td>&quot;Eve&quot;</td><td>&quot;Wilson&quot;</td><td>90000.0</td><td>&quot;2020-07-15&quot;</td><td>null</td><td>3</td><td>&quot;147-456-7890&quot;</td><td>&quot;eve.wilson@example.com&quot;</td><td>2</td><td>3</td><td>&quot;Finance&quot;</td><td>&quot;Chicago&quot;</td></tr><tr><td>7</td><td>&quot;Frank&quot;</td><td>&quot;Taylor&quot;</td><td>55000.0</td><td>&quot;2022-10-01&quot;</td><td>null</td><td>1</td><td>&quot;945-456-7890&quot;</td><td>null</td><td>3</td><td>1</td><td>&quot;HR&quot;</td><td>&quot;New York&quot;</td></tr><tr><td>8</td><td>&quot;Dan&quot;</td><td>&quot;Smith&quot;</td><td>55000.0</td><td>&quot;2020-11-15&quot;</td><td>null</td><td>5</td><td>null</td><td>null</td><td>null</td><td>null</td><td>null</td><td>null</td></tr></tbody></table></div>"
      ],
      "text/plain": [
       "shape: (8, 13)\n",
       "┌────────────┬───────────┬──────────┬─────────┬───┬───────────┬────────────┬───────────┬───────────┐\n",
       "│ EmployeeID ┆ FirstName ┆ LastName ┆ Salary  ┆ … ┆ ManagerID ┆ Department ┆ Departmen ┆ Location  │\n",
       "│ ---        ┆ ---       ┆ ---      ┆ ---     ┆   ┆ ---       ┆ ID:dep     ┆ tName     ┆ ---       │\n",
       "│ i64        ┆ str       ┆ str      ┆ f64     ┆   ┆ i64       ┆ ---        ┆ ---       ┆ str       │\n",
       "│            ┆           ┆          ┆         ┆   ┆           ┆ i64        ┆ str       ┆           │\n",
       "╞════════════╪═══════════╪══════════╪═════════╪═══╪═══════════╪════════════╪═══════════╪═══════════╡\n",
       "│ 1          ┆ John      ┆ Doe      ┆ 60000.0 ┆ … ┆ null      ┆ 1          ┆ HR        ┆ New York  │\n",
       "│ 2          ┆   Jane    ┆ Smith    ┆ 75000.0 ┆ … ┆ 1         ┆ 2          ┆ Engineeri ┆ San       │\n",
       "│            ┆           ┆          ┆         ┆   ┆           ┆            ┆ ng        ┆ Francisco │\n",
       "│ 3          ┆  Alice    ┆ Johnson  ┆ 50000.0 ┆ … ┆ 1         ┆ 1          ┆ HR        ┆ New York  │\n",
       "│ 4          ┆ Bob       ┆ Brown    ┆ 45000.0 ┆ … ┆ 2         ┆ 3          ┆ Finance   ┆ Chicago   │\n",
       "│ 5          ┆ Charlie   ┆ Davis    ┆ 80000.0 ┆ … ┆ null      ┆ 2          ┆ Engineeri ┆ San       │\n",
       "│            ┆           ┆          ┆         ┆   ┆           ┆            ┆ ng        ┆ Francisco │\n",
       "│ 6          ┆ Eve       ┆ Wilson   ┆ 90000.0 ┆ … ┆ 2         ┆ 3          ┆ Finance   ┆ Chicago   │\n",
       "│ 7          ┆ Frank     ┆ Taylor   ┆ 55000.0 ┆ … ┆ 3         ┆ 1          ┆ HR        ┆ New York  │\n",
       "│ 8          ┆ Dan       ┆ Smith    ┆ 55000.0 ┆ … ┆ null      ┆ null       ┆ null      ┆ null      │\n",
       "└────────────┴───────────┴──────────┴─────────┴───┴───────────┴────────────┴───────────┴───────────┘"
      ]
     },
     "execution_count": 16,
     "metadata": {},
     "output_type": "execute_result"
    }
   ],
   "source": [
    "pl.sql(\n",
    "    \"\"\"\n",
    "    SELECT\n",
    "        *\n",
    "    FROM\n",
    "        emp\n",
    "    LEFT JOIN dep ON dep.DepartmentID = emp.DepartmentID\n",
    "    \"\"\"\n",
    ").collect()"
   ]
  },
  {
   "cell_type": "markdown",
   "id": "2cb820b5",
   "metadata": {},
   "source": [
    "### RIGHT JOIN\n",
    "\n",
    "Include all rows from the right table, even if there's no match in the left table"
   ]
  },
  {
   "cell_type": "code",
   "execution_count": 17,
   "id": "e1ccdb4c",
   "metadata": {},
   "outputs": [
    {
     "data": {
      "text/html": [
       "<div><style>\n",
       ".dataframe > thead > tr,\n",
       ".dataframe > tbody > tr {\n",
       "  text-align: right;\n",
       "  white-space: pre-wrap;\n",
       "}\n",
       "</style>\n",
       "<small>shape: (8, 13)</small><table border=\"1\" class=\"dataframe\"><thead><tr><th>EmployeeID</th><th>FirstName</th><th>LastName</th><th>Salary</th><th>HireDate</th><th>ExitDate</th><th>DepartmentID</th><th>PhoneNumber</th><th>Email</th><th>ManagerID</th><th>DepartmentID:dep</th><th>DepartmentName</th><th>Location</th></tr><tr><td>i64</td><td>str</td><td>str</td><td>f64</td><td>str</td><td>str</td><td>i64</td><td>str</td><td>str</td><td>i64</td><td>i64</td><td>str</td><td>str</td></tr></thead><tbody><tr><td>1</td><td>&quot;John&quot;</td><td>&quot;Doe&quot;</td><td>60000.0</td><td>&quot;2020-01-15&quot;</td><td>null</td><td>1</td><td>&quot;123-456-7890&quot;</td><td>&quot;john.doe@example.com&quot;</td><td>null</td><td>1</td><td>&quot;HR&quot;</td><td>&quot;New York&quot;</td></tr><tr><td>3</td><td>&quot; Alice &quot;</td><td>&quot;Johnson&quot;</td><td>50000.0</td><td>&quot;2021-01-01&quot;</td><td>null</td><td>1</td><td>&quot;345-456-7890&quot;</td><td>&quot;alice.johnson@example.com&quot;</td><td>1</td><td>1</td><td>&quot;HR&quot;</td><td>&quot;New York&quot;</td></tr><tr><td>7</td><td>&quot;Frank&quot;</td><td>&quot;Taylor&quot;</td><td>55000.0</td><td>&quot;2022-10-01&quot;</td><td>null</td><td>1</td><td>&quot;945-456-7890&quot;</td><td>null</td><td>3</td><td>1</td><td>&quot;HR&quot;</td><td>&quot;New York&quot;</td></tr><tr><td>2</td><td>&quot;&nbsp;&nbsp;Jane&quot;</td><td>&quot;Smith&quot;</td><td>75000.0</td><td>&quot;2018-07-01&quot;</td><td>null</td><td>2</td><td>&quot;789-456-7890&quot;</td><td>&quot;jane.smith@example.com&quot;</td><td>1</td><td>2</td><td>&quot;Engineering&quot;</td><td>&quot;San Francisco&quot;</td></tr><tr><td>5</td><td>&quot;Charlie&quot;</td><td>&quot;Davis&quot;</td><td>80000.0</td><td>&quot;2016-01-15&quot;</td><td>null</td><td>2</td><td>&quot;321-456-7890&quot;</td><td>&quot;charlie.davis@example.com&quot;</td><td>null</td><td>2</td><td>&quot;Engineering&quot;</td><td>&quot;San Francisco&quot;</td></tr><tr><td>4</td><td>&quot;Bob&quot;</td><td>&quot;Brown&quot;</td><td>45000.0</td><td>&quot;2019-11-15&quot;</td><td>&quot;2023-01-01&quot;</td><td>3</td><td>&quot;987-456-7890&quot;</td><td>&quot;bob.brown@example.com&quot;</td><td>2</td><td>3</td><td>&quot;Finance&quot;</td><td>&quot;Chicago&quot;</td></tr><tr><td>6</td><td>&quot;Eve&quot;</td><td>&quot;Wilson&quot;</td><td>90000.0</td><td>&quot;2020-07-15&quot;</td><td>null</td><td>3</td><td>&quot;147-456-7890&quot;</td><td>&quot;eve.wilson@example.com&quot;</td><td>2</td><td>3</td><td>&quot;Finance&quot;</td><td>&quot;Chicago&quot;</td></tr><tr><td>null</td><td>null</td><td>null</td><td>null</td><td>null</td><td>null</td><td>null</td><td>null</td><td>null</td><td>null</td><td>4</td><td>&quot;IT&quot;</td><td>&quot;Denver&quot;</td></tr></tbody></table></div>"
      ],
      "text/plain": [
       "shape: (8, 13)\n",
       "┌────────────┬───────────┬──────────┬─────────┬───┬───────────┬────────────┬───────────┬───────────┐\n",
       "│ EmployeeID ┆ FirstName ┆ LastName ┆ Salary  ┆ … ┆ ManagerID ┆ Department ┆ Departmen ┆ Location  │\n",
       "│ ---        ┆ ---       ┆ ---      ┆ ---     ┆   ┆ ---       ┆ ID:dep     ┆ tName     ┆ ---       │\n",
       "│ i64        ┆ str       ┆ str      ┆ f64     ┆   ┆ i64       ┆ ---        ┆ ---       ┆ str       │\n",
       "│            ┆           ┆          ┆         ┆   ┆           ┆ i64        ┆ str       ┆           │\n",
       "╞════════════╪═══════════╪══════════╪═════════╪═══╪═══════════╪════════════╪═══════════╪═══════════╡\n",
       "│ 1          ┆ John      ┆ Doe      ┆ 60000.0 ┆ … ┆ null      ┆ 1          ┆ HR        ┆ New York  │\n",
       "│ 3          ┆  Alice    ┆ Johnson  ┆ 50000.0 ┆ … ┆ 1         ┆ 1          ┆ HR        ┆ New York  │\n",
       "│ 7          ┆ Frank     ┆ Taylor   ┆ 55000.0 ┆ … ┆ 3         ┆ 1          ┆ HR        ┆ New York  │\n",
       "│ 2          ┆   Jane    ┆ Smith    ┆ 75000.0 ┆ … ┆ 1         ┆ 2          ┆ Engineeri ┆ San       │\n",
       "│            ┆           ┆          ┆         ┆   ┆           ┆            ┆ ng        ┆ Francisco │\n",
       "│ 5          ┆ Charlie   ┆ Davis    ┆ 80000.0 ┆ … ┆ null      ┆ 2          ┆ Engineeri ┆ San       │\n",
       "│            ┆           ┆          ┆         ┆   ┆           ┆            ┆ ng        ┆ Francisco │\n",
       "│ 4          ┆ Bob       ┆ Brown    ┆ 45000.0 ┆ … ┆ 2         ┆ 3          ┆ Finance   ┆ Chicago   │\n",
       "│ 6          ┆ Eve       ┆ Wilson   ┆ 90000.0 ┆ … ┆ 2         ┆ 3          ┆ Finance   ┆ Chicago   │\n",
       "│ null       ┆ null      ┆ null     ┆ null    ┆ … ┆ null      ┆ 4          ┆ IT        ┆ Denver    │\n",
       "└────────────┴───────────┴──────────┴─────────┴───┴───────────┴────────────┴───────────┴───────────┘"
      ]
     },
     "execution_count": 17,
     "metadata": {},
     "output_type": "execute_result"
    }
   ],
   "source": [
    "pl.sql(\n",
    "    \"\"\"\n",
    "    SELECT\n",
    "        *\n",
    "    FROM\n",
    "        emp\n",
    "    RIGHT JOIN dep ON dep.DepartmentID = emp.DepartmentID\n",
    "    \"\"\"\n",
    ").collect()"
   ]
  },
  {
   "cell_type": "markdown",
   "id": "a6f51fdd",
   "metadata": {},
   "source": [
    "### FULL OUTER JOIN\n",
    "\n",
    "Include all rows when there is a match in either table"
   ]
  },
  {
   "cell_type": "code",
   "execution_count": 18,
   "id": "f4f977ae",
   "metadata": {},
   "outputs": [
    {
     "data": {
      "text/html": [
       "<div><style>\n",
       ".dataframe > thead > tr,\n",
       ".dataframe > tbody > tr {\n",
       "  text-align: right;\n",
       "  white-space: pre-wrap;\n",
       "}\n",
       "</style>\n",
       "<small>shape: (9, 13)</small><table border=\"1\" class=\"dataframe\"><thead><tr><th>EmployeeID</th><th>FirstName</th><th>LastName</th><th>Salary</th><th>HireDate</th><th>ExitDate</th><th>DepartmentID</th><th>PhoneNumber</th><th>Email</th><th>ManagerID</th><th>DepartmentID:dep</th><th>DepartmentName</th><th>Location</th></tr><tr><td>i64</td><td>str</td><td>str</td><td>f64</td><td>str</td><td>str</td><td>i64</td><td>str</td><td>str</td><td>i64</td><td>i64</td><td>str</td><td>str</td></tr></thead><tbody><tr><td>1</td><td>&quot;John&quot;</td><td>&quot;Doe&quot;</td><td>60000.0</td><td>&quot;2020-01-15&quot;</td><td>null</td><td>1</td><td>&quot;123-456-7890&quot;</td><td>&quot;john.doe@example.com&quot;</td><td>null</td><td>1</td><td>&quot;HR&quot;</td><td>&quot;New York&quot;</td></tr><tr><td>2</td><td>&quot;&nbsp;&nbsp;Jane&quot;</td><td>&quot;Smith&quot;</td><td>75000.0</td><td>&quot;2018-07-01&quot;</td><td>null</td><td>2</td><td>&quot;789-456-7890&quot;</td><td>&quot;jane.smith@example.com&quot;</td><td>1</td><td>2</td><td>&quot;Engineering&quot;</td><td>&quot;San Francisco&quot;</td></tr><tr><td>3</td><td>&quot; Alice &quot;</td><td>&quot;Johnson&quot;</td><td>50000.0</td><td>&quot;2021-01-01&quot;</td><td>null</td><td>1</td><td>&quot;345-456-7890&quot;</td><td>&quot;alice.johnson@example.com&quot;</td><td>1</td><td>1</td><td>&quot;HR&quot;</td><td>&quot;New York&quot;</td></tr><tr><td>4</td><td>&quot;Bob&quot;</td><td>&quot;Brown&quot;</td><td>45000.0</td><td>&quot;2019-11-15&quot;</td><td>&quot;2023-01-01&quot;</td><td>3</td><td>&quot;987-456-7890&quot;</td><td>&quot;bob.brown@example.com&quot;</td><td>2</td><td>3</td><td>&quot;Finance&quot;</td><td>&quot;Chicago&quot;</td></tr><tr><td>5</td><td>&quot;Charlie&quot;</td><td>&quot;Davis&quot;</td><td>80000.0</td><td>&quot;2016-01-15&quot;</td><td>null</td><td>2</td><td>&quot;321-456-7890&quot;</td><td>&quot;charlie.davis@example.com&quot;</td><td>null</td><td>2</td><td>&quot;Engineering&quot;</td><td>&quot;San Francisco&quot;</td></tr><tr><td>6</td><td>&quot;Eve&quot;</td><td>&quot;Wilson&quot;</td><td>90000.0</td><td>&quot;2020-07-15&quot;</td><td>null</td><td>3</td><td>&quot;147-456-7890&quot;</td><td>&quot;eve.wilson@example.com&quot;</td><td>2</td><td>3</td><td>&quot;Finance&quot;</td><td>&quot;Chicago&quot;</td></tr><tr><td>7</td><td>&quot;Frank&quot;</td><td>&quot;Taylor&quot;</td><td>55000.0</td><td>&quot;2022-10-01&quot;</td><td>null</td><td>1</td><td>&quot;945-456-7890&quot;</td><td>null</td><td>3</td><td>1</td><td>&quot;HR&quot;</td><td>&quot;New York&quot;</td></tr><tr><td>8</td><td>&quot;Dan&quot;</td><td>&quot;Smith&quot;</td><td>55000.0</td><td>&quot;2020-11-15&quot;</td><td>null</td><td>5</td><td>null</td><td>null</td><td>null</td><td>null</td><td>null</td><td>null</td></tr><tr><td>null</td><td>null</td><td>null</td><td>null</td><td>null</td><td>null</td><td>null</td><td>null</td><td>null</td><td>null</td><td>4</td><td>&quot;IT&quot;</td><td>&quot;Denver&quot;</td></tr></tbody></table></div>"
      ],
      "text/plain": [
       "shape: (9, 13)\n",
       "┌────────────┬───────────┬──────────┬─────────┬───┬───────────┬────────────┬───────────┬───────────┐\n",
       "│ EmployeeID ┆ FirstName ┆ LastName ┆ Salary  ┆ … ┆ ManagerID ┆ Department ┆ Departmen ┆ Location  │\n",
       "│ ---        ┆ ---       ┆ ---      ┆ ---     ┆   ┆ ---       ┆ ID:dep     ┆ tName     ┆ ---       │\n",
       "│ i64        ┆ str       ┆ str      ┆ f64     ┆   ┆ i64       ┆ ---        ┆ ---       ┆ str       │\n",
       "│            ┆           ┆          ┆         ┆   ┆           ┆ i64        ┆ str       ┆           │\n",
       "╞════════════╪═══════════╪══════════╪═════════╪═══╪═══════════╪════════════╪═══════════╪═══════════╡\n",
       "│ 1          ┆ John      ┆ Doe      ┆ 60000.0 ┆ … ┆ null      ┆ 1          ┆ HR        ┆ New York  │\n",
       "│ 2          ┆   Jane    ┆ Smith    ┆ 75000.0 ┆ … ┆ 1         ┆ 2          ┆ Engineeri ┆ San       │\n",
       "│            ┆           ┆          ┆         ┆   ┆           ┆            ┆ ng        ┆ Francisco │\n",
       "│ 3          ┆  Alice    ┆ Johnson  ┆ 50000.0 ┆ … ┆ 1         ┆ 1          ┆ HR        ┆ New York  │\n",
       "│ 4          ┆ Bob       ┆ Brown    ┆ 45000.0 ┆ … ┆ 2         ┆ 3          ┆ Finance   ┆ Chicago   │\n",
       "│ 5          ┆ Charlie   ┆ Davis    ┆ 80000.0 ┆ … ┆ null      ┆ 2          ┆ Engineeri ┆ San       │\n",
       "│            ┆           ┆          ┆         ┆   ┆           ┆            ┆ ng        ┆ Francisco │\n",
       "│ 6          ┆ Eve       ┆ Wilson   ┆ 90000.0 ┆ … ┆ 2         ┆ 3          ┆ Finance   ┆ Chicago   │\n",
       "│ 7          ┆ Frank     ┆ Taylor   ┆ 55000.0 ┆ … ┆ 3         ┆ 1          ┆ HR        ┆ New York  │\n",
       "│ 8          ┆ Dan       ┆ Smith    ┆ 55000.0 ┆ … ┆ null      ┆ null       ┆ null      ┆ null      │\n",
       "│ null       ┆ null      ┆ null     ┆ null    ┆ … ┆ null      ┆ 4          ┆ IT        ┆ Denver    │\n",
       "└────────────┴───────────┴──────────┴─────────┴───┴───────────┴────────────┴───────────┴───────────┘"
      ]
     },
     "execution_count": 18,
     "metadata": {},
     "output_type": "execute_result"
    }
   ],
   "source": [
    "pl.sql(\n",
    "    \"\"\"\n",
    "    SELECT\n",
    "        *\n",
    "    FROM\n",
    "        emp\n",
    "    FULL OUTER JOIN dep ON dep.DepartmentID = emp.DepartmentID\n",
    "    \"\"\"\n",
    ").collect()"
   ]
  },
  {
   "cell_type": "markdown",
   "id": "16d7b907",
   "metadata": {},
   "source": [
    "## String Functions"
   ]
  },
  {
   "cell_type": "markdown",
   "id": "549b3c75",
   "metadata": {},
   "source": [
    "### LIKE\n",
    "\n",
    "Allows for pattern matching on string columns\n",
    "\n",
    "- \"%\" - Matches zero or more characters\n",
    "- \"_\" - Matches exactly one character"
   ]
  },
  {
   "cell_type": "code",
   "execution_count": 19,
   "id": "7c52f733",
   "metadata": {},
   "outputs": [
    {
     "data": {
      "text/html": [
       "<div><style>\n",
       ".dataframe > thead > tr,\n",
       ".dataframe > tbody > tr {\n",
       "  text-align: right;\n",
       "  white-space: pre-wrap;\n",
       "}\n",
       "</style>\n",
       "<small>shape: (1, 10)</small><table border=\"1\" class=\"dataframe\"><thead><tr><th>EmployeeID</th><th>FirstName</th><th>LastName</th><th>Salary</th><th>HireDate</th><th>ExitDate</th><th>DepartmentID</th><th>PhoneNumber</th><th>Email</th><th>ManagerID</th></tr><tr><td>i64</td><td>str</td><td>str</td><td>f64</td><td>str</td><td>str</td><td>i64</td><td>str</td><td>str</td><td>i64</td></tr></thead><tbody><tr><td>6</td><td>&quot;Eve&quot;</td><td>&quot;Wilson&quot;</td><td>90000.0</td><td>&quot;2020-07-15&quot;</td><td>null</td><td>3</td><td>&quot;147-456-7890&quot;</td><td>&quot;eve.wilson@example.com&quot;</td><td>2</td></tr></tbody></table></div>"
      ],
      "text/plain": [
       "shape: (1, 10)\n",
       "┌────────────┬───────────┬──────────┬─────────┬───┬────────────┬───────────┬───────────┬───────────┐\n",
       "│ EmployeeID ┆ FirstName ┆ LastName ┆ Salary  ┆ … ┆ Department ┆ PhoneNumb ┆ Email     ┆ ManagerID │\n",
       "│ ---        ┆ ---       ┆ ---      ┆ ---     ┆   ┆ ID         ┆ er        ┆ ---       ┆ ---       │\n",
       "│ i64        ┆ str       ┆ str      ┆ f64     ┆   ┆ ---        ┆ ---       ┆ str       ┆ i64       │\n",
       "│            ┆           ┆          ┆         ┆   ┆ i64        ┆ str       ┆           ┆           │\n",
       "╞════════════╪═══════════╪══════════╪═════════╪═══╪════════════╪═══════════╪═══════════╪═══════════╡\n",
       "│ 6          ┆ Eve       ┆ Wilson   ┆ 90000.0 ┆ … ┆ 3          ┆ 147-456-7 ┆ eve.wilso ┆ 2         │\n",
       "│            ┆           ┆          ┆         ┆   ┆            ┆ 890       ┆ n@example ┆           │\n",
       "│            ┆           ┆          ┆         ┆   ┆            ┆           ┆ .com      ┆           │\n",
       "└────────────┴───────────┴──────────┴─────────┴───┴────────────┴───────────┴───────────┴───────────┘"
      ]
     },
     "execution_count": 19,
     "metadata": {},
     "output_type": "execute_result"
    }
   ],
   "source": [
    "# Find all rows where the column starts with 'E'\n",
    "\n",
    "pl.sql(\n",
    "    \"\"\"\n",
    "    SELECT\n",
    "        *\n",
    "    FROM\n",
    "        emp\n",
    "    WHERE\n",
    "        FirstName LIKE 'E%'\n",
    "    \"\"\"\n",
    ").collect()"
   ]
  },
  {
   "cell_type": "code",
   "execution_count": 20,
   "id": "a0afa892",
   "metadata": {},
   "outputs": [
    {
     "data": {
      "text/html": [
       "<div><style>\n",
       ".dataframe > thead > tr,\n",
       ".dataframe > tbody > tr {\n",
       "  text-align: right;\n",
       "  white-space: pre-wrap;\n",
       "}\n",
       "</style>\n",
       "<small>shape: (2, 10)</small><table border=\"1\" class=\"dataframe\"><thead><tr><th>EmployeeID</th><th>FirstName</th><th>LastName</th><th>Salary</th><th>HireDate</th><th>ExitDate</th><th>DepartmentID</th><th>PhoneNumber</th><th>Email</th><th>ManagerID</th></tr><tr><td>i64</td><td>str</td><td>str</td><td>f64</td><td>str</td><td>str</td><td>i64</td><td>str</td><td>str</td><td>i64</td></tr></thead><tbody><tr><td>1</td><td>&quot;John&quot;</td><td>&quot;Doe&quot;</td><td>60000.0</td><td>&quot;2020-01-15&quot;</td><td>null</td><td>1</td><td>&quot;123-456-7890&quot;</td><td>&quot;john.doe@example.com&quot;</td><td>null</td></tr><tr><td>8</td><td>&quot;Dan&quot;</td><td>&quot;Smith&quot;</td><td>55000.0</td><td>&quot;2020-11-15&quot;</td><td>null</td><td>5</td><td>null</td><td>null</td><td>null</td></tr></tbody></table></div>"
      ],
      "text/plain": [
       "shape: (2, 10)\n",
       "┌────────────┬───────────┬──────────┬─────────┬───┬────────────┬───────────┬───────────┬───────────┐\n",
       "│ EmployeeID ┆ FirstName ┆ LastName ┆ Salary  ┆ … ┆ Department ┆ PhoneNumb ┆ Email     ┆ ManagerID │\n",
       "│ ---        ┆ ---       ┆ ---      ┆ ---     ┆   ┆ ID         ┆ er        ┆ ---       ┆ ---       │\n",
       "│ i64        ┆ str       ┆ str      ┆ f64     ┆   ┆ ---        ┆ ---       ┆ str       ┆ i64       │\n",
       "│            ┆           ┆          ┆         ┆   ┆ i64        ┆ str       ┆           ┆           │\n",
       "╞════════════╪═══════════╪══════════╪═════════╪═══╪════════════╪═══════════╪═══════════╪═══════════╡\n",
       "│ 1          ┆ John      ┆ Doe      ┆ 60000.0 ┆ … ┆ 1          ┆ 123-456-7 ┆ john.doe@ ┆ null      │\n",
       "│            ┆           ┆          ┆         ┆   ┆            ┆ 890       ┆ example.c ┆           │\n",
       "│            ┆           ┆          ┆         ┆   ┆            ┆           ┆ om        ┆           │\n",
       "│ 8          ┆ Dan       ┆ Smith    ┆ 55000.0 ┆ … ┆ 5          ┆ null      ┆ null      ┆ null      │\n",
       "└────────────┴───────────┴──────────┴─────────┴───┴────────────┴───────────┴───────────┴───────────┘"
      ]
     },
     "execution_count": 20,
     "metadata": {},
     "output_type": "execute_result"
    }
   ],
   "source": [
    "# Find all rows where the column ends with 'n'\n",
    "\n",
    "pl.sql(\n",
    "    \"\"\"\n",
    "    SELECT\n",
    "        *\n",
    "    FROM\n",
    "        emp\n",
    "    WHERE\n",
    "        FirstName LIKE '%n'\n",
    "    \"\"\"\n",
    ").collect()"
   ]
  },
  {
   "cell_type": "code",
   "execution_count": 21,
   "id": "a1242d36",
   "metadata": {},
   "outputs": [
    {
     "data": {
      "text/html": [
       "<div><style>\n",
       ".dataframe > thead > tr,\n",
       ".dataframe > tbody > tr {\n",
       "  text-align: right;\n",
       "  white-space: pre-wrap;\n",
       "}\n",
       "</style>\n",
       "<small>shape: (3, 10)</small><table border=\"1\" class=\"dataframe\"><thead><tr><th>EmployeeID</th><th>FirstName</th><th>LastName</th><th>Salary</th><th>HireDate</th><th>ExitDate</th><th>DepartmentID</th><th>PhoneNumber</th><th>Email</th><th>ManagerID</th></tr><tr><td>i64</td><td>str</td><td>str</td><td>f64</td><td>str</td><td>str</td><td>i64</td><td>str</td><td>str</td><td>i64</td></tr></thead><tbody><tr><td>2</td><td>&quot;&nbsp;&nbsp;Jane&quot;</td><td>&quot;Smith&quot;</td><td>75000.0</td><td>&quot;2018-07-01&quot;</td><td>null</td><td>2</td><td>&quot;789-456-7890&quot;</td><td>&quot;jane.smith@example.com&quot;</td><td>1</td></tr><tr><td>7</td><td>&quot;Frank&quot;</td><td>&quot;Taylor&quot;</td><td>55000.0</td><td>&quot;2022-10-01&quot;</td><td>null</td><td>1</td><td>&quot;945-456-7890&quot;</td><td>null</td><td>3</td></tr><tr><td>8</td><td>&quot;Dan&quot;</td><td>&quot;Smith&quot;</td><td>55000.0</td><td>&quot;2020-11-15&quot;</td><td>null</td><td>5</td><td>null</td><td>null</td><td>null</td></tr></tbody></table></div>"
      ],
      "text/plain": [
       "shape: (3, 10)\n",
       "┌────────────┬───────────┬──────────┬─────────┬───┬────────────┬───────────┬───────────┬───────────┐\n",
       "│ EmployeeID ┆ FirstName ┆ LastName ┆ Salary  ┆ … ┆ Department ┆ PhoneNumb ┆ Email     ┆ ManagerID │\n",
       "│ ---        ┆ ---       ┆ ---      ┆ ---     ┆   ┆ ID         ┆ er        ┆ ---       ┆ ---       │\n",
       "│ i64        ┆ str       ┆ str      ┆ f64     ┆   ┆ ---        ┆ ---       ┆ str       ┆ i64       │\n",
       "│            ┆           ┆          ┆         ┆   ┆ i64        ┆ str       ┆           ┆           │\n",
       "╞════════════╪═══════════╪══════════╪═════════╪═══╪════════════╪═══════════╪═══════════╪═══════════╡\n",
       "│ 2          ┆   Jane    ┆ Smith    ┆ 75000.0 ┆ … ┆ 2          ┆ 789-456-7 ┆ jane.smit ┆ 1         │\n",
       "│            ┆           ┆          ┆         ┆   ┆            ┆ 890       ┆ h@example ┆           │\n",
       "│            ┆           ┆          ┆         ┆   ┆            ┆           ┆ .com      ┆           │\n",
       "│ 7          ┆ Frank     ┆ Taylor   ┆ 55000.0 ┆ … ┆ 1          ┆ 945-456-7 ┆ null      ┆ 3         │\n",
       "│            ┆           ┆          ┆         ┆   ┆            ┆ 890       ┆           ┆           │\n",
       "│ 8          ┆ Dan       ┆ Smith    ┆ 55000.0 ┆ … ┆ 5          ┆ null      ┆ null      ┆ null      │\n",
       "└────────────┴───────────┴──────────┴─────────┴───┴────────────┴───────────┴───────────┴───────────┘"
      ]
     },
     "execution_count": 21,
     "metadata": {},
     "output_type": "execute_result"
    }
   ],
   "source": [
    "# Find all rows where the column contains 'an'\n",
    "\n",
    "pl.sql(\n",
    "    \"\"\"\n",
    "    SELECT\n",
    "        *\n",
    "    FROM\n",
    "        emp\n",
    "    WHERE\n",
    "        FirstName LIKE '%an%'\n",
    "    \"\"\"\n",
    ").collect()"
   ]
  },
  {
   "cell_type": "code",
   "execution_count": 22,
   "id": "c29fc52e",
   "metadata": {},
   "outputs": [
    {
     "data": {
      "text/html": [
       "<div><style>\n",
       ".dataframe > thead > tr,\n",
       ".dataframe > tbody > tr {\n",
       "  text-align: right;\n",
       "  white-space: pre-wrap;\n",
       "}\n",
       "</style>\n",
       "<small>shape: (1, 10)</small><table border=\"1\" class=\"dataframe\"><thead><tr><th>EmployeeID</th><th>FirstName</th><th>LastName</th><th>Salary</th><th>HireDate</th><th>ExitDate</th><th>DepartmentID</th><th>PhoneNumber</th><th>Email</th><th>ManagerID</th></tr><tr><td>i64</td><td>str</td><td>str</td><td>f64</td><td>str</td><td>str</td><td>i64</td><td>str</td><td>str</td><td>i64</td></tr></thead><tbody><tr><td>5</td><td>&quot;Charlie&quot;</td><td>&quot;Davis&quot;</td><td>80000.0</td><td>&quot;2016-01-15&quot;</td><td>null</td><td>2</td><td>&quot;321-456-7890&quot;</td><td>&quot;charlie.davis@example.com&quot;</td><td>null</td></tr></tbody></table></div>"
      ],
      "text/plain": [
       "shape: (1, 10)\n",
       "┌────────────┬───────────┬──────────┬─────────┬───┬────────────┬───────────┬───────────┬───────────┐\n",
       "│ EmployeeID ┆ FirstName ┆ LastName ┆ Salary  ┆ … ┆ Department ┆ PhoneNumb ┆ Email     ┆ ManagerID │\n",
       "│ ---        ┆ ---       ┆ ---      ┆ ---     ┆   ┆ ID         ┆ er        ┆ ---       ┆ ---       │\n",
       "│ i64        ┆ str       ┆ str      ┆ f64     ┆   ┆ ---        ┆ ---       ┆ str       ┆ i64       │\n",
       "│            ┆           ┆          ┆         ┆   ┆ i64        ┆ str       ┆           ┆           │\n",
       "╞════════════╪═══════════╪══════════╪═════════╪═══╪════════════╪═══════════╪═══════════╪═══════════╡\n",
       "│ 5          ┆ Charlie   ┆ Davis    ┆ 80000.0 ┆ … ┆ 2          ┆ 321-456-7 ┆ charlie.d ┆ null      │\n",
       "│            ┆           ┆          ┆         ┆   ┆            ┆ 890       ┆ avis@exam ┆           │\n",
       "│            ┆           ┆          ┆         ┆   ┆            ┆           ┆ ple.com   ┆           │\n",
       "└────────────┴───────────┴──────────┴─────────┴───┴────────────┴───────────┴───────────┴───────────┘"
      ]
     },
     "execution_count": 22,
     "metadata": {},
     "output_type": "execute_result"
    }
   ],
   "source": [
    "# Find all rows where the column has 'h' as the second character\n",
    "\n",
    "pl.sql(\n",
    "    \"\"\"\n",
    "    SELECT\n",
    "        *\n",
    "    FROM\n",
    "        emp\n",
    "    WHERE\n",
    "        FirstName LIKE '_h%'\n",
    "    \"\"\"\n",
    ").collect()"
   ]
  },
  {
   "cell_type": "markdown",
   "id": "9379f3b0",
   "metadata": {},
   "source": [
    "### UPPER/LOWER\n",
    "\n",
    "Convert strings to uppercase or lowercase"
   ]
  },
  {
   "cell_type": "code",
   "execution_count": 23,
   "id": "afaf0d36",
   "metadata": {},
   "outputs": [
    {
     "data": {
      "text/html": [
       "<div><style>\n",
       ".dataframe > thead > tr,\n",
       ".dataframe > tbody > tr {\n",
       "  text-align: right;\n",
       "  white-space: pre-wrap;\n",
       "}\n",
       "</style>\n",
       "<small>shape: (8, 2)</small><table border=\"1\" class=\"dataframe\"><thead><tr><th>LowerFirstName</th><th>UpperFirstName</th></tr><tr><td>str</td><td>str</td></tr></thead><tbody><tr><td>&quot;john&quot;</td><td>&quot;JOHN&quot;</td></tr><tr><td>&quot;&nbsp;&nbsp;jane&quot;</td><td>&quot;&nbsp;&nbsp;JANE&quot;</td></tr><tr><td>&quot; alice &quot;</td><td>&quot; ALICE &quot;</td></tr><tr><td>&quot;bob&quot;</td><td>&quot;BOB&quot;</td></tr><tr><td>&quot;charlie&quot;</td><td>&quot;CHARLIE&quot;</td></tr><tr><td>&quot;eve&quot;</td><td>&quot;EVE&quot;</td></tr><tr><td>&quot;frank&quot;</td><td>&quot;FRANK&quot;</td></tr><tr><td>&quot;dan&quot;</td><td>&quot;DAN&quot;</td></tr></tbody></table></div>"
      ],
      "text/plain": [
       "shape: (8, 2)\n",
       "┌────────────────┬────────────────┐\n",
       "│ LowerFirstName ┆ UpperFirstName │\n",
       "│ ---            ┆ ---            │\n",
       "│ str            ┆ str            │\n",
       "╞════════════════╪════════════════╡\n",
       "│ john           ┆ JOHN           │\n",
       "│   jane         ┆   JANE         │\n",
       "│  alice         ┆  ALICE         │\n",
       "│ bob            ┆ BOB            │\n",
       "│ charlie        ┆ CHARLIE        │\n",
       "│ eve            ┆ EVE            │\n",
       "│ frank          ┆ FRANK          │\n",
       "│ dan            ┆ DAN            │\n",
       "└────────────────┴────────────────┘"
      ]
     },
     "execution_count": 23,
     "metadata": {},
     "output_type": "execute_result"
    }
   ],
   "source": [
    "pl.sql(\n",
    "    \"\"\"\n",
    "    SELECT\n",
    "        LOWER(FirstName) AS LowerFirstName,\n",
    "        UPPER(FirstName) AS UpperFirstName\n",
    "    FROM\n",
    "        emp\n",
    "    \"\"\"\n",
    ").collect()"
   ]
  },
  {
   "cell_type": "markdown",
   "id": "ffa3c4ea",
   "metadata": {},
   "source": [
    "### CONCAT\n",
    "\n",
    "Concatenate strings"
   ]
  },
  {
   "cell_type": "code",
   "execution_count": 24,
   "id": "59f4522f",
   "metadata": {},
   "outputs": [
    {
     "data": {
      "text/html": [
       "<div><style>\n",
       ".dataframe > thead > tr,\n",
       ".dataframe > tbody > tr {\n",
       "  text-align: right;\n",
       "  white-space: pre-wrap;\n",
       "}\n",
       "</style>\n",
       "<small>shape: (8, 1)</small><table border=\"1\" class=\"dataframe\"><thead><tr><th>FullName</th></tr><tr><td>str</td></tr></thead><tbody><tr><td>&quot;John Doe&quot;</td></tr><tr><td>&quot;&nbsp;&nbsp;Jane Smith&quot;</td></tr><tr><td>&quot; Alice&nbsp;&nbsp;Johnson&quot;</td></tr><tr><td>&quot;Bob Brown&quot;</td></tr><tr><td>&quot;Charlie Davis&quot;</td></tr><tr><td>&quot;Eve Wilson&quot;</td></tr><tr><td>&quot;Frank Taylor&quot;</td></tr><tr><td>&quot;Dan Smith&quot;</td></tr></tbody></table></div>"
      ],
      "text/plain": [
       "shape: (8, 1)\n",
       "┌─────────────────┐\n",
       "│ FullName        │\n",
       "│ ---             │\n",
       "│ str             │\n",
       "╞═════════════════╡\n",
       "│ John Doe        │\n",
       "│   Jane Smith    │\n",
       "│  Alice  Johnson │\n",
       "│ Bob Brown       │\n",
       "│ Charlie Davis   │\n",
       "│ Eve Wilson      │\n",
       "│ Frank Taylor    │\n",
       "│ Dan Smith       │\n",
       "└─────────────────┘"
      ]
     },
     "execution_count": 24,
     "metadata": {},
     "output_type": "execute_result"
    }
   ],
   "source": [
    "pl.sql(\n",
    "    \"\"\"\n",
    "    SELECT\n",
    "        CONCAT(FirstName, ' ', LastName) AS FullName\n",
    "    FROM\n",
    "        emp\n",
    "    \"\"\"\n",
    ").collect()"
   ]
  },
  {
   "cell_type": "markdown",
   "id": "4d278111",
   "metadata": {},
   "source": [
    "### TRIM\n",
    "\n",
    "Remove leading and trailing spaces"
   ]
  },
  {
   "cell_type": "code",
   "execution_count": 25,
   "id": "260667ec",
   "metadata": {},
   "outputs": [
    {
     "data": {
      "text/html": [
       "<div><style>\n",
       ".dataframe > thead > tr,\n",
       ".dataframe > tbody > tr {\n",
       "  text-align: right;\n",
       "  white-space: pre-wrap;\n",
       "}\n",
       "</style>\n",
       "<small>shape: (8, 4)</small><table border=\"1\" class=\"dataframe\"><thead><tr><th>FirstName</th><th>Trim</th><th>LeadingTrim</th><th>TrailingTrim</th></tr><tr><td>str</td><td>str</td><td>str</td><td>str</td></tr></thead><tbody><tr><td>&quot;John&quot;</td><td>&quot;John&quot;</td><td>&quot;John&quot;</td><td>&quot;John&quot;</td></tr><tr><td>&quot;&nbsp;&nbsp;Jane&quot;</td><td>&quot;Jane&quot;</td><td>&quot;Jane&quot;</td><td>&quot;&nbsp;&nbsp;Jane&quot;</td></tr><tr><td>&quot; Alice &quot;</td><td>&quot;Alice&quot;</td><td>&quot;Alice &quot;</td><td>&quot; Alice&quot;</td></tr><tr><td>&quot;Bob&quot;</td><td>&quot;Bob&quot;</td><td>&quot;Bob&quot;</td><td>&quot;Bob&quot;</td></tr><tr><td>&quot;Charlie&quot;</td><td>&quot;Charlie&quot;</td><td>&quot;Charlie&quot;</td><td>&quot;Charlie&quot;</td></tr><tr><td>&quot;Eve&quot;</td><td>&quot;Eve&quot;</td><td>&quot;Eve&quot;</td><td>&quot;Eve&quot;</td></tr><tr><td>&quot;Frank&quot;</td><td>&quot;Frank&quot;</td><td>&quot;Frank&quot;</td><td>&quot;Frank&quot;</td></tr><tr><td>&quot;Dan&quot;</td><td>&quot;Dan&quot;</td><td>&quot;Dan&quot;</td><td>&quot;Dan&quot;</td></tr></tbody></table></div>"
      ],
      "text/plain": [
       "shape: (8, 4)\n",
       "┌───────────┬─────────┬─────────────┬──────────────┐\n",
       "│ FirstName ┆ Trim    ┆ LeadingTrim ┆ TrailingTrim │\n",
       "│ ---       ┆ ---     ┆ ---         ┆ ---          │\n",
       "│ str       ┆ str     ┆ str         ┆ str          │\n",
       "╞═══════════╪═════════╪═════════════╪══════════════╡\n",
       "│ John      ┆ John    ┆ John        ┆ John         │\n",
       "│   Jane    ┆ Jane    ┆ Jane        ┆   Jane       │\n",
       "│  Alice    ┆ Alice   ┆ Alice       ┆  Alice       │\n",
       "│ Bob       ┆ Bob     ┆ Bob         ┆ Bob          │\n",
       "│ Charlie   ┆ Charlie ┆ Charlie     ┆ Charlie      │\n",
       "│ Eve       ┆ Eve     ┆ Eve         ┆ Eve          │\n",
       "│ Frank     ┆ Frank   ┆ Frank       ┆ Frank        │\n",
       "│ Dan       ┆ Dan     ┆ Dan         ┆ Dan          │\n",
       "└───────────┴─────────┴─────────────┴──────────────┘"
      ]
     },
     "execution_count": 25,
     "metadata": {},
     "output_type": "execute_result"
    }
   ],
   "source": [
    "pl.sql(\n",
    "    \"\"\"\n",
    "    SELECT\n",
    "        FirstName,\n",
    "        TRIM(FirstName) AS Trim,\n",
    "        LTRIM(FirstName) AS LeadingTrim,\n",
    "        RTRIM(FirstName) AS TrailingTrim\n",
    "    FROM\n",
    "        emp\n",
    "    \"\"\"\n",
    ").collect()"
   ]
  },
  {
   "cell_type": "markdown",
   "id": "183d35b3",
   "metadata": {},
   "source": [
    "## Date and Time Functions"
   ]
  },
  {
   "cell_type": "markdown",
   "id": "7ad674ef",
   "metadata": {},
   "source": [
    "### NOW/GETDATE\n",
    "\n",
    "Get the current date and time"
   ]
  },
  {
   "cell_type": "code",
   "execution_count": 26,
   "id": "79930e6c",
   "metadata": {},
   "outputs": [],
   "source": [
    "# pl.sql(\n",
    "#     \"\"\"\n",
    "#     SELECT\n",
    "#         GETDATE() AS CurrentDate\n",
    "#     FROM\n",
    "#         emp\n",
    "#     \"\"\"\n",
    "# ).collect()"
   ]
  },
  {
   "cell_type": "markdown",
   "id": "7bc51e49",
   "metadata": {},
   "source": [
    "### DATETIME/DATE/YEAR/MONTH/DAY/TIME\n",
    "\n",
    "Extract the date part of a datetime column"
   ]
  },
  {
   "cell_type": "code",
   "execution_count": 27,
   "id": "21cfa075",
   "metadata": {},
   "outputs": [
    {
     "data": {
      "text/html": [
       "<div><style>\n",
       ".dataframe > thead > tr,\n",
       ".dataframe > tbody > tr {\n",
       "  text-align: right;\n",
       "  white-space: pre-wrap;\n",
       "}\n",
       "</style>\n",
       "<small>shape: (8, 2)</small><table border=\"1\" class=\"dataframe\"><thead><tr><th>DateTime</th><th>Date</th></tr><tr><td>datetime[μs]</td><td>date</td></tr></thead><tbody><tr><td>2020-01-15 00:00:00</td><td>2020-01-15</td></tr><tr><td>2018-07-01 00:00:00</td><td>2018-07-01</td></tr><tr><td>2021-01-01 00:00:00</td><td>2021-01-01</td></tr><tr><td>2019-11-15 00:00:00</td><td>2019-11-15</td></tr><tr><td>2016-01-15 00:00:00</td><td>2016-01-15</td></tr><tr><td>2020-07-15 00:00:00</td><td>2020-07-15</td></tr><tr><td>2022-10-01 00:00:00</td><td>2022-10-01</td></tr><tr><td>2020-11-15 00:00:00</td><td>2020-11-15</td></tr></tbody></table></div>"
      ],
      "text/plain": [
       "shape: (8, 2)\n",
       "┌─────────────────────┬────────────┐\n",
       "│ DateTime            ┆ Date       │\n",
       "│ ---                 ┆ ---        │\n",
       "│ datetime[μs]        ┆ date       │\n",
       "╞═════════════════════╪════════════╡\n",
       "│ 2020-01-15 00:00:00 ┆ 2020-01-15 │\n",
       "│ 2018-07-01 00:00:00 ┆ 2018-07-01 │\n",
       "│ 2021-01-01 00:00:00 ┆ 2021-01-01 │\n",
       "│ 2019-11-15 00:00:00 ┆ 2019-11-15 │\n",
       "│ 2016-01-15 00:00:00 ┆ 2016-01-15 │\n",
       "│ 2020-07-15 00:00:00 ┆ 2020-07-15 │\n",
       "│ 2022-10-01 00:00:00 ┆ 2022-10-01 │\n",
       "│ 2020-11-15 00:00:00 ┆ 2020-11-15 │\n",
       "└─────────────────────┴────────────┘"
      ]
     },
     "execution_count": 27,
     "metadata": {},
     "output_type": "execute_result"
    }
   ],
   "source": [
    "pl.sql(\n",
    "    \"\"\"\n",
    "    SELECT\n",
    "        DATETIME(HireDate) AS DateTime,\n",
    "        DATE(HireDate) AS Date,\n",
    "        -- YEAR(HireDate) AS Year,\n",
    "        -- MONTH(HireDate) AS Year,\n",
    "        -- DAY(HireDate) AS Year,\n",
    "    FROM\n",
    "        emp\n",
    "    \"\"\"\n",
    ").collect()"
   ]
  },
  {
   "cell_type": "markdown",
   "id": "ecf4064c",
   "metadata": {},
   "source": [
    "### DATEDIFF\n",
    "\n",
    "Calculates the difference between two dates"
   ]
  },
  {
   "cell_type": "code",
   "execution_count": 28,
   "id": "983dabb5",
   "metadata": {},
   "outputs": [
    {
     "data": {
      "text/html": [
       "<div><style>\n",
       ".dataframe > thead > tr,\n",
       ".dataframe > tbody > tr {\n",
       "  text-align: right;\n",
       "  white-space: pre-wrap;\n",
       "}\n",
       "</style>\n",
       "<small>shape: (8, 1)</small><table border=\"1\" class=\"dataframe\"><thead><tr><th>EmploymentDuration</th></tr><tr><td>duration[ms]</td></tr></thead><tbody><tr><td>null</td></tr><tr><td>null</td></tr><tr><td>null</td></tr><tr><td>1143d</td></tr><tr><td>null</td></tr><tr><td>null</td></tr><tr><td>null</td></tr><tr><td>null</td></tr></tbody></table></div>"
      ],
      "text/plain": [
       "shape: (8, 1)\n",
       "┌────────────────────┐\n",
       "│ EmploymentDuration │\n",
       "│ ---                │\n",
       "│ duration[ms]       │\n",
       "╞════════════════════╡\n",
       "│ null               │\n",
       "│ null               │\n",
       "│ null               │\n",
       "│ 1143d              │\n",
       "│ null               │\n",
       "│ null               │\n",
       "│ null               │\n",
       "│ null               │\n",
       "└────────────────────┘"
      ]
     },
     "execution_count": 28,
     "metadata": {},
     "output_type": "execute_result"
    }
   ],
   "source": [
    "pl.sql(\n",
    "    \"\"\"\n",
    "    SELECT\n",
    "        DATE(ExitDate) - DATE(HireDate) AS EmploymentDuration\n",
    "        -- DATEDIFF(date1, date2) AS EmploymentDurationDATEDIFF\n",
    "    FROM\n",
    "        emp\n",
    "    \"\"\"\n",
    ").collect()"
   ]
  },
  {
   "cell_type": "markdown",
   "id": "c577ef36",
   "metadata": {},
   "source": [
    "## CONDITIONAL LOGIC"
   ]
  },
  {
   "cell_type": "markdown",
   "id": "6fa99017",
   "metadata": {},
   "source": [
    "### CASE\n",
    "\n",
    "Add conditional logic to queries"
   ]
  },
  {
   "cell_type": "code",
   "execution_count": 29,
   "id": "55efd848",
   "metadata": {},
   "outputs": [
    {
     "data": {
      "text/html": [
       "<div><style>\n",
       ".dataframe > thead > tr,\n",
       ".dataframe > tbody > tr {\n",
       "  text-align: right;\n",
       "  white-space: pre-wrap;\n",
       "}\n",
       "</style>\n",
       "<small>shape: (8, 3)</small><table border=\"1\" class=\"dataframe\"><thead><tr><th>FirstName</th><th>ExitDate</th><th>Expired</th></tr><tr><td>str</td><td>str</td><td>str</td></tr></thead><tbody><tr><td>&quot;John&quot;</td><td>null</td><td>&quot;False&quot;</td></tr><tr><td>&quot;Jane&quot;</td><td>null</td><td>&quot;False&quot;</td></tr><tr><td>&quot;Alice&quot;</td><td>null</td><td>&quot;False&quot;</td></tr><tr><td>&quot;Bob&quot;</td><td>&quot;2023-01-01&quot;</td><td>&quot;True&quot;</td></tr><tr><td>&quot;Charlie&quot;</td><td>null</td><td>&quot;False&quot;</td></tr><tr><td>&quot;Eve&quot;</td><td>null</td><td>&quot;False&quot;</td></tr><tr><td>&quot;Frank&quot;</td><td>null</td><td>&quot;False&quot;</td></tr><tr><td>&quot;Dan&quot;</td><td>null</td><td>&quot;False&quot;</td></tr></tbody></table></div>"
      ],
      "text/plain": [
       "shape: (8, 3)\n",
       "┌───────────┬────────────┬─────────┐\n",
       "│ FirstName ┆ ExitDate   ┆ Expired │\n",
       "│ ---       ┆ ---        ┆ ---     │\n",
       "│ str       ┆ str        ┆ str     │\n",
       "╞═══════════╪════════════╪═════════╡\n",
       "│ John      ┆ null       ┆ False   │\n",
       "│ Jane      ┆ null       ┆ False   │\n",
       "│ Alice     ┆ null       ┆ False   │\n",
       "│ Bob       ┆ 2023-01-01 ┆ True    │\n",
       "│ Charlie   ┆ null       ┆ False   │\n",
       "│ Eve       ┆ null       ┆ False   │\n",
       "│ Frank     ┆ null       ┆ False   │\n",
       "│ Dan       ┆ null       ┆ False   │\n",
       "└───────────┴────────────┴─────────┘"
      ]
     },
     "execution_count": 29,
     "metadata": {},
     "output_type": "execute_result"
    }
   ],
   "source": [
    "pl.sql(\n",
    "    \"\"\"\n",
    "    SELECT\n",
    "        TRIM(FirstName) AS FirstName,\n",
    "        ExitDate,\n",
    "        CASE\n",
    "            WHEN ExitDate IS NULL THEN 'False'\n",
    "            ELSE 'True'\n",
    "        END AS Expired\n",
    "    FROM\n",
    "        emp\n",
    "    \"\"\"\n",
    ").collect()"
   ]
  },
  {
   "cell_type": "markdown",
   "id": "3ebe4d59",
   "metadata": {},
   "source": [
    "### IIF\n",
    "\n",
    "Concise way to add conditional logic"
   ]
  },
  {
   "cell_type": "code",
   "execution_count": 30,
   "id": "3a8d9a0a",
   "metadata": {},
   "outputs": [],
   "source": [
    "# # Syntax: IIF(condition, true_value, false_value)\n",
    "\n",
    "# pl.sql(\n",
    "#     \"\"\"\n",
    "#     SELECT\n",
    "#         TRIM(FirstName) AS FirstName,\n",
    "#         ExitDate,\n",
    "#         IIF(ExitDate IS NULL, 'False', 'True') AS Expired\n",
    "#     FROM\n",
    "#         emp\n",
    "#     \"\"\"\n",
    "# ).collect()"
   ]
  },
  {
   "cell_type": "markdown",
   "id": "91eae76f",
   "metadata": {},
   "source": [
    "## Miscellaneous"
   ]
  },
  {
   "cell_type": "markdown",
   "id": "3dbbba13",
   "metadata": {},
   "source": [
    "### DISTINCT\n",
    "\n",
    "Select unique values"
   ]
  },
  {
   "cell_type": "code",
   "execution_count": 31,
   "id": "15fd3c95",
   "metadata": {},
   "outputs": [
    {
     "data": {
      "text/html": [
       "<div><style>\n",
       ".dataframe > thead > tr,\n",
       ".dataframe > tbody > tr {\n",
       "  text-align: right;\n",
       "  white-space: pre-wrap;\n",
       "}\n",
       "</style>\n",
       "<small>shape: (4, 1)</small><table border=\"1\" class=\"dataframe\"><thead><tr><th>DistinctDeptID</th></tr><tr><td>i64</td></tr></thead><tbody><tr><td>1</td></tr><tr><td>2</td></tr><tr><td>3</td></tr><tr><td>5</td></tr></tbody></table></div>"
      ],
      "text/plain": [
       "shape: (4, 1)\n",
       "┌────────────────┐\n",
       "│ DistinctDeptID │\n",
       "│ ---            │\n",
       "│ i64            │\n",
       "╞════════════════╡\n",
       "│ 1              │\n",
       "│ 2              │\n",
       "│ 3              │\n",
       "│ 5              │\n",
       "└────────────────┘"
      ]
     },
     "execution_count": 31,
     "metadata": {},
     "output_type": "execute_result"
    }
   ],
   "source": [
    "pl.sql(\n",
    "    \"\"\"\n",
    "    SELECT\n",
    "        DISTINCT(DepartmentID) AS DistinctDeptID\n",
    "    FROM\n",
    "        emp\n",
    "    \"\"\"\n",
    ").collect()"
   ]
  },
  {
   "cell_type": "markdown",
   "id": "240b12b7",
   "metadata": {},
   "source": [
    "### IS NULL/IS NOT NULL\n",
    "\n",
    "Check for NULL values"
   ]
  },
  {
   "cell_type": "code",
   "execution_count": 32,
   "id": "1a5fc6d6",
   "metadata": {},
   "outputs": [
    {
     "data": {
      "text/html": [
       "<div><style>\n",
       ".dataframe > thead > tr,\n",
       ".dataframe > tbody > tr {\n",
       "  text-align: right;\n",
       "  white-space: pre-wrap;\n",
       "}\n",
       "</style>\n",
       "<small>shape: (1, 10)</small><table border=\"1\" class=\"dataframe\"><thead><tr><th>EmployeeID</th><th>FirstName</th><th>LastName</th><th>Salary</th><th>HireDate</th><th>ExitDate</th><th>DepartmentID</th><th>PhoneNumber</th><th>Email</th><th>ManagerID</th></tr><tr><td>i64</td><td>str</td><td>str</td><td>f64</td><td>str</td><td>str</td><td>i64</td><td>str</td><td>str</td><td>i64</td></tr></thead><tbody><tr><td>4</td><td>&quot;Bob&quot;</td><td>&quot;Brown&quot;</td><td>45000.0</td><td>&quot;2019-11-15&quot;</td><td>&quot;2023-01-01&quot;</td><td>3</td><td>&quot;987-456-7890&quot;</td><td>&quot;bob.brown@example.com&quot;</td><td>2</td></tr></tbody></table></div>"
      ],
      "text/plain": [
       "shape: (1, 10)\n",
       "┌────────────┬───────────┬──────────┬─────────┬───┬────────────┬───────────┬───────────┬───────────┐\n",
       "│ EmployeeID ┆ FirstName ┆ LastName ┆ Salary  ┆ … ┆ Department ┆ PhoneNumb ┆ Email     ┆ ManagerID │\n",
       "│ ---        ┆ ---       ┆ ---      ┆ ---     ┆   ┆ ID         ┆ er        ┆ ---       ┆ ---       │\n",
       "│ i64        ┆ str       ┆ str      ┆ f64     ┆   ┆ ---        ┆ ---       ┆ str       ┆ i64       │\n",
       "│            ┆           ┆          ┆         ┆   ┆ i64        ┆ str       ┆           ┆           │\n",
       "╞════════════╪═══════════╪══════════╪═════════╪═══╪════════════╪═══════════╪═══════════╪═══════════╡\n",
       "│ 4          ┆ Bob       ┆ Brown    ┆ 45000.0 ┆ … ┆ 3          ┆ 987-456-7 ┆ bob.brown ┆ 2         │\n",
       "│            ┆           ┆          ┆         ┆   ┆            ┆ 890       ┆ @example. ┆           │\n",
       "│            ┆           ┆          ┆         ┆   ┆            ┆           ┆ com       ┆           │\n",
       "└────────────┴───────────┴──────────┴─────────┴───┴────────────┴───────────┴───────────┴───────────┘"
      ]
     },
     "execution_count": 32,
     "metadata": {},
     "output_type": "execute_result"
    }
   ],
   "source": [
    "pl.sql(\n",
    "    \"\"\"\n",
    "    SELECT\n",
    "        *\n",
    "    FROM\n",
    "        emp\n",
    "    WHERE\n",
    "        ExitDate IS NOT NULL\n",
    "    \"\"\"\n",
    ").collect()"
   ]
  },
  {
   "cell_type": "markdown",
   "id": "a0445f4d",
   "metadata": {},
   "source": [
    "### COALESCE\n",
    "\n",
    "Return the first non-NULL value"
   ]
  },
  {
   "cell_type": "code",
   "execution_count": 33,
   "id": "8eb613e5",
   "metadata": {},
   "outputs": [
    {
     "data": {
      "text/html": [
       "<div><style>\n",
       ".dataframe > thead > tr,\n",
       ".dataframe > tbody > tr {\n",
       "  text-align: right;\n",
       "  white-space: pre-wrap;\n",
       "}\n",
       "</style>\n",
       "<small>shape: (8, 3)</small><table border=\"1\" class=\"dataframe\"><thead><tr><th>FirstName</th><th>LastName</th><th>ContactInfo</th></tr><tr><td>str</td><td>str</td><td>str</td></tr></thead><tbody><tr><td>&quot;John&quot;</td><td>&quot;Doe&quot;</td><td>&quot;john.doe@example.com&quot;</td></tr><tr><td>&quot;&nbsp;&nbsp;Jane&quot;</td><td>&quot;Smith&quot;</td><td>&quot;jane.smith@example.com&quot;</td></tr><tr><td>&quot; Alice &quot;</td><td>&quot;Johnson&quot;</td><td>&quot;alice.johnson@example.com&quot;</td></tr><tr><td>&quot;Bob&quot;</td><td>&quot;Brown&quot;</td><td>&quot;bob.brown@example.com&quot;</td></tr><tr><td>&quot;Charlie&quot;</td><td>&quot;Davis&quot;</td><td>&quot;charlie.davis@example.com&quot;</td></tr><tr><td>&quot;Eve&quot;</td><td>&quot;Wilson&quot;</td><td>&quot;eve.wilson@example.com&quot;</td></tr><tr><td>&quot;Frank&quot;</td><td>&quot;Taylor&quot;</td><td>&quot;945-456-7890&quot;</td></tr><tr><td>&quot;Dan&quot;</td><td>&quot;Smith&quot;</td><td>&quot;No Contact Info&quot;</td></tr></tbody></table></div>"
      ],
      "text/plain": [
       "shape: (8, 3)\n",
       "┌───────────┬──────────┬───────────────────────────┐\n",
       "│ FirstName ┆ LastName ┆ ContactInfo               │\n",
       "│ ---       ┆ ---      ┆ ---                       │\n",
       "│ str       ┆ str      ┆ str                       │\n",
       "╞═══════════╪══════════╪═══════════════════════════╡\n",
       "│ John      ┆ Doe      ┆ john.doe@example.com      │\n",
       "│   Jane    ┆ Smith    ┆ jane.smith@example.com    │\n",
       "│  Alice    ┆ Johnson  ┆ alice.johnson@example.com │\n",
       "│ Bob       ┆ Brown    ┆ bob.brown@example.com     │\n",
       "│ Charlie   ┆ Davis    ┆ charlie.davis@example.com │\n",
       "│ Eve       ┆ Wilson   ┆ eve.wilson@example.com    │\n",
       "│ Frank     ┆ Taylor   ┆ 945-456-7890              │\n",
       "│ Dan       ┆ Smith    ┆ No Contact Info           │\n",
       "└───────────┴──────────┴───────────────────────────┘"
      ]
     },
     "execution_count": 33,
     "metadata": {},
     "output_type": "execute_result"
    }
   ],
   "source": [
    "# Syntax: COALESCE(column1, column2, 'default_value')\n",
    "\n",
    "pl.sql(\n",
    "    \"\"\"\n",
    "    SELECT\n",
    "        FirstName,\n",
    "        LastName,\n",
    "        COALESCE(Email, PhoneNumber, 'No Contact Info') AS ContactInfo\n",
    "    FROM\n",
    "        emp\n",
    "    \"\"\"\n",
    ").collect()"
   ]
  },
  {
   "cell_type": "markdown",
   "id": "47191044",
   "metadata": {},
   "source": [
    "## Window Functions"
   ]
  },
  {
   "cell_type": "markdown",
   "id": "06c5012a",
   "metadata": {},
   "source": [
    "### OVER\n",
    "\n",
    "The OVER clause defines the window (a subset of rows) on which a window function operates. It can include:\n",
    "\n",
    "- PARTITION BY: Divides rows into groups (like a GROUP BY but without collapsing rows)\n",
    "- ORDER BY: Defines the order of rows within the window"
   ]
  },
  {
   "cell_type": "code",
   "execution_count": 34,
   "id": "018e54a8",
   "metadata": {},
   "outputs": [],
   "source": [
    "# pl.sql(\n",
    "#     \"\"\"\n",
    "#     SELECT\n",
    "#         FirstName,\n",
    "#         LastName,\n",
    "#         DepartmentID,\n",
    "#         RANK() OVER (PARTITION BY DepartmentID ORDER BY Salary DESC) AS InterDeptSalaryRank\n",
    "#     FROM\n",
    "#         emp\n",
    "#     \"\"\"\n",
    "# ).collect()"
   ]
  },
  {
   "cell_type": "markdown",
   "id": "0504110d",
   "metadata": {},
   "source": [
    "### RANK\n",
    "\n",
    "Assigns a rank to each row within a partition, with gaps if there are ties (If two rows tie for rank 1, the next rank will be 3 (e.g., 1, 1, 3, 4))"
   ]
  },
  {
   "cell_type": "code",
   "execution_count": 35,
   "id": "53aa9cda",
   "metadata": {},
   "outputs": [],
   "source": [
    "# pl.sql(\n",
    "#     \"\"\"\n",
    "#     SELECT\n",
    "#         FirstName,\n",
    "#         LastName,\n",
    "#         DepartmentID,\n",
    "#         RANK() OVER (PARTITION BY DepartmentID ORDER BY Salary DESC) AS InterDeptSalaryRank\n",
    "#     FROM\n",
    "#         emp\n",
    "#     \"\"\"\n",
    "# ).collect()"
   ]
  },
  {
   "cell_type": "markdown",
   "id": "64c1fd03",
   "metadata": {},
   "source": [
    "### DENSE_RANK\n",
    "\n",
    "Similar to RANK, but without gaps in ranking for ties (If two rows tie for rank 1, the next rank will be 2 (e.g., 1, 1, 2, 3))"
   ]
  },
  {
   "cell_type": "code",
   "execution_count": 36,
   "id": "cccb6246",
   "metadata": {},
   "outputs": [],
   "source": [
    "# pl.sql(\n",
    "#     \"\"\"\n",
    "#     SELECT\n",
    "#         FirstName,\n",
    "#         LastName,\n",
    "#         DepartmentID,\n",
    "#         DENSE_RANK() OVER (PARTITION BY DepartmentID ORDER BY Salary DESC) AS InterDeptSalaryDenseRank\n",
    "#     FROM\n",
    "#         emp\n",
    "#     \"\"\"\n",
    "# ).collect()"
   ]
  },
  {
   "cell_type": "markdown",
   "id": "433efdf7",
   "metadata": {},
   "source": [
    "### LAG\n",
    "\n",
    "Returns the value of a column from the **previous** row in the result set"
   ]
  },
  {
   "cell_type": "code",
   "execution_count": 37,
   "id": "ca977de5",
   "metadata": {},
   "outputs": [],
   "source": [
    "# pl.sql(\n",
    "#     \"\"\"\n",
    "#     SELECT\n",
    "#         EntityID,\n",
    "#         State AS CurrentState,\n",
    "#         COALESCE(\n",
    "#             LAG(State) OVER (PARTITION BY EntityID ORDER BY TransitionTime ASC),\n",
    "#             'No previous State' -- if no previous state\n",
    "#         ) AS PreviousState\n",
    "#     FROM\n",
    "#         emp\n",
    "#     \"\"\"\n",
    "# ).collect()"
   ]
  },
  {
   "cell_type": "markdown",
   "id": "2dda0da6",
   "metadata": {},
   "source": [
    "### LEAD\n",
    "\n",
    "Returns the value of a column from the **next** row in the result set"
   ]
  },
  {
   "cell_type": "code",
   "execution_count": 38,
   "id": "2f539491",
   "metadata": {},
   "outputs": [],
   "source": [
    "# pl.sql(\n",
    "#     \"\"\"\n",
    "#     SELECT\n",
    "#         EntityID,\n",
    "#         State,\n",
    "#         TransitionTime AS StateStartDate\n",
    "#         COALESCE(\n",
    "#             LEAD(TransitionTime) OVER (PARTITION BY EntityID ORDER BY TransitionTime ASC),\n",
    "#             MAX(TransitionTime) OVER (PARTITION BY EntityID ORDER BY TransitionTime ASC) -- if last state StartDate = EndDate\n",
    "#         ) AS StateEndDate\n",
    "#     FROM\n",
    "#         emp\n",
    "#     \"\"\"\n",
    "# ).collect()"
   ]
  },
  {
   "cell_type": "markdown",
   "id": "ba8b2843",
   "metadata": {},
   "source": [
    "## Advanced Queries"
   ]
  },
  {
   "cell_type": "markdown",
   "id": "09a978f8",
   "metadata": {},
   "source": [
    "### UNION/UNION ALL\n",
    "\n",
    "Combine results from multiple queries"
   ]
  },
  {
   "cell_type": "code",
   "execution_count": 39,
   "id": "c5cde8bf",
   "metadata": {},
   "outputs": [
    {
     "data": {
      "text/html": [
       "<div><style>\n",
       ".dataframe > thead > tr,\n",
       ".dataframe > tbody > tr {\n",
       "  text-align: right;\n",
       "  white-space: pre-wrap;\n",
       "}\n",
       "</style>\n",
       "<small>shape: (2, 1)</small><table border=\"1\" class=\"dataframe\"><thead><tr><th>FirstName</th></tr><tr><td>str</td></tr></thead><tbody><tr><td>&quot;Dan&quot;</td></tr><tr><td>&quot;Eve&quot;</td></tr></tbody></table></div>"
      ],
      "text/plain": [
       "shape: (2, 1)\n",
       "┌───────────┐\n",
       "│ FirstName │\n",
       "│ ---       │\n",
       "│ str       │\n",
       "╞═══════════╡\n",
       "│ Dan       │\n",
       "│ Eve       │\n",
       "└───────────┘"
      ]
     },
     "execution_count": 39,
     "metadata": {},
     "output_type": "execute_result"
    }
   ],
   "source": [
    "pl.sql(\n",
    "    \"\"\"\n",
    "    (SELECT\n",
    "        FirstName\n",
    "    FROM\n",
    "        emp\n",
    "    WHERE\n",
    "        FirstName = 'Dan')\n",
    "\n",
    "    UNION\n",
    "\n",
    "    (SELECT\n",
    "        FirstName\n",
    "    FROM\n",
    "        emp\n",
    "    WHERE\n",
    "        FirstName = 'Eve')\n",
    "    \"\"\"\n",
    ").collect()"
   ]
  },
  {
   "cell_type": "markdown",
   "id": "950d484d",
   "metadata": {},
   "source": [
    "### SUBQUERIES"
   ]
  },
  {
   "cell_type": "code",
   "execution_count": 40,
   "id": "c87a5edc",
   "metadata": {},
   "outputs": [],
   "source": [
    "# pl.sql(\n",
    "#     \"\"\"\n",
    "#     SELECT\n",
    "#         FirstName,\n",
    "#         Salary\n",
    "#     FROM\n",
    "#         emp\n",
    "#     WHERE\n",
    "#         Salary = (SELECT MAX(Salary) FROM emp)\n",
    "#     \"\"\"\n",
    "# ).collect()"
   ]
  },
  {
   "cell_type": "markdown",
   "id": "1d0bc93f",
   "metadata": {},
   "source": [
    "### COMMON TABLE EXPRESSION\n",
    "\n",
    "A temporary, named result set in SQL that is defined within a query and exists only for the duration of that query. It simplifies complex queries by breaking them into smaller, logical parts and improves readability and maintainability."
   ]
  },
  {
   "cell_type": "code",
   "execution_count": 41,
   "id": "ed51aaae",
   "metadata": {},
   "outputs": [],
   "source": [
    "# pl.sql(\n",
    "#     \"\"\"\n",
    "#     -- CTE definition\n",
    "#     WITH CommonTableExpression AS (\n",
    "#         SELECT\n",
    "#             DepartmentID,\n",
    "#             AVG(Salary) AS DeptAvgSalary\n",
    "#         FROM\n",
    "#             emp\n",
    "#         GROUP BY\n",
    "#             DepartmentID\n",
    "#     )\n",
    "\n",
    "#     -- SELECT query\n",
    "#     SELECT\n",
    "#         e.FirstName,\n",
    "#         e.LastName,\n",
    "#         e.Salary,\n",
    "#         e.DepartmentID,\n",
    "#         cte.DeptAvgSalary\n",
    "#     FROM\n",
    "#         emp e\n",
    "#     INNER JOIN\n",
    "#         CommonTableExpression cte ON cte.DepartmentID = e.DepartmentID\n",
    "#     WHERE\n",
    "#         e.Salary > cte.DeptAvgSalary\n",
    "#     \"\"\"\n",
    "# ).collect()"
   ]
  }
 ],
 "metadata": {
  "kernelspec": {
   "display_name": "Python 3",
   "language": "python",
   "name": "python3"
  },
  "language_info": {
   "codemirror_mode": {
    "name": "ipython",
    "version": 3
   },
   "file_extension": ".py",
   "mimetype": "text/x-python",
   "name": "python",
   "nbconvert_exporter": "python",
   "pygments_lexer": "ipython3",
   "version": "3.11.0"
  }
 },
 "nbformat": 4,
 "nbformat_minor": 5
}
