{
 "cells": [
  {
   "cell_type": "markdown",
   "id": "73e24a35",
   "metadata": {},
   "source": [
    "# Pandas vs. Polars"
   ]
  },
  {
   "cell_type": "code",
   "execution_count": 1,
   "id": "86ad1b18",
   "metadata": {},
   "outputs": [],
   "source": [
    "# Pandas\n",
    "import pandas as pd\n",
    "\n",
    "# Polars\n",
    "import polars as pl"
   ]
  },
  {
   "cell_type": "markdown",
   "id": "351f9a28",
   "metadata": {},
   "source": [
    "## Create DataFrame"
   ]
  },
  {
   "cell_type": "code",
   "execution_count": 2,
   "id": "13c73a0e",
   "metadata": {},
   "outputs": [],
   "source": [
    "# Pandas\n",
    "\n",
    "df_pd = pd.DataFrame({'A': [1, 2, 2], 'B': [4, 5, 6], 'C': ['blue', 'red', 'blue']})"
   ]
  },
  {
   "cell_type": "code",
   "execution_count": 3,
   "id": "9dad9a98",
   "metadata": {},
   "outputs": [],
   "source": [
    "# Polars\n",
    "\n",
    "df_pl = pl.DataFrame({'A': [1, 2, 2], 'B': [4, 5, 6], 'C': ['blue', 'red', 'blue']})"
   ]
  },
  {
   "cell_type": "markdown",
   "id": "854716bb",
   "metadata": {},
   "source": [
    "## Read a CSV File"
   ]
  },
  {
   "cell_type": "code",
   "execution_count": 4,
   "id": "a42d3d0b",
   "metadata": {},
   "outputs": [],
   "source": [
    "# Pandas\n",
    "\n",
    "# df_pd = pd.read_csv('file.csv')"
   ]
  },
  {
   "cell_type": "code",
   "execution_count": 5,
   "id": "cc2def6a",
   "metadata": {},
   "outputs": [],
   "source": [
    "# Polars\n",
    "\n",
    "# df_pl = pl.read_csv('file.csv')"
   ]
  },
  {
   "cell_type": "markdown",
   "id": "4c2e5ea7",
   "metadata": {},
   "source": [
    "## Head and Tail"
   ]
  },
  {
   "cell_type": "code",
   "execution_count": 6,
   "id": "e156b4a5",
   "metadata": {},
   "outputs": [
    {
     "data": {
      "application/vnd.microsoft.datawrangler.viewer.v0+json": {
       "columns": [
        {
         "name": "index",
         "rawType": "int64",
         "type": "integer"
        },
        {
         "name": "A",
         "rawType": "int64",
         "type": "integer"
        },
        {
         "name": "B",
         "rawType": "int64",
         "type": "integer"
        },
        {
         "name": "C",
         "rawType": "object",
         "type": "string"
        }
       ],
       "ref": "52c2ba42-f909-44bc-ba5d-d26e556d611e",
       "rows": [
        [
         "0",
         "1",
         "4",
         "blue"
        ],
        [
         "1",
         "2",
         "5",
         "red"
        ],
        [
         "2",
         "2",
         "6",
         "blue"
        ]
       ],
       "shape": {
        "columns": 3,
        "rows": 3
       }
      },
      "text/html": [
       "<div>\n",
       "<style scoped>\n",
       "    .dataframe tbody tr th:only-of-type {\n",
       "        vertical-align: middle;\n",
       "    }\n",
       "\n",
       "    .dataframe tbody tr th {\n",
       "        vertical-align: top;\n",
       "    }\n",
       "\n",
       "    .dataframe thead th {\n",
       "        text-align: right;\n",
       "    }\n",
       "</style>\n",
       "<table border=\"1\" class=\"dataframe\">\n",
       "  <thead>\n",
       "    <tr style=\"text-align: right;\">\n",
       "      <th></th>\n",
       "      <th>A</th>\n",
       "      <th>B</th>\n",
       "      <th>C</th>\n",
       "    </tr>\n",
       "  </thead>\n",
       "  <tbody>\n",
       "    <tr>\n",
       "      <th>0</th>\n",
       "      <td>1</td>\n",
       "      <td>4</td>\n",
       "      <td>blue</td>\n",
       "    </tr>\n",
       "    <tr>\n",
       "      <th>1</th>\n",
       "      <td>2</td>\n",
       "      <td>5</td>\n",
       "      <td>red</td>\n",
       "    </tr>\n",
       "    <tr>\n",
       "      <th>2</th>\n",
       "      <td>2</td>\n",
       "      <td>6</td>\n",
       "      <td>blue</td>\n",
       "    </tr>\n",
       "  </tbody>\n",
       "</table>\n",
       "</div>"
      ],
      "text/plain": [
       "   A  B     C\n",
       "0  1  4  blue\n",
       "1  2  5   red\n",
       "2  2  6  blue"
      ]
     },
     "execution_count": 6,
     "metadata": {},
     "output_type": "execute_result"
    }
   ],
   "source": [
    "# Pandas\n",
    "\n",
    "df_pd.head(5)\n",
    "# df_pd.tail(5)"
   ]
  },
  {
   "cell_type": "code",
   "execution_count": 7,
   "id": "350c716e",
   "metadata": {},
   "outputs": [
    {
     "data": {
      "text/html": [
       "<div><style>\n",
       ".dataframe > thead > tr,\n",
       ".dataframe > tbody > tr {\n",
       "  text-align: right;\n",
       "  white-space: pre-wrap;\n",
       "}\n",
       "</style>\n",
       "<small>shape: (3, 3)</small><table border=\"1\" class=\"dataframe\"><thead><tr><th>A</th><th>B</th><th>C</th></tr><tr><td>i64</td><td>i64</td><td>str</td></tr></thead><tbody><tr><td>1</td><td>4</td><td>&quot;blue&quot;</td></tr><tr><td>2</td><td>5</td><td>&quot;red&quot;</td></tr><tr><td>2</td><td>6</td><td>&quot;blue&quot;</td></tr></tbody></table></div>"
      ],
      "text/plain": [
       "shape: (3, 3)\n",
       "┌─────┬─────┬──────┐\n",
       "│ A   ┆ B   ┆ C    │\n",
       "│ --- ┆ --- ┆ ---  │\n",
       "│ i64 ┆ i64 ┆ str  │\n",
       "╞═════╪═════╪══════╡\n",
       "│ 1   ┆ 4   ┆ blue │\n",
       "│ 2   ┆ 5   ┆ red  │\n",
       "│ 2   ┆ 6   ┆ blue │\n",
       "└─────┴─────┴──────┘"
      ]
     },
     "execution_count": 7,
     "metadata": {},
     "output_type": "execute_result"
    }
   ],
   "source": [
    "# Polars\n",
    "\n",
    "df_pl.head(5)\n",
    "# df_pl.tail(5)"
   ]
  },
  {
   "cell_type": "markdown",
   "id": "6117c8c6",
   "metadata": {},
   "source": [
    "## Get DataFrame Shape"
   ]
  },
  {
   "cell_type": "code",
   "execution_count": 8,
   "id": "33d7f9f8",
   "metadata": {},
   "outputs": [
    {
     "data": {
      "text/plain": [
       "(3, 3)"
      ]
     },
     "execution_count": 8,
     "metadata": {},
     "output_type": "execute_result"
    }
   ],
   "source": [
    "# Pandas\n",
    "\n",
    "df_pd.shape"
   ]
  },
  {
   "cell_type": "code",
   "execution_count": 9,
   "id": "2f592ff3",
   "metadata": {},
   "outputs": [
    {
     "data": {
      "text/plain": [
       "(3, 3)"
      ]
     },
     "execution_count": 9,
     "metadata": {},
     "output_type": "execute_result"
    }
   ],
   "source": [
    "# Polars\n",
    "\n",
    "df_pl.shape"
   ]
  },
  {
   "cell_type": "markdown",
   "id": "04c08f73",
   "metadata": {},
   "source": [
    "## Basic Info"
   ]
  },
  {
   "cell_type": "code",
   "execution_count": 10,
   "id": "ef3da08d",
   "metadata": {},
   "outputs": [
    {
     "name": "stdout",
     "output_type": "stream",
     "text": [
      "<class 'pandas.core.frame.DataFrame'>\n",
      "RangeIndex: 3 entries, 0 to 2\n",
      "Data columns (total 3 columns):\n",
      " #   Column  Non-Null Count  Dtype \n",
      "---  ------  --------------  ----- \n",
      " 0   A       3 non-null      int64 \n",
      " 1   B       3 non-null      int64 \n",
      " 2   C       3 non-null      object\n",
      "dtypes: int64(2), object(1)\n",
      "memory usage: 200.0+ bytes\n"
     ]
    }
   ],
   "source": [
    "# Pandas\n",
    "\n",
    "df_pd.info()"
   ]
  },
  {
   "cell_type": "code",
   "execution_count": 11,
   "id": "4a2f31be",
   "metadata": {},
   "outputs": [
    {
     "data": {
      "application/vnd.microsoft.datawrangler.viewer.v0+json": {
       "columns": [
        {
         "name": "index",
         "rawType": "object",
         "type": "string"
        },
        {
         "name": "A",
         "rawType": "float64",
         "type": "float"
        },
        {
         "name": "B",
         "rawType": "float64",
         "type": "float"
        }
       ],
       "ref": "e326f433-587b-4dde-9ab5-25911847a84b",
       "rows": [
        [
         "count",
         "3.0",
         "3.0"
        ],
        [
         "mean",
         "1.6666666666666667",
         "5.0"
        ],
        [
         "std",
         "0.5773502691896257",
         "1.0"
        ],
        [
         "min",
         "1.0",
         "4.0"
        ],
        [
         "25%",
         "1.5",
         "4.5"
        ],
        [
         "50%",
         "2.0",
         "5.0"
        ],
        [
         "75%",
         "2.0",
         "5.5"
        ],
        [
         "max",
         "2.0",
         "6.0"
        ]
       ],
       "shape": {
        "columns": 2,
        "rows": 8
       }
      },
      "text/html": [
       "<div>\n",
       "<style scoped>\n",
       "    .dataframe tbody tr th:only-of-type {\n",
       "        vertical-align: middle;\n",
       "    }\n",
       "\n",
       "    .dataframe tbody tr th {\n",
       "        vertical-align: top;\n",
       "    }\n",
       "\n",
       "    .dataframe thead th {\n",
       "        text-align: right;\n",
       "    }\n",
       "</style>\n",
       "<table border=\"1\" class=\"dataframe\">\n",
       "  <thead>\n",
       "    <tr style=\"text-align: right;\">\n",
       "      <th></th>\n",
       "      <th>A</th>\n",
       "      <th>B</th>\n",
       "    </tr>\n",
       "  </thead>\n",
       "  <tbody>\n",
       "    <tr>\n",
       "      <th>count</th>\n",
       "      <td>3.000000</td>\n",
       "      <td>3.0</td>\n",
       "    </tr>\n",
       "    <tr>\n",
       "      <th>mean</th>\n",
       "      <td>1.666667</td>\n",
       "      <td>5.0</td>\n",
       "    </tr>\n",
       "    <tr>\n",
       "      <th>std</th>\n",
       "      <td>0.577350</td>\n",
       "      <td>1.0</td>\n",
       "    </tr>\n",
       "    <tr>\n",
       "      <th>min</th>\n",
       "      <td>1.000000</td>\n",
       "      <td>4.0</td>\n",
       "    </tr>\n",
       "    <tr>\n",
       "      <th>25%</th>\n",
       "      <td>1.500000</td>\n",
       "      <td>4.5</td>\n",
       "    </tr>\n",
       "    <tr>\n",
       "      <th>50%</th>\n",
       "      <td>2.000000</td>\n",
       "      <td>5.0</td>\n",
       "    </tr>\n",
       "    <tr>\n",
       "      <th>75%</th>\n",
       "      <td>2.000000</td>\n",
       "      <td>5.5</td>\n",
       "    </tr>\n",
       "    <tr>\n",
       "      <th>max</th>\n",
       "      <td>2.000000</td>\n",
       "      <td>6.0</td>\n",
       "    </tr>\n",
       "  </tbody>\n",
       "</table>\n",
       "</div>"
      ],
      "text/plain": [
       "              A    B\n",
       "count  3.000000  3.0\n",
       "mean   1.666667  5.0\n",
       "std    0.577350  1.0\n",
       "min    1.000000  4.0\n",
       "25%    1.500000  4.5\n",
       "50%    2.000000  5.0\n",
       "75%    2.000000  5.5\n",
       "max    2.000000  6.0"
      ]
     },
     "execution_count": 11,
     "metadata": {},
     "output_type": "execute_result"
    }
   ],
   "source": [
    "# Pandas\n",
    "\n",
    "df_pd.describe()"
   ]
  },
  {
   "cell_type": "code",
   "execution_count": 12,
   "id": "1cf989cd",
   "metadata": {},
   "outputs": [
    {
     "data": {
      "text/html": [
       "<div><style>\n",
       ".dataframe > thead > tr,\n",
       ".dataframe > tbody > tr {\n",
       "  text-align: right;\n",
       "  white-space: pre-wrap;\n",
       "}\n",
       "</style>\n",
       "<small>shape: (9, 4)</small><table border=\"1\" class=\"dataframe\"><thead><tr><th>statistic</th><th>A</th><th>B</th><th>C</th></tr><tr><td>str</td><td>f64</td><td>f64</td><td>str</td></tr></thead><tbody><tr><td>&quot;count&quot;</td><td>3.0</td><td>3.0</td><td>&quot;3&quot;</td></tr><tr><td>&quot;null_count&quot;</td><td>0.0</td><td>0.0</td><td>&quot;0&quot;</td></tr><tr><td>&quot;mean&quot;</td><td>1.666667</td><td>5.0</td><td>null</td></tr><tr><td>&quot;std&quot;</td><td>0.57735</td><td>1.0</td><td>null</td></tr><tr><td>&quot;min&quot;</td><td>1.0</td><td>4.0</td><td>&quot;blue&quot;</td></tr><tr><td>&quot;25%&quot;</td><td>2.0</td><td>5.0</td><td>null</td></tr><tr><td>&quot;50%&quot;</td><td>2.0</td><td>5.0</td><td>null</td></tr><tr><td>&quot;75%&quot;</td><td>2.0</td><td>6.0</td><td>null</td></tr><tr><td>&quot;max&quot;</td><td>2.0</td><td>6.0</td><td>&quot;red&quot;</td></tr></tbody></table></div>"
      ],
      "text/plain": [
       "shape: (9, 4)\n",
       "┌────────────┬──────────┬─────┬──────┐\n",
       "│ statistic  ┆ A        ┆ B   ┆ C    │\n",
       "│ ---        ┆ ---      ┆ --- ┆ ---  │\n",
       "│ str        ┆ f64      ┆ f64 ┆ str  │\n",
       "╞════════════╪══════════╪═════╪══════╡\n",
       "│ count      ┆ 3.0      ┆ 3.0 ┆ 3    │\n",
       "│ null_count ┆ 0.0      ┆ 0.0 ┆ 0    │\n",
       "│ mean       ┆ 1.666667 ┆ 5.0 ┆ null │\n",
       "│ std        ┆ 0.57735  ┆ 1.0 ┆ null │\n",
       "│ min        ┆ 1.0      ┆ 4.0 ┆ blue │\n",
       "│ 25%        ┆ 2.0      ┆ 5.0 ┆ null │\n",
       "│ 50%        ┆ 2.0      ┆ 5.0 ┆ null │\n",
       "│ 75%        ┆ 2.0      ┆ 6.0 ┆ null │\n",
       "│ max        ┆ 2.0      ┆ 6.0 ┆ red  │\n",
       "└────────────┴──────────┴─────┴──────┘"
      ]
     },
     "execution_count": 12,
     "metadata": {},
     "output_type": "execute_result"
    }
   ],
   "source": [
    "# Polars\n",
    "\n",
    "# Polars combines info & describe\n",
    "df_pl.describe()"
   ]
  },
  {
   "cell_type": "markdown",
   "id": "52daa68a",
   "metadata": {},
   "source": [
    "## Select Columns"
   ]
  },
  {
   "cell_type": "code",
   "execution_count": 13,
   "id": "e2464500",
   "metadata": {},
   "outputs": [
    {
     "data": {
      "application/vnd.microsoft.datawrangler.viewer.v0+json": {
       "columns": [
        {
         "name": "index",
         "rawType": "int64",
         "type": "integer"
        },
        {
         "name": "A",
         "rawType": "int64",
         "type": "integer"
        }
       ],
       "ref": "23eb721f-1dc9-46e5-89c4-7f1551bf78fc",
       "rows": [
        [
         "0",
         "1"
        ],
        [
         "1",
         "2"
        ],
        [
         "2",
         "2"
        ]
       ],
       "shape": {
        "columns": 1,
        "rows": 3
       }
      },
      "text/plain": [
       "0    1\n",
       "1    2\n",
       "2    2\n",
       "Name: A, dtype: int64"
      ]
     },
     "execution_count": 13,
     "metadata": {},
     "output_type": "execute_result"
    }
   ],
   "source": [
    "# Pandas\n",
    "\n",
    "# Single column\n",
    "df_pd['A']"
   ]
  },
  {
   "cell_type": "code",
   "execution_count": 14,
   "id": "03adba39",
   "metadata": {},
   "outputs": [
    {
     "data": {
      "application/vnd.microsoft.datawrangler.viewer.v0+json": {
       "columns": [
        {
         "name": "index",
         "rawType": "int64",
         "type": "integer"
        },
        {
         "name": "A",
         "rawType": "int64",
         "type": "integer"
        },
        {
         "name": "B",
         "rawType": "int64",
         "type": "integer"
        }
       ],
       "ref": "f168cde1-63d6-442e-a854-1b7db332aa47",
       "rows": [
        [
         "0",
         "1",
         "4"
        ],
        [
         "1",
         "2",
         "5"
        ],
        [
         "2",
         "2",
         "6"
        ]
       ],
       "shape": {
        "columns": 2,
        "rows": 3
       }
      },
      "text/html": [
       "<div>\n",
       "<style scoped>\n",
       "    .dataframe tbody tr th:only-of-type {\n",
       "        vertical-align: middle;\n",
       "    }\n",
       "\n",
       "    .dataframe tbody tr th {\n",
       "        vertical-align: top;\n",
       "    }\n",
       "\n",
       "    .dataframe thead th {\n",
       "        text-align: right;\n",
       "    }\n",
       "</style>\n",
       "<table border=\"1\" class=\"dataframe\">\n",
       "  <thead>\n",
       "    <tr style=\"text-align: right;\">\n",
       "      <th></th>\n",
       "      <th>A</th>\n",
       "      <th>B</th>\n",
       "    </tr>\n",
       "  </thead>\n",
       "  <tbody>\n",
       "    <tr>\n",
       "      <th>0</th>\n",
       "      <td>1</td>\n",
       "      <td>4</td>\n",
       "    </tr>\n",
       "    <tr>\n",
       "      <th>1</th>\n",
       "      <td>2</td>\n",
       "      <td>5</td>\n",
       "    </tr>\n",
       "    <tr>\n",
       "      <th>2</th>\n",
       "      <td>2</td>\n",
       "      <td>6</td>\n",
       "    </tr>\n",
       "  </tbody>\n",
       "</table>\n",
       "</div>"
      ],
      "text/plain": [
       "   A  B\n",
       "0  1  4\n",
       "1  2  5\n",
       "2  2  6"
      ]
     },
     "execution_count": 14,
     "metadata": {},
     "output_type": "execute_result"
    }
   ],
   "source": [
    "# Pandas\n",
    "\n",
    "# Multiple columns\n",
    "df_pd[['A', 'B']]"
   ]
  },
  {
   "cell_type": "code",
   "execution_count": 15,
   "id": "9008bf55",
   "metadata": {},
   "outputs": [
    {
     "data": {
      "text/html": [
       "<div><style>\n",
       ".dataframe > thead > tr,\n",
       ".dataframe > tbody > tr {\n",
       "  text-align: right;\n",
       "  white-space: pre-wrap;\n",
       "}\n",
       "</style>\n",
       "<small>shape: (3,)</small><table border=\"1\" class=\"dataframe\"><thead><tr><th>A</th></tr><tr><td>i64</td></tr></thead><tbody><tr><td>1</td></tr><tr><td>2</td></tr><tr><td>2</td></tr></tbody></table></div>"
      ],
      "text/plain": [
       "shape: (3,)\n",
       "Series: 'A' [i64]\n",
       "[\n",
       "\t1\n",
       "\t2\n",
       "\t2\n",
       "]"
      ]
     },
     "execution_count": 15,
     "metadata": {},
     "output_type": "execute_result"
    }
   ],
   "source": [
    "# Polars\n",
    "\n",
    "# Single columns\n",
    "df_pl['A']"
   ]
  },
  {
   "cell_type": "code",
   "execution_count": 16,
   "id": "1618b29e",
   "metadata": {},
   "outputs": [
    {
     "data": {
      "text/html": [
       "<div><style>\n",
       ".dataframe > thead > tr,\n",
       ".dataframe > tbody > tr {\n",
       "  text-align: right;\n",
       "  white-space: pre-wrap;\n",
       "}\n",
       "</style>\n",
       "<small>shape: (3, 2)</small><table border=\"1\" class=\"dataframe\"><thead><tr><th>A</th><th>B</th></tr><tr><td>i64</td><td>i64</td></tr></thead><tbody><tr><td>1</td><td>4</td></tr><tr><td>2</td><td>5</td></tr><tr><td>2</td><td>6</td></tr></tbody></table></div>"
      ],
      "text/plain": [
       "shape: (3, 2)\n",
       "┌─────┬─────┐\n",
       "│ A   ┆ B   │\n",
       "│ --- ┆ --- │\n",
       "│ i64 ┆ i64 │\n",
       "╞═════╪═════╡\n",
       "│ 1   ┆ 4   │\n",
       "│ 2   ┆ 5   │\n",
       "│ 2   ┆ 6   │\n",
       "└─────┴─────┘"
      ]
     },
     "execution_count": 16,
     "metadata": {},
     "output_type": "execute_result"
    }
   ],
   "source": [
    "df_pl.select(['A', 'B'])"
   ]
  },
  {
   "cell_type": "markdown",
   "id": "7ff2e44e",
   "metadata": {},
   "source": [
    "## Rename Columns"
   ]
  },
  {
   "cell_type": "code",
   "execution_count": 17,
   "id": "fec896a3",
   "metadata": {},
   "outputs": [
    {
     "data": {
      "application/vnd.microsoft.datawrangler.viewer.v0+json": {
       "columns": [
        {
         "name": "index",
         "rawType": "int64",
         "type": "integer"
        },
        {
         "name": "X",
         "rawType": "int64",
         "type": "integer"
        },
        {
         "name": "Y",
         "rawType": "int64",
         "type": "integer"
        },
        {
         "name": "C",
         "rawType": "object",
         "type": "string"
        }
       ],
       "ref": "6631dcf9-f670-45aa-ba64-d496c5afcaf3",
       "rows": [
        [
         "0",
         "1",
         "4",
         "blue"
        ],
        [
         "1",
         "2",
         "5",
         "red"
        ],
        [
         "2",
         "2",
         "6",
         "blue"
        ]
       ],
       "shape": {
        "columns": 3,
        "rows": 3
       }
      },
      "text/html": [
       "<div>\n",
       "<style scoped>\n",
       "    .dataframe tbody tr th:only-of-type {\n",
       "        vertical-align: middle;\n",
       "    }\n",
       "\n",
       "    .dataframe tbody tr th {\n",
       "        vertical-align: top;\n",
       "    }\n",
       "\n",
       "    .dataframe thead th {\n",
       "        text-align: right;\n",
       "    }\n",
       "</style>\n",
       "<table border=\"1\" class=\"dataframe\">\n",
       "  <thead>\n",
       "    <tr style=\"text-align: right;\">\n",
       "      <th></th>\n",
       "      <th>X</th>\n",
       "      <th>Y</th>\n",
       "      <th>C</th>\n",
       "    </tr>\n",
       "  </thead>\n",
       "  <tbody>\n",
       "    <tr>\n",
       "      <th>0</th>\n",
       "      <td>1</td>\n",
       "      <td>4</td>\n",
       "      <td>blue</td>\n",
       "    </tr>\n",
       "    <tr>\n",
       "      <th>1</th>\n",
       "      <td>2</td>\n",
       "      <td>5</td>\n",
       "      <td>red</td>\n",
       "    </tr>\n",
       "    <tr>\n",
       "      <th>2</th>\n",
       "      <td>2</td>\n",
       "      <td>6</td>\n",
       "      <td>blue</td>\n",
       "    </tr>\n",
       "  </tbody>\n",
       "</table>\n",
       "</div>"
      ],
      "text/plain": [
       "   X  Y     C\n",
       "0  1  4  blue\n",
       "1  2  5   red\n",
       "2  2  6  blue"
      ]
     },
     "execution_count": 17,
     "metadata": {},
     "output_type": "execute_result"
    }
   ],
   "source": [
    "# Pandas\n",
    "\n",
    "df_pd.rename(columns={'A': 'X', 'B': 'Y'})"
   ]
  },
  {
   "cell_type": "code",
   "execution_count": 18,
   "id": "a5e65539",
   "metadata": {},
   "outputs": [
    {
     "data": {
      "text/html": [
       "<div><style>\n",
       ".dataframe > thead > tr,\n",
       ".dataframe > tbody > tr {\n",
       "  text-align: right;\n",
       "  white-space: pre-wrap;\n",
       "}\n",
       "</style>\n",
       "<small>shape: (3, 3)</small><table border=\"1\" class=\"dataframe\"><thead><tr><th>X</th><th>Y</th><th>C</th></tr><tr><td>i64</td><td>i64</td><td>str</td></tr></thead><tbody><tr><td>1</td><td>4</td><td>&quot;blue&quot;</td></tr><tr><td>2</td><td>5</td><td>&quot;red&quot;</td></tr><tr><td>2</td><td>6</td><td>&quot;blue&quot;</td></tr></tbody></table></div>"
      ],
      "text/plain": [
       "shape: (3, 3)\n",
       "┌─────┬─────┬──────┐\n",
       "│ X   ┆ Y   ┆ C    │\n",
       "│ --- ┆ --- ┆ ---  │\n",
       "│ i64 ┆ i64 ┆ str  │\n",
       "╞═════╪═════╪══════╡\n",
       "│ 1   ┆ 4   ┆ blue │\n",
       "│ 2   ┆ 5   ┆ red  │\n",
       "│ 2   ┆ 6   ┆ blue │\n",
       "└─────┴─────┴──────┘"
      ]
     },
     "execution_count": 18,
     "metadata": {},
     "output_type": "execute_result"
    }
   ],
   "source": [
    "# Polars\n",
    "\n",
    "df_pl.rename(mapping={'A': 'X', 'B': 'Y'})"
   ]
  },
  {
   "cell_type": "markdown",
   "id": "a9821fd6",
   "metadata": {},
   "source": [
    "## Add a New Column"
   ]
  },
  {
   "cell_type": "code",
   "execution_count": 19,
   "id": "d71ae138",
   "metadata": {},
   "outputs": [
    {
     "data": {
      "application/vnd.microsoft.datawrangler.viewer.v0+json": {
       "columns": [
        {
         "name": "index",
         "rawType": "int64",
         "type": "integer"
        },
        {
         "name": "A",
         "rawType": "int64",
         "type": "integer"
        },
        {
         "name": "B",
         "rawType": "int64",
         "type": "integer"
        },
        {
         "name": "C",
         "rawType": "object",
         "type": "string"
        },
        {
         "name": "D",
         "rawType": "int64",
         "type": "integer"
        }
       ],
       "ref": "aaf06269-319c-49ee-8911-cc2797ed7ea5",
       "rows": [
        [
         "0",
         "1",
         "4",
         "blue",
         "5"
        ],
        [
         "1",
         "2",
         "5",
         "red",
         "7"
        ],
        [
         "2",
         "2",
         "6",
         "blue",
         "8"
        ]
       ],
       "shape": {
        "columns": 4,
        "rows": 3
       }
      },
      "text/html": [
       "<div>\n",
       "<style scoped>\n",
       "    .dataframe tbody tr th:only-of-type {\n",
       "        vertical-align: middle;\n",
       "    }\n",
       "\n",
       "    .dataframe tbody tr th {\n",
       "        vertical-align: top;\n",
       "    }\n",
       "\n",
       "    .dataframe thead th {\n",
       "        text-align: right;\n",
       "    }\n",
       "</style>\n",
       "<table border=\"1\" class=\"dataframe\">\n",
       "  <thead>\n",
       "    <tr style=\"text-align: right;\">\n",
       "      <th></th>\n",
       "      <th>A</th>\n",
       "      <th>B</th>\n",
       "      <th>C</th>\n",
       "      <th>D</th>\n",
       "    </tr>\n",
       "  </thead>\n",
       "  <tbody>\n",
       "    <tr>\n",
       "      <th>0</th>\n",
       "      <td>1</td>\n",
       "      <td>4</td>\n",
       "      <td>blue</td>\n",
       "      <td>5</td>\n",
       "    </tr>\n",
       "    <tr>\n",
       "      <th>1</th>\n",
       "      <td>2</td>\n",
       "      <td>5</td>\n",
       "      <td>red</td>\n",
       "      <td>7</td>\n",
       "    </tr>\n",
       "    <tr>\n",
       "      <th>2</th>\n",
       "      <td>2</td>\n",
       "      <td>6</td>\n",
       "      <td>blue</td>\n",
       "      <td>8</td>\n",
       "    </tr>\n",
       "  </tbody>\n",
       "</table>\n",
       "</div>"
      ],
      "text/plain": [
       "   A  B     C  D\n",
       "0  1  4  blue  5\n",
       "1  2  5   red  7\n",
       "2  2  6  blue  8"
      ]
     },
     "execution_count": 19,
     "metadata": {},
     "output_type": "execute_result"
    }
   ],
   "source": [
    "# Pandas\n",
    "\n",
    "df_pd['D'] = df_pd['A'] + df_pd['B']\n",
    "\n",
    "df_pd"
   ]
  },
  {
   "cell_type": "code",
   "execution_count": 20,
   "id": "dfe579de",
   "metadata": {},
   "outputs": [
    {
     "data": {
      "text/html": [
       "<div><style>\n",
       ".dataframe > thead > tr,\n",
       ".dataframe > tbody > tr {\n",
       "  text-align: right;\n",
       "  white-space: pre-wrap;\n",
       "}\n",
       "</style>\n",
       "<small>shape: (3, 4)</small><table border=\"1\" class=\"dataframe\"><thead><tr><th>A</th><th>B</th><th>C</th><th>D</th></tr><tr><td>i64</td><td>i64</td><td>str</td><td>i64</td></tr></thead><tbody><tr><td>1</td><td>4</td><td>&quot;blue&quot;</td><td>5</td></tr><tr><td>2</td><td>5</td><td>&quot;red&quot;</td><td>7</td></tr><tr><td>2</td><td>6</td><td>&quot;blue&quot;</td><td>8</td></tr></tbody></table></div>"
      ],
      "text/plain": [
       "shape: (3, 4)\n",
       "┌─────┬─────┬──────┬─────┐\n",
       "│ A   ┆ B   ┆ C    ┆ D   │\n",
       "│ --- ┆ --- ┆ ---  ┆ --- │\n",
       "│ i64 ┆ i64 ┆ str  ┆ i64 │\n",
       "╞═════╪═════╪══════╪═════╡\n",
       "│ 1   ┆ 4   ┆ blue ┆ 5   │\n",
       "│ 2   ┆ 5   ┆ red  ┆ 7   │\n",
       "│ 2   ┆ 6   ┆ blue ┆ 8   │\n",
       "└─────┴─────┴──────┴─────┘"
      ]
     },
     "execution_count": 20,
     "metadata": {},
     "output_type": "execute_result"
    }
   ],
   "source": [
    "# Polars\n",
    "\n",
    "df_pl = df_pl.with_columns(\n",
    "    (pl.col('A') + pl.col('B')).alias('D')\n",
    ")\n",
    "\n",
    "df_pl"
   ]
  },
  {
   "cell_type": "markdown",
   "id": "6aa0816e",
   "metadata": {},
   "source": [
    "## Drop Columns"
   ]
  },
  {
   "cell_type": "code",
   "execution_count": 21,
   "id": "f4b7dd14",
   "metadata": {},
   "outputs": [
    {
     "data": {
      "application/vnd.microsoft.datawrangler.viewer.v0+json": {
       "columns": [
        {
         "name": "index",
         "rawType": "int64",
         "type": "integer"
        },
        {
         "name": "C",
         "rawType": "object",
         "type": "string"
        },
        {
         "name": "D",
         "rawType": "int64",
         "type": "integer"
        }
       ],
       "ref": "496744f9-0458-4c78-ba5f-ebdc0c06f94e",
       "rows": [
        [
         "0",
         "blue",
         "5"
        ],
        [
         "1",
         "red",
         "7"
        ],
        [
         "2",
         "blue",
         "8"
        ]
       ],
       "shape": {
        "columns": 2,
        "rows": 3
       }
      },
      "text/html": [
       "<div>\n",
       "<style scoped>\n",
       "    .dataframe tbody tr th:only-of-type {\n",
       "        vertical-align: middle;\n",
       "    }\n",
       "\n",
       "    .dataframe tbody tr th {\n",
       "        vertical-align: top;\n",
       "    }\n",
       "\n",
       "    .dataframe thead th {\n",
       "        text-align: right;\n",
       "    }\n",
       "</style>\n",
       "<table border=\"1\" class=\"dataframe\">\n",
       "  <thead>\n",
       "    <tr style=\"text-align: right;\">\n",
       "      <th></th>\n",
       "      <th>C</th>\n",
       "      <th>D</th>\n",
       "    </tr>\n",
       "  </thead>\n",
       "  <tbody>\n",
       "    <tr>\n",
       "      <th>0</th>\n",
       "      <td>blue</td>\n",
       "      <td>5</td>\n",
       "    </tr>\n",
       "    <tr>\n",
       "      <th>1</th>\n",
       "      <td>red</td>\n",
       "      <td>7</td>\n",
       "    </tr>\n",
       "    <tr>\n",
       "      <th>2</th>\n",
       "      <td>blue</td>\n",
       "      <td>8</td>\n",
       "    </tr>\n",
       "  </tbody>\n",
       "</table>\n",
       "</div>"
      ],
      "text/plain": [
       "      C  D\n",
       "0  blue  5\n",
       "1   red  7\n",
       "2  blue  8"
      ]
     },
     "execution_count": 21,
     "metadata": {},
     "output_type": "execute_result"
    }
   ],
   "source": [
    "# Pandas\n",
    "\n",
    "df_pd.drop(columns=['A', 'B'])"
   ]
  },
  {
   "cell_type": "code",
   "execution_count": 22,
   "id": "4c4109b6",
   "metadata": {},
   "outputs": [
    {
     "data": {
      "text/html": [
       "<div><style>\n",
       ".dataframe > thead > tr,\n",
       ".dataframe > tbody > tr {\n",
       "  text-align: right;\n",
       "  white-space: pre-wrap;\n",
       "}\n",
       "</style>\n",
       "<small>shape: (3, 2)</small><table border=\"1\" class=\"dataframe\"><thead><tr><th>C</th><th>D</th></tr><tr><td>str</td><td>i64</td></tr></thead><tbody><tr><td>&quot;blue&quot;</td><td>5</td></tr><tr><td>&quot;red&quot;</td><td>7</td></tr><tr><td>&quot;blue&quot;</td><td>8</td></tr></tbody></table></div>"
      ],
      "text/plain": [
       "shape: (3, 2)\n",
       "┌──────┬─────┐\n",
       "│ C    ┆ D   │\n",
       "│ ---  ┆ --- │\n",
       "│ str  ┆ i64 │\n",
       "╞══════╪═════╡\n",
       "│ blue ┆ 5   │\n",
       "│ red  ┆ 7   │\n",
       "│ blue ┆ 8   │\n",
       "└──────┴─────┘"
      ]
     },
     "execution_count": 22,
     "metadata": {},
     "output_type": "execute_result"
    }
   ],
   "source": [
    "# Polars\n",
    "\n",
    "df_pl.drop(['A', 'B'])"
   ]
  },
  {
   "cell_type": "markdown",
   "id": "c97aca39",
   "metadata": {},
   "source": [
    "## Sort Values"
   ]
  },
  {
   "cell_type": "code",
   "execution_count": 23,
   "id": "6dc35c5c",
   "metadata": {},
   "outputs": [
    {
     "data": {
      "application/vnd.microsoft.datawrangler.viewer.v0+json": {
       "columns": [
        {
         "name": "index",
         "rawType": "int64",
         "type": "integer"
        },
        {
         "name": "A",
         "rawType": "int64",
         "type": "integer"
        },
        {
         "name": "B",
         "rawType": "int64",
         "type": "integer"
        },
        {
         "name": "C",
         "rawType": "object",
         "type": "string"
        },
        {
         "name": "D",
         "rawType": "int64",
         "type": "integer"
        }
       ],
       "ref": "8a1125ab-78d2-420b-a0b6-c22a4d5659b1",
       "rows": [
        [
         "0",
         "1",
         "4",
         "blue",
         "5"
        ],
        [
         "2",
         "2",
         "6",
         "blue",
         "8"
        ],
        [
         "1",
         "2",
         "5",
         "red",
         "7"
        ]
       ],
       "shape": {
        "columns": 4,
        "rows": 3
       }
      },
      "text/html": [
       "<div>\n",
       "<style scoped>\n",
       "    .dataframe tbody tr th:only-of-type {\n",
       "        vertical-align: middle;\n",
       "    }\n",
       "\n",
       "    .dataframe tbody tr th {\n",
       "        vertical-align: top;\n",
       "    }\n",
       "\n",
       "    .dataframe thead th {\n",
       "        text-align: right;\n",
       "    }\n",
       "</style>\n",
       "<table border=\"1\" class=\"dataframe\">\n",
       "  <thead>\n",
       "    <tr style=\"text-align: right;\">\n",
       "      <th></th>\n",
       "      <th>A</th>\n",
       "      <th>B</th>\n",
       "      <th>C</th>\n",
       "      <th>D</th>\n",
       "    </tr>\n",
       "  </thead>\n",
       "  <tbody>\n",
       "    <tr>\n",
       "      <th>0</th>\n",
       "      <td>1</td>\n",
       "      <td>4</td>\n",
       "      <td>blue</td>\n",
       "      <td>5</td>\n",
       "    </tr>\n",
       "    <tr>\n",
       "      <th>2</th>\n",
       "      <td>2</td>\n",
       "      <td>6</td>\n",
       "      <td>blue</td>\n",
       "      <td>8</td>\n",
       "    </tr>\n",
       "    <tr>\n",
       "      <th>1</th>\n",
       "      <td>2</td>\n",
       "      <td>5</td>\n",
       "      <td>red</td>\n",
       "      <td>7</td>\n",
       "    </tr>\n",
       "  </tbody>\n",
       "</table>\n",
       "</div>"
      ],
      "text/plain": [
       "   A  B     C  D\n",
       "0  1  4  blue  5\n",
       "2  2  6  blue  8\n",
       "1  2  5   red  7"
      ]
     },
     "execution_count": 23,
     "metadata": {},
     "output_type": "execute_result"
    }
   ],
   "source": [
    "# Pandas\n",
    "\n",
    "df_pd.sort_values(by=['A', 'B'], ascending=[True, False])"
   ]
  },
  {
   "cell_type": "code",
   "execution_count": 24,
   "id": "47f21995",
   "metadata": {},
   "outputs": [
    {
     "data": {
      "text/html": [
       "<div><style>\n",
       ".dataframe > thead > tr,\n",
       ".dataframe > tbody > tr {\n",
       "  text-align: right;\n",
       "  white-space: pre-wrap;\n",
       "}\n",
       "</style>\n",
       "<small>shape: (3, 4)</small><table border=\"1\" class=\"dataframe\"><thead><tr><th>A</th><th>B</th><th>C</th><th>D</th></tr><tr><td>i64</td><td>i64</td><td>str</td><td>i64</td></tr></thead><tbody><tr><td>1</td><td>4</td><td>&quot;blue&quot;</td><td>5</td></tr><tr><td>2</td><td>6</td><td>&quot;blue&quot;</td><td>8</td></tr><tr><td>2</td><td>5</td><td>&quot;red&quot;</td><td>7</td></tr></tbody></table></div>"
      ],
      "text/plain": [
       "shape: (3, 4)\n",
       "┌─────┬─────┬──────┬─────┐\n",
       "│ A   ┆ B   ┆ C    ┆ D   │\n",
       "│ --- ┆ --- ┆ ---  ┆ --- │\n",
       "│ i64 ┆ i64 ┆ str  ┆ i64 │\n",
       "╞═════╪═════╪══════╪═════╡\n",
       "│ 1   ┆ 4   ┆ blue ┆ 5   │\n",
       "│ 2   ┆ 6   ┆ blue ┆ 8   │\n",
       "│ 2   ┆ 5   ┆ red  ┆ 7   │\n",
       "└─────┴─────┴──────┴─────┘"
      ]
     },
     "execution_count": 24,
     "metadata": {},
     "output_type": "execute_result"
    }
   ],
   "source": [
    "# Polars\n",
    "\n",
    "df_pl.sort(by=['A', 'B'], descending=[False, True])"
   ]
  },
  {
   "cell_type": "markdown",
   "id": "1ee251fb",
   "metadata": {},
   "source": [
    "## Filter Rows"
   ]
  },
  {
   "cell_type": "code",
   "execution_count": 25,
   "id": "5e14e97a",
   "metadata": {},
   "outputs": [
    {
     "data": {
      "application/vnd.microsoft.datawrangler.viewer.v0+json": {
       "columns": [
        {
         "name": "index",
         "rawType": "int64",
         "type": "integer"
        },
        {
         "name": "A",
         "rawType": "int64",
         "type": "integer"
        },
        {
         "name": "B",
         "rawType": "int64",
         "type": "integer"
        },
        {
         "name": "C",
         "rawType": "object",
         "type": "string"
        },
        {
         "name": "D",
         "rawType": "int64",
         "type": "integer"
        }
       ],
       "ref": "ef62c6ef-dfbe-4aa1-a9e8-3b48b2f7bbff",
       "rows": [
        [
         "1",
         "2",
         "5",
         "red",
         "7"
        ],
        [
         "2",
         "2",
         "6",
         "blue",
         "8"
        ]
       ],
       "shape": {
        "columns": 4,
        "rows": 2
       }
      },
      "text/html": [
       "<div>\n",
       "<style scoped>\n",
       "    .dataframe tbody tr th:only-of-type {\n",
       "        vertical-align: middle;\n",
       "    }\n",
       "\n",
       "    .dataframe tbody tr th {\n",
       "        vertical-align: top;\n",
       "    }\n",
       "\n",
       "    .dataframe thead th {\n",
       "        text-align: right;\n",
       "    }\n",
       "</style>\n",
       "<table border=\"1\" class=\"dataframe\">\n",
       "  <thead>\n",
       "    <tr style=\"text-align: right;\">\n",
       "      <th></th>\n",
       "      <th>A</th>\n",
       "      <th>B</th>\n",
       "      <th>C</th>\n",
       "      <th>D</th>\n",
       "    </tr>\n",
       "  </thead>\n",
       "  <tbody>\n",
       "    <tr>\n",
       "      <th>1</th>\n",
       "      <td>2</td>\n",
       "      <td>5</td>\n",
       "      <td>red</td>\n",
       "      <td>7</td>\n",
       "    </tr>\n",
       "    <tr>\n",
       "      <th>2</th>\n",
       "      <td>2</td>\n",
       "      <td>6</td>\n",
       "      <td>blue</td>\n",
       "      <td>8</td>\n",
       "    </tr>\n",
       "  </tbody>\n",
       "</table>\n",
       "</div>"
      ],
      "text/plain": [
       "   A  B     C  D\n",
       "1  2  5   red  7\n",
       "2  2  6  blue  8"
      ]
     },
     "execution_count": 25,
     "metadata": {},
     "output_type": "execute_result"
    }
   ],
   "source": [
    "# Pandas\n",
    "\n",
    "df_pd[df_pd['A'] > 1]"
   ]
  },
  {
   "cell_type": "code",
   "execution_count": 26,
   "id": "2fd0c7af",
   "metadata": {},
   "outputs": [
    {
     "data": {
      "application/vnd.microsoft.datawrangler.viewer.v0+json": {
       "columns": [
        {
         "name": "index",
         "rawType": "int64",
         "type": "integer"
        },
        {
         "name": "A",
         "rawType": "int64",
         "type": "integer"
        },
        {
         "name": "B",
         "rawType": "int64",
         "type": "integer"
        },
        {
         "name": "C",
         "rawType": "object",
         "type": "string"
        },
        {
         "name": "D",
         "rawType": "int64",
         "type": "integer"
        }
       ],
       "ref": "b125a3da-e680-4131-9819-915a30c5ea90",
       "rows": [
        [
         "1",
         "2",
         "5",
         "red",
         "7"
        ]
       ],
       "shape": {
        "columns": 4,
        "rows": 1
       }
      },
      "text/html": [
       "<div>\n",
       "<style scoped>\n",
       "    .dataframe tbody tr th:only-of-type {\n",
       "        vertical-align: middle;\n",
       "    }\n",
       "\n",
       "    .dataframe tbody tr th {\n",
       "        vertical-align: top;\n",
       "    }\n",
       "\n",
       "    .dataframe thead th {\n",
       "        text-align: right;\n",
       "    }\n",
       "</style>\n",
       "<table border=\"1\" class=\"dataframe\">\n",
       "  <thead>\n",
       "    <tr style=\"text-align: right;\">\n",
       "      <th></th>\n",
       "      <th>A</th>\n",
       "      <th>B</th>\n",
       "      <th>C</th>\n",
       "      <th>D</th>\n",
       "    </tr>\n",
       "  </thead>\n",
       "  <tbody>\n",
       "    <tr>\n",
       "      <th>1</th>\n",
       "      <td>2</td>\n",
       "      <td>5</td>\n",
       "      <td>red</td>\n",
       "      <td>7</td>\n",
       "    </tr>\n",
       "  </tbody>\n",
       "</table>\n",
       "</div>"
      ],
      "text/plain": [
       "   A  B    C  D\n",
       "1  2  5  red  7"
      ]
     },
     "execution_count": 26,
     "metadata": {},
     "output_type": "execute_result"
    }
   ],
   "source": [
    "# Pandas\n",
    "\n",
    "df_pd[df_pd['C'] == 'red']"
   ]
  },
  {
   "cell_type": "code",
   "execution_count": 27,
   "id": "2483ff86",
   "metadata": {},
   "outputs": [
    {
     "data": {
      "application/vnd.microsoft.datawrangler.viewer.v0+json": {
       "columns": [
        {
         "name": "index",
         "rawType": "int64",
         "type": "integer"
        },
        {
         "name": "A",
         "rawType": "int64",
         "type": "integer"
        },
        {
         "name": "B",
         "rawType": "int64",
         "type": "integer"
        },
        {
         "name": "C",
         "rawType": "object",
         "type": "string"
        },
        {
         "name": "D",
         "rawType": "int64",
         "type": "integer"
        }
       ],
       "ref": "957b7e92-94e6-4a04-a782-7d8790986892",
       "rows": [
        [
         "1",
         "2",
         "5",
         "red",
         "7"
        ]
       ],
       "shape": {
        "columns": 4,
        "rows": 1
       }
      },
      "text/html": [
       "<div>\n",
       "<style scoped>\n",
       "    .dataframe tbody tr th:only-of-type {\n",
       "        vertical-align: middle;\n",
       "    }\n",
       "\n",
       "    .dataframe tbody tr th {\n",
       "        vertical-align: top;\n",
       "    }\n",
       "\n",
       "    .dataframe thead th {\n",
       "        text-align: right;\n",
       "    }\n",
       "</style>\n",
       "<table border=\"1\" class=\"dataframe\">\n",
       "  <thead>\n",
       "    <tr style=\"text-align: right;\">\n",
       "      <th></th>\n",
       "      <th>A</th>\n",
       "      <th>B</th>\n",
       "      <th>C</th>\n",
       "      <th>D</th>\n",
       "    </tr>\n",
       "  </thead>\n",
       "  <tbody>\n",
       "    <tr>\n",
       "      <th>1</th>\n",
       "      <td>2</td>\n",
       "      <td>5</td>\n",
       "      <td>red</td>\n",
       "      <td>7</td>\n",
       "    </tr>\n",
       "  </tbody>\n",
       "</table>\n",
       "</div>"
      ],
      "text/plain": [
       "   A  B    C  D\n",
       "1  2  5  red  7"
      ]
     },
     "execution_count": 27,
     "metadata": {},
     "output_type": "execute_result"
    }
   ],
   "source": [
    "# Pandas\n",
    "\n",
    "df_pd[df_pd['C'].str.contains('red')]"
   ]
  },
  {
   "cell_type": "code",
   "execution_count": 28,
   "id": "f2021add",
   "metadata": {},
   "outputs": [
    {
     "data": {
      "text/html": [
       "<div><style>\n",
       ".dataframe > thead > tr,\n",
       ".dataframe > tbody > tr {\n",
       "  text-align: right;\n",
       "  white-space: pre-wrap;\n",
       "}\n",
       "</style>\n",
       "<small>shape: (2, 4)</small><table border=\"1\" class=\"dataframe\"><thead><tr><th>A</th><th>B</th><th>C</th><th>D</th></tr><tr><td>i64</td><td>i64</td><td>str</td><td>i64</td></tr></thead><tbody><tr><td>2</td><td>5</td><td>&quot;red&quot;</td><td>7</td></tr><tr><td>2</td><td>6</td><td>&quot;blue&quot;</td><td>8</td></tr></tbody></table></div>"
      ],
      "text/plain": [
       "shape: (2, 4)\n",
       "┌─────┬─────┬──────┬─────┐\n",
       "│ A   ┆ B   ┆ C    ┆ D   │\n",
       "│ --- ┆ --- ┆ ---  ┆ --- │\n",
       "│ i64 ┆ i64 ┆ str  ┆ i64 │\n",
       "╞═════╪═════╪══════╪═════╡\n",
       "│ 2   ┆ 5   ┆ red  ┆ 7   │\n",
       "│ 2   ┆ 6   ┆ blue ┆ 8   │\n",
       "└─────┴─────┴──────┴─────┘"
      ]
     },
     "execution_count": 28,
     "metadata": {},
     "output_type": "execute_result"
    }
   ],
   "source": [
    "# Polars\n",
    "\n",
    "df_pl.filter(\n",
    "    pl.col('A') > 1\n",
    ")"
   ]
  },
  {
   "cell_type": "code",
   "execution_count": 29,
   "id": "cd7be6ae",
   "metadata": {},
   "outputs": [
    {
     "data": {
      "text/html": [
       "<div><style>\n",
       ".dataframe > thead > tr,\n",
       ".dataframe > tbody > tr {\n",
       "  text-align: right;\n",
       "  white-space: pre-wrap;\n",
       "}\n",
       "</style>\n",
       "<small>shape: (1, 4)</small><table border=\"1\" class=\"dataframe\"><thead><tr><th>A</th><th>B</th><th>C</th><th>D</th></tr><tr><td>i64</td><td>i64</td><td>str</td><td>i64</td></tr></thead><tbody><tr><td>2</td><td>5</td><td>&quot;red&quot;</td><td>7</td></tr></tbody></table></div>"
      ],
      "text/plain": [
       "shape: (1, 4)\n",
       "┌─────┬─────┬─────┬─────┐\n",
       "│ A   ┆ B   ┆ C   ┆ D   │\n",
       "│ --- ┆ --- ┆ --- ┆ --- │\n",
       "│ i64 ┆ i64 ┆ str ┆ i64 │\n",
       "╞═════╪═════╪═════╪═════╡\n",
       "│ 2   ┆ 5   ┆ red ┆ 7   │\n",
       "└─────┴─────┴─────┴─────┘"
      ]
     },
     "execution_count": 29,
     "metadata": {},
     "output_type": "execute_result"
    }
   ],
   "source": [
    "# Polars\n",
    "\n",
    "df_pl.filter(\n",
    "    pl.col('C') == 'red'\n",
    ")"
   ]
  },
  {
   "cell_type": "code",
   "execution_count": 30,
   "id": "226e4e2a",
   "metadata": {},
   "outputs": [
    {
     "data": {
      "text/html": [
       "<div><style>\n",
       ".dataframe > thead > tr,\n",
       ".dataframe > tbody > tr {\n",
       "  text-align: right;\n",
       "  white-space: pre-wrap;\n",
       "}\n",
       "</style>\n",
       "<small>shape: (1, 4)</small><table border=\"1\" class=\"dataframe\"><thead><tr><th>A</th><th>B</th><th>C</th><th>D</th></tr><tr><td>i64</td><td>i64</td><td>str</td><td>i64</td></tr></thead><tbody><tr><td>2</td><td>5</td><td>&quot;red&quot;</td><td>7</td></tr></tbody></table></div>"
      ],
      "text/plain": [
       "shape: (1, 4)\n",
       "┌─────┬─────┬─────┬─────┐\n",
       "│ A   ┆ B   ┆ C   ┆ D   │\n",
       "│ --- ┆ --- ┆ --- ┆ --- │\n",
       "│ i64 ┆ i64 ┆ str ┆ i64 │\n",
       "╞═════╪═════╪═════╪═════╡\n",
       "│ 2   ┆ 5   ┆ red ┆ 7   │\n",
       "└─────┴─────┴─────┴─────┘"
      ]
     },
     "execution_count": 30,
     "metadata": {},
     "output_type": "execute_result"
    }
   ],
   "source": [
    "# Polars\n",
    "\n",
    "df_pl.filter(\n",
    "    pl.col('C').str.contains('red')\n",
    ")"
   ]
  },
  {
   "cell_type": "markdown",
   "id": "8e8943ca",
   "metadata": {},
   "source": [
    "## Unique Values"
   ]
  },
  {
   "cell_type": "code",
   "execution_count": 31,
   "id": "6e813bfa",
   "metadata": {},
   "outputs": [
    {
     "data": {
      "text/plain": [
       "array([1, 2])"
      ]
     },
     "execution_count": 31,
     "metadata": {},
     "output_type": "execute_result"
    }
   ],
   "source": [
    "# Pandas\n",
    "\n",
    "df_pd['A'].unique()"
   ]
  },
  {
   "cell_type": "code",
   "execution_count": 32,
   "id": "c7a57287",
   "metadata": {},
   "outputs": [
    {
     "data": {
      "text/html": [
       "<div><style>\n",
       ".dataframe > thead > tr,\n",
       ".dataframe > tbody > tr {\n",
       "  text-align: right;\n",
       "  white-space: pre-wrap;\n",
       "}\n",
       "</style>\n",
       "<small>shape: (2,)</small><table border=\"1\" class=\"dataframe\"><thead><tr><th>A</th></tr><tr><td>i64</td></tr></thead><tbody><tr><td>1</td></tr><tr><td>2</td></tr></tbody></table></div>"
      ],
      "text/plain": [
       "shape: (2,)\n",
       "Series: 'A' [i64]\n",
       "[\n",
       "\t1\n",
       "\t2\n",
       "]"
      ]
     },
     "execution_count": 32,
     "metadata": {},
     "output_type": "execute_result"
    }
   ],
   "source": [
    "# Polars\n",
    "\n",
    "df_pl['A'].unique()"
   ]
  },
  {
   "cell_type": "markdown",
   "id": "cc58cf98",
   "metadata": {},
   "source": [
    "## Missing Values"
   ]
  },
  {
   "cell_type": "code",
   "execution_count": 33,
   "id": "72e589cf",
   "metadata": {},
   "outputs": [
    {
     "data": {
      "application/vnd.microsoft.datawrangler.viewer.v0+json": {
       "columns": [
        {
         "name": "index",
         "rawType": "object",
         "type": "string"
        },
        {
         "name": "0",
         "rawType": "int64",
         "type": "integer"
        }
       ],
       "ref": "52ed8812-5490-40ef-b943-10e8c7561c57",
       "rows": [
        [
         "A",
         "0"
        ],
        [
         "B",
         "0"
        ],
        [
         "C",
         "0"
        ],
        [
         "D",
         "0"
        ]
       ],
       "shape": {
        "columns": 1,
        "rows": 4
       }
      },
      "text/plain": [
       "A    0\n",
       "B    0\n",
       "C    0\n",
       "D    0\n",
       "dtype: int64"
      ]
     },
     "execution_count": 33,
     "metadata": {},
     "output_type": "execute_result"
    }
   ],
   "source": [
    "# Pandas\n",
    "\n",
    "df_pd.isnull().sum() # Count nulls"
   ]
  },
  {
   "cell_type": "code",
   "execution_count": 34,
   "id": "5a402e50",
   "metadata": {},
   "outputs": [
    {
     "data": {
      "application/vnd.microsoft.datawrangler.viewer.v0+json": {
       "columns": [
        {
         "name": "index",
         "rawType": "int64",
         "type": "integer"
        },
        {
         "name": "A",
         "rawType": "int64",
         "type": "integer"
        },
        {
         "name": "B",
         "rawType": "int64",
         "type": "integer"
        },
        {
         "name": "C",
         "rawType": "object",
         "type": "string"
        },
        {
         "name": "D",
         "rawType": "int64",
         "type": "integer"
        }
       ],
       "ref": "f2dcb6ba-f850-4d84-979c-0944b95100fd",
       "rows": [
        [
         "0",
         "1",
         "4",
         "blue",
         "5"
        ],
        [
         "1",
         "2",
         "5",
         "red",
         "7"
        ],
        [
         "2",
         "2",
         "6",
         "blue",
         "8"
        ]
       ],
       "shape": {
        "columns": 4,
        "rows": 3
       }
      },
      "text/html": [
       "<div>\n",
       "<style scoped>\n",
       "    .dataframe tbody tr th:only-of-type {\n",
       "        vertical-align: middle;\n",
       "    }\n",
       "\n",
       "    .dataframe tbody tr th {\n",
       "        vertical-align: top;\n",
       "    }\n",
       "\n",
       "    .dataframe thead th {\n",
       "        text-align: right;\n",
       "    }\n",
       "</style>\n",
       "<table border=\"1\" class=\"dataframe\">\n",
       "  <thead>\n",
       "    <tr style=\"text-align: right;\">\n",
       "      <th></th>\n",
       "      <th>A</th>\n",
       "      <th>B</th>\n",
       "      <th>C</th>\n",
       "      <th>D</th>\n",
       "    </tr>\n",
       "  </thead>\n",
       "  <tbody>\n",
       "    <tr>\n",
       "      <th>0</th>\n",
       "      <td>1</td>\n",
       "      <td>4</td>\n",
       "      <td>blue</td>\n",
       "      <td>5</td>\n",
       "    </tr>\n",
       "    <tr>\n",
       "      <th>1</th>\n",
       "      <td>2</td>\n",
       "      <td>5</td>\n",
       "      <td>red</td>\n",
       "      <td>7</td>\n",
       "    </tr>\n",
       "    <tr>\n",
       "      <th>2</th>\n",
       "      <td>2</td>\n",
       "      <td>6</td>\n",
       "      <td>blue</td>\n",
       "      <td>8</td>\n",
       "    </tr>\n",
       "  </tbody>\n",
       "</table>\n",
       "</div>"
      ],
      "text/plain": [
       "   A  B     C  D\n",
       "0  1  4  blue  5\n",
       "1  2  5   red  7\n",
       "2  2  6  blue  8"
      ]
     },
     "execution_count": 34,
     "metadata": {},
     "output_type": "execute_result"
    }
   ],
   "source": [
    "# Pandas\n",
    "\n",
    "df_pd.fillna(0) # Fill nulls with zero"
   ]
  },
  {
   "cell_type": "code",
   "execution_count": 35,
   "id": "71cf835e",
   "metadata": {},
   "outputs": [
    {
     "data": {
      "text/html": [
       "<div><style>\n",
       ".dataframe > thead > tr,\n",
       ".dataframe > tbody > tr {\n",
       "  text-align: right;\n",
       "  white-space: pre-wrap;\n",
       "}\n",
       "</style>\n",
       "<small>shape: (1, 4)</small><table border=\"1\" class=\"dataframe\"><thead><tr><th>A</th><th>B</th><th>C</th><th>D</th></tr><tr><td>u32</td><td>u32</td><td>u32</td><td>u32</td></tr></thead><tbody><tr><td>0</td><td>0</td><td>0</td><td>0</td></tr></tbody></table></div>"
      ],
      "text/plain": [
       "shape: (1, 4)\n",
       "┌─────┬─────┬─────┬─────┐\n",
       "│ A   ┆ B   ┆ C   ┆ D   │\n",
       "│ --- ┆ --- ┆ --- ┆ --- │\n",
       "│ u32 ┆ u32 ┆ u32 ┆ u32 │\n",
       "╞═════╪═════╪═════╪═════╡\n",
       "│ 0   ┆ 0   ┆ 0   ┆ 0   │\n",
       "└─────┴─────┴─────┴─────┘"
      ]
     },
     "execution_count": 35,
     "metadata": {},
     "output_type": "execute_result"
    }
   ],
   "source": [
    "# Polars\n",
    "\n",
    "df_pl.null_count() # Count nulls"
   ]
  },
  {
   "cell_type": "code",
   "execution_count": 36,
   "id": "ac899f2c",
   "metadata": {},
   "outputs": [
    {
     "data": {
      "text/html": [
       "<div><style>\n",
       ".dataframe > thead > tr,\n",
       ".dataframe > tbody > tr {\n",
       "  text-align: right;\n",
       "  white-space: pre-wrap;\n",
       "}\n",
       "</style>\n",
       "<small>shape: (3, 4)</small><table border=\"1\" class=\"dataframe\"><thead><tr><th>A</th><th>B</th><th>C</th><th>D</th></tr><tr><td>i64</td><td>i64</td><td>str</td><td>i64</td></tr></thead><tbody><tr><td>1</td><td>4</td><td>&quot;blue&quot;</td><td>5</td></tr><tr><td>2</td><td>5</td><td>&quot;red&quot;</td><td>7</td></tr><tr><td>2</td><td>6</td><td>&quot;blue&quot;</td><td>8</td></tr></tbody></table></div>"
      ],
      "text/plain": [
       "shape: (3, 4)\n",
       "┌─────┬─────┬──────┬─────┐\n",
       "│ A   ┆ B   ┆ C    ┆ D   │\n",
       "│ --- ┆ --- ┆ ---  ┆ --- │\n",
       "│ i64 ┆ i64 ┆ str  ┆ i64 │\n",
       "╞═════╪═════╪══════╪═════╡\n",
       "│ 1   ┆ 4   ┆ blue ┆ 5   │\n",
       "│ 2   ┆ 5   ┆ red  ┆ 7   │\n",
       "│ 2   ┆ 6   ┆ blue ┆ 8   │\n",
       "└─────┴─────┴──────┴─────┘"
      ]
     },
     "execution_count": 36,
     "metadata": {},
     "output_type": "execute_result"
    }
   ],
   "source": [
    "# Polars\n",
    "\n",
    "df_pl.fill_null(0) # Fill nulls with zero"
   ]
  },
  {
   "cell_type": "markdown",
   "id": "5e4824da",
   "metadata": {},
   "source": [
    "## Group By and Aggregate"
   ]
  },
  {
   "cell_type": "code",
   "execution_count": 37,
   "id": "a00c06f8",
   "metadata": {},
   "outputs": [
    {
     "data": {
      "application/vnd.microsoft.datawrangler.viewer.v0+json": {
       "columns": [
        {
         "name": "A",
         "rawType": "int64",
         "type": "integer"
        },
        {
         "name": "B",
         "rawType": "int64",
         "type": "integer"
        }
       ],
       "ref": "58b1b555-403c-4d08-abdf-83584a9d2139",
       "rows": [
        [
         "1",
         "4"
        ],
        [
         "2",
         "11"
        ]
       ],
       "shape": {
        "columns": 1,
        "rows": 2
       }
      },
      "text/html": [
       "<div>\n",
       "<style scoped>\n",
       "    .dataframe tbody tr th:only-of-type {\n",
       "        vertical-align: middle;\n",
       "    }\n",
       "\n",
       "    .dataframe tbody tr th {\n",
       "        vertical-align: top;\n",
       "    }\n",
       "\n",
       "    .dataframe thead th {\n",
       "        text-align: right;\n",
       "    }\n",
       "</style>\n",
       "<table border=\"1\" class=\"dataframe\">\n",
       "  <thead>\n",
       "    <tr style=\"text-align: right;\">\n",
       "      <th></th>\n",
       "      <th>B</th>\n",
       "    </tr>\n",
       "    <tr>\n",
       "      <th>A</th>\n",
       "      <th></th>\n",
       "    </tr>\n",
       "  </thead>\n",
       "  <tbody>\n",
       "    <tr>\n",
       "      <th>1</th>\n",
       "      <td>4</td>\n",
       "    </tr>\n",
       "    <tr>\n",
       "      <th>2</th>\n",
       "      <td>11</td>\n",
       "    </tr>\n",
       "  </tbody>\n",
       "</table>\n",
       "</div>"
      ],
      "text/plain": [
       "    B\n",
       "A    \n",
       "1   4\n",
       "2  11"
      ]
     },
     "execution_count": 37,
     "metadata": {},
     "output_type": "execute_result"
    }
   ],
   "source": [
    "# Pandas\n",
    "\n",
    "df_pd.groupby('A').agg({'B': 'sum'})"
   ]
  },
  {
   "cell_type": "code",
   "execution_count": 38,
   "id": "a272ed95",
   "metadata": {},
   "outputs": [
    {
     "data": {
      "text/html": [
       "<div><style>\n",
       ".dataframe > thead > tr,\n",
       ".dataframe > tbody > tr {\n",
       "  text-align: right;\n",
       "  white-space: pre-wrap;\n",
       "}\n",
       "</style>\n",
       "<small>shape: (2, 2)</small><table border=\"1\" class=\"dataframe\"><thead><tr><th>A</th><th>B</th></tr><tr><td>i64</td><td>i64</td></tr></thead><tbody><tr><td>1</td><td>4</td></tr><tr><td>2</td><td>11</td></tr></tbody></table></div>"
      ],
      "text/plain": [
       "shape: (2, 2)\n",
       "┌─────┬─────┐\n",
       "│ A   ┆ B   │\n",
       "│ --- ┆ --- │\n",
       "│ i64 ┆ i64 │\n",
       "╞═════╪═════╡\n",
       "│ 1   ┆ 4   │\n",
       "│ 2   ┆ 11  │\n",
       "└─────┴─────┘"
      ]
     },
     "execution_count": 38,
     "metadata": {},
     "output_type": "execute_result"
    }
   ],
   "source": [
    "# Polars\n",
    "\n",
    "df_pl.group_by('A').agg(pl.col('B').sum())"
   ]
  },
  {
   "cell_type": "markdown",
   "id": "ec617012",
   "metadata": {},
   "source": [
    "## Apply Functions"
   ]
  },
  {
   "cell_type": "code",
   "execution_count": 39,
   "id": "6d03fe90",
   "metadata": {},
   "outputs": [
    {
     "data": {
      "application/vnd.microsoft.datawrangler.viewer.v0+json": {
       "columns": [
        {
         "name": "index",
         "rawType": "int64",
         "type": "integer"
        },
        {
         "name": "A",
         "rawType": "int64",
         "type": "integer"
        },
        {
         "name": "B",
         "rawType": "int64",
         "type": "integer"
        },
        {
         "name": "C",
         "rawType": "object",
         "type": "string"
        },
        {
         "name": "D",
         "rawType": "int64",
         "type": "integer"
        }
       ],
       "ref": "6ce91177-d533-47b6-9a47-03aed460156b",
       "rows": [
        [
         "0",
         "1",
         "4",
         "blue",
         "2"
        ],
        [
         "1",
         "2",
         "5",
         "red",
         "4"
        ],
        [
         "2",
         "2",
         "6",
         "blue",
         "4"
        ]
       ],
       "shape": {
        "columns": 4,
        "rows": 3
       }
      },
      "text/html": [
       "<div>\n",
       "<style scoped>\n",
       "    .dataframe tbody tr th:only-of-type {\n",
       "        vertical-align: middle;\n",
       "    }\n",
       "\n",
       "    .dataframe tbody tr th {\n",
       "        vertical-align: top;\n",
       "    }\n",
       "\n",
       "    .dataframe thead th {\n",
       "        text-align: right;\n",
       "    }\n",
       "</style>\n",
       "<table border=\"1\" class=\"dataframe\">\n",
       "  <thead>\n",
       "    <tr style=\"text-align: right;\">\n",
       "      <th></th>\n",
       "      <th>A</th>\n",
       "      <th>B</th>\n",
       "      <th>C</th>\n",
       "      <th>D</th>\n",
       "    </tr>\n",
       "  </thead>\n",
       "  <tbody>\n",
       "    <tr>\n",
       "      <th>0</th>\n",
       "      <td>1</td>\n",
       "      <td>4</td>\n",
       "      <td>blue</td>\n",
       "      <td>2</td>\n",
       "    </tr>\n",
       "    <tr>\n",
       "      <th>1</th>\n",
       "      <td>2</td>\n",
       "      <td>5</td>\n",
       "      <td>red</td>\n",
       "      <td>4</td>\n",
       "    </tr>\n",
       "    <tr>\n",
       "      <th>2</th>\n",
       "      <td>2</td>\n",
       "      <td>6</td>\n",
       "      <td>blue</td>\n",
       "      <td>4</td>\n",
       "    </tr>\n",
       "  </tbody>\n",
       "</table>\n",
       "</div>"
      ],
      "text/plain": [
       "   A  B     C  D\n",
       "0  1  4  blue  2\n",
       "1  2  5   red  4\n",
       "2  2  6  blue  4"
      ]
     },
     "execution_count": 39,
     "metadata": {},
     "output_type": "execute_result"
    }
   ],
   "source": [
    "# Pandas\n",
    "\n",
    "df_pd['D'] = df_pd['A'].apply(lambda x: x * 2)\n",
    "\n",
    "df_pd"
   ]
  },
  {
   "cell_type": "code",
   "execution_count": 40,
   "id": "923460b8",
   "metadata": {},
   "outputs": [
    {
     "data": {
      "application/vnd.microsoft.datawrangler.viewer.v0+json": {
       "columns": [
        {
         "name": "index",
         "rawType": "int64",
         "type": "integer"
        },
        {
         "name": "A",
         "rawType": "int64",
         "type": "integer"
        },
        {
         "name": "B",
         "rawType": "int64",
         "type": "integer"
        },
        {
         "name": "C",
         "rawType": "object",
         "type": "string"
        },
        {
         "name": "D",
         "rawType": "object",
         "type": "string"
        }
       ],
       "ref": "1df83aa6-c3fb-49da-a914-93a79f2d5493",
       "rows": [
        [
         "0",
         "1",
         "4",
         "blue",
         "BLUE"
        ],
        [
         "1",
         "2",
         "5",
         "red",
         "RED"
        ],
        [
         "2",
         "2",
         "6",
         "blue",
         "BLUE"
        ]
       ],
       "shape": {
        "columns": 4,
        "rows": 3
       }
      },
      "text/html": [
       "<div>\n",
       "<style scoped>\n",
       "    .dataframe tbody tr th:only-of-type {\n",
       "        vertical-align: middle;\n",
       "    }\n",
       "\n",
       "    .dataframe tbody tr th {\n",
       "        vertical-align: top;\n",
       "    }\n",
       "\n",
       "    .dataframe thead th {\n",
       "        text-align: right;\n",
       "    }\n",
       "</style>\n",
       "<table border=\"1\" class=\"dataframe\">\n",
       "  <thead>\n",
       "    <tr style=\"text-align: right;\">\n",
       "      <th></th>\n",
       "      <th>A</th>\n",
       "      <th>B</th>\n",
       "      <th>C</th>\n",
       "      <th>D</th>\n",
       "    </tr>\n",
       "  </thead>\n",
       "  <tbody>\n",
       "    <tr>\n",
       "      <th>0</th>\n",
       "      <td>1</td>\n",
       "      <td>4</td>\n",
       "      <td>blue</td>\n",
       "      <td>BLUE</td>\n",
       "    </tr>\n",
       "    <tr>\n",
       "      <th>1</th>\n",
       "      <td>2</td>\n",
       "      <td>5</td>\n",
       "      <td>red</td>\n",
       "      <td>RED</td>\n",
       "    </tr>\n",
       "    <tr>\n",
       "      <th>2</th>\n",
       "      <td>2</td>\n",
       "      <td>6</td>\n",
       "      <td>blue</td>\n",
       "      <td>BLUE</td>\n",
       "    </tr>\n",
       "  </tbody>\n",
       "</table>\n",
       "</div>"
      ],
      "text/plain": [
       "   A  B     C     D\n",
       "0  1  4  blue  BLUE\n",
       "1  2  5   red   RED\n",
       "2  2  6  blue  BLUE"
      ]
     },
     "execution_count": 40,
     "metadata": {},
     "output_type": "execute_result"
    }
   ],
   "source": [
    "# Pandas\n",
    "\n",
    "df_pd['D'] = df_pd['C'].apply(lambda x: x.upper())\n",
    "\n",
    "df_pd"
   ]
  },
  {
   "cell_type": "code",
   "execution_count": 41,
   "id": "3a11e496",
   "metadata": {},
   "outputs": [
    {
     "data": {
      "text/html": [
       "<div><style>\n",
       ".dataframe > thead > tr,\n",
       ".dataframe > tbody > tr {\n",
       "  text-align: right;\n",
       "  white-space: pre-wrap;\n",
       "}\n",
       "</style>\n",
       "<small>shape: (3, 4)</small><table border=\"1\" class=\"dataframe\"><thead><tr><th>A</th><th>B</th><th>C</th><th>D</th></tr><tr><td>i64</td><td>i64</td><td>str</td><td>i64</td></tr></thead><tbody><tr><td>1</td><td>4</td><td>&quot;blue&quot;</td><td>2</td></tr><tr><td>2</td><td>5</td><td>&quot;red&quot;</td><td>4</td></tr><tr><td>2</td><td>6</td><td>&quot;blue&quot;</td><td>4</td></tr></tbody></table></div>"
      ],
      "text/plain": [
       "shape: (3, 4)\n",
       "┌─────┬─────┬──────┬─────┐\n",
       "│ A   ┆ B   ┆ C    ┆ D   │\n",
       "│ --- ┆ --- ┆ ---  ┆ --- │\n",
       "│ i64 ┆ i64 ┆ str  ┆ i64 │\n",
       "╞═════╪═════╪══════╪═════╡\n",
       "│ 1   ┆ 4   ┆ blue ┆ 2   │\n",
       "│ 2   ┆ 5   ┆ red  ┆ 4   │\n",
       "│ 2   ┆ 6   ┆ blue ┆ 4   │\n",
       "└─────┴─────┴──────┴─────┘"
      ]
     },
     "execution_count": 41,
     "metadata": {},
     "output_type": "execute_result"
    }
   ],
   "source": [
    "# Polars\n",
    "\n",
    "df_pl = df_pl.with_columns(\n",
    "    (pl.col('A') * 2).alias('D')\n",
    ")\n",
    "\n",
    "df_pl"
   ]
  },
  {
   "cell_type": "code",
   "execution_count": 42,
   "id": "9a449f56",
   "metadata": {},
   "outputs": [
    {
     "data": {
      "text/html": [
       "<div><style>\n",
       ".dataframe > thead > tr,\n",
       ".dataframe > tbody > tr {\n",
       "  text-align: right;\n",
       "  white-space: pre-wrap;\n",
       "}\n",
       "</style>\n",
       "<small>shape: (3, 4)</small><table border=\"1\" class=\"dataframe\"><thead><tr><th>A</th><th>B</th><th>C</th><th>D</th></tr><tr><td>i64</td><td>i64</td><td>str</td><td>str</td></tr></thead><tbody><tr><td>1</td><td>4</td><td>&quot;blue&quot;</td><td>&quot;BLUE&quot;</td></tr><tr><td>2</td><td>5</td><td>&quot;red&quot;</td><td>&quot;RED&quot;</td></tr><tr><td>2</td><td>6</td><td>&quot;blue&quot;</td><td>&quot;BLUE&quot;</td></tr></tbody></table></div>"
      ],
      "text/plain": [
       "shape: (3, 4)\n",
       "┌─────┬─────┬──────┬──────┐\n",
       "│ A   ┆ B   ┆ C    ┆ D    │\n",
       "│ --- ┆ --- ┆ ---  ┆ ---  │\n",
       "│ i64 ┆ i64 ┆ str  ┆ str  │\n",
       "╞═════╪═════╪══════╪══════╡\n",
       "│ 1   ┆ 4   ┆ blue ┆ BLUE │\n",
       "│ 2   ┆ 5   ┆ red  ┆ RED  │\n",
       "│ 2   ┆ 6   ┆ blue ┆ BLUE │\n",
       "└─────┴─────┴──────┴──────┘"
      ]
     },
     "execution_count": 42,
     "metadata": {},
     "output_type": "execute_result"
    }
   ],
   "source": [
    "# Polars\n",
    "\n",
    "df_pl = df_pl.with_columns(\n",
    "    (pl.col('C').str.to_uppercase()).alias('D')\n",
    ")\n",
    "\n",
    "df_pl"
   ]
  },
  {
   "cell_type": "markdown",
   "id": "06e7025f",
   "metadata": {},
   "source": [
    "## Combine DataFrames"
   ]
  },
  {
   "cell_type": "code",
   "execution_count": 43,
   "id": "cf47de6a",
   "metadata": {},
   "outputs": [
    {
     "data": {
      "application/vnd.microsoft.datawrangler.viewer.v0+json": {
       "columns": [
        {
         "name": "index",
         "rawType": "int64",
         "type": "integer"
        },
        {
         "name": "A",
         "rawType": "int64",
         "type": "integer"
        },
        {
         "name": "B",
         "rawType": "int64",
         "type": "integer"
        },
        {
         "name": "C",
         "rawType": "object",
         "type": "string"
        },
        {
         "name": "D",
         "rawType": "object",
         "type": "string"
        }
       ],
       "ref": "12ef4c28-9e80-4c57-b860-a9fd429d8715",
       "rows": [
        [
         "0",
         "1",
         "4",
         "blue",
         "BLUE"
        ],
        [
         "1",
         "2",
         "5",
         "red",
         "RED"
        ],
        [
         "2",
         "2",
         "6",
         "blue",
         "BLUE"
        ],
        [
         "0",
         "1",
         "4",
         "blue",
         "BLUE"
        ],
        [
         "1",
         "2",
         "5",
         "red",
         "RED"
        ],
        [
         "2",
         "2",
         "6",
         "blue",
         "BLUE"
        ]
       ],
       "shape": {
        "columns": 4,
        "rows": 6
       }
      },
      "text/html": [
       "<div>\n",
       "<style scoped>\n",
       "    .dataframe tbody tr th:only-of-type {\n",
       "        vertical-align: middle;\n",
       "    }\n",
       "\n",
       "    .dataframe tbody tr th {\n",
       "        vertical-align: top;\n",
       "    }\n",
       "\n",
       "    .dataframe thead th {\n",
       "        text-align: right;\n",
       "    }\n",
       "</style>\n",
       "<table border=\"1\" class=\"dataframe\">\n",
       "  <thead>\n",
       "    <tr style=\"text-align: right;\">\n",
       "      <th></th>\n",
       "      <th>A</th>\n",
       "      <th>B</th>\n",
       "      <th>C</th>\n",
       "      <th>D</th>\n",
       "    </tr>\n",
       "  </thead>\n",
       "  <tbody>\n",
       "    <tr>\n",
       "      <th>0</th>\n",
       "      <td>1</td>\n",
       "      <td>4</td>\n",
       "      <td>blue</td>\n",
       "      <td>BLUE</td>\n",
       "    </tr>\n",
       "    <tr>\n",
       "      <th>1</th>\n",
       "      <td>2</td>\n",
       "      <td>5</td>\n",
       "      <td>red</td>\n",
       "      <td>RED</td>\n",
       "    </tr>\n",
       "    <tr>\n",
       "      <th>2</th>\n",
       "      <td>2</td>\n",
       "      <td>6</td>\n",
       "      <td>blue</td>\n",
       "      <td>BLUE</td>\n",
       "    </tr>\n",
       "    <tr>\n",
       "      <th>0</th>\n",
       "      <td>1</td>\n",
       "      <td>4</td>\n",
       "      <td>blue</td>\n",
       "      <td>BLUE</td>\n",
       "    </tr>\n",
       "    <tr>\n",
       "      <th>1</th>\n",
       "      <td>2</td>\n",
       "      <td>5</td>\n",
       "      <td>red</td>\n",
       "      <td>RED</td>\n",
       "    </tr>\n",
       "    <tr>\n",
       "      <th>2</th>\n",
       "      <td>2</td>\n",
       "      <td>6</td>\n",
       "      <td>blue</td>\n",
       "      <td>BLUE</td>\n",
       "    </tr>\n",
       "  </tbody>\n",
       "</table>\n",
       "</div>"
      ],
      "text/plain": [
       "   A  B     C     D\n",
       "0  1  4  blue  BLUE\n",
       "1  2  5   red   RED\n",
       "2  2  6  blue  BLUE\n",
       "0  1  4  blue  BLUE\n",
       "1  2  5   red   RED\n",
       "2  2  6  blue  BLUE"
      ]
     },
     "execution_count": 43,
     "metadata": {},
     "output_type": "execute_result"
    }
   ],
   "source": [
    "# Pandas\n",
    "\n",
    "df_a, df_b = df_pd, df_pd\n",
    "\n",
    "pd.concat([df_a, df_b])"
   ]
  },
  {
   "cell_type": "code",
   "execution_count": 44,
   "id": "dc33c9a7",
   "metadata": {},
   "outputs": [
    {
     "data": {
      "text/html": [
       "<div><style>\n",
       ".dataframe > thead > tr,\n",
       ".dataframe > tbody > tr {\n",
       "  text-align: right;\n",
       "  white-space: pre-wrap;\n",
       "}\n",
       "</style>\n",
       "<small>shape: (6, 4)</small><table border=\"1\" class=\"dataframe\"><thead><tr><th>A</th><th>B</th><th>C</th><th>D</th></tr><tr><td>i64</td><td>i64</td><td>str</td><td>str</td></tr></thead><tbody><tr><td>1</td><td>4</td><td>&quot;blue&quot;</td><td>&quot;BLUE&quot;</td></tr><tr><td>2</td><td>5</td><td>&quot;red&quot;</td><td>&quot;RED&quot;</td></tr><tr><td>2</td><td>6</td><td>&quot;blue&quot;</td><td>&quot;BLUE&quot;</td></tr><tr><td>1</td><td>4</td><td>&quot;blue&quot;</td><td>&quot;BLUE&quot;</td></tr><tr><td>2</td><td>5</td><td>&quot;red&quot;</td><td>&quot;RED&quot;</td></tr><tr><td>2</td><td>6</td><td>&quot;blue&quot;</td><td>&quot;BLUE&quot;</td></tr></tbody></table></div>"
      ],
      "text/plain": [
       "shape: (6, 4)\n",
       "┌─────┬─────┬──────┬──────┐\n",
       "│ A   ┆ B   ┆ C    ┆ D    │\n",
       "│ --- ┆ --- ┆ ---  ┆ ---  │\n",
       "│ i64 ┆ i64 ┆ str  ┆ str  │\n",
       "╞═════╪═════╪══════╪══════╡\n",
       "│ 1   ┆ 4   ┆ blue ┆ BLUE │\n",
       "│ 2   ┆ 5   ┆ red  ┆ RED  │\n",
       "│ 2   ┆ 6   ┆ blue ┆ BLUE │\n",
       "│ 1   ┆ 4   ┆ blue ┆ BLUE │\n",
       "│ 2   ┆ 5   ┆ red  ┆ RED  │\n",
       "│ 2   ┆ 6   ┆ blue ┆ BLUE │\n",
       "└─────┴─────┴──────┴──────┘"
      ]
     },
     "execution_count": 44,
     "metadata": {},
     "output_type": "execute_result"
    }
   ],
   "source": [
    "# Polars\n",
    "\n",
    "df_a, df_b = df_pl, df_pl\n",
    "\n",
    "pl.concat([df_a, df_b])"
   ]
  },
  {
   "cell_type": "markdown",
   "id": "958de126",
   "metadata": {},
   "source": [
    "## Merge/Join"
   ]
  },
  {
   "cell_type": "code",
   "execution_count": 45,
   "id": "7da52ef5",
   "metadata": {},
   "outputs": [
    {
     "data": {
      "application/vnd.microsoft.datawrangler.viewer.v0+json": {
       "columns": [
        {
         "name": "index",
         "rawType": "int64",
         "type": "integer"
        },
        {
         "name": "A",
         "rawType": "int64",
         "type": "integer"
        },
        {
         "name": "B_x",
         "rawType": "int64",
         "type": "integer"
        },
        {
         "name": "C_x",
         "rawType": "object",
         "type": "string"
        },
        {
         "name": "D_x",
         "rawType": "object",
         "type": "string"
        },
        {
         "name": "B_y",
         "rawType": "int64",
         "type": "integer"
        },
        {
         "name": "C_y",
         "rawType": "object",
         "type": "string"
        },
        {
         "name": "D_y",
         "rawType": "object",
         "type": "string"
        }
       ],
       "ref": "653b0b81-9039-4360-b6fb-b13365b77850",
       "rows": [
        [
         "0",
         "1",
         "4",
         "blue",
         "BLUE",
         "4",
         "blue",
         "BLUE"
        ],
        [
         "1",
         "2",
         "5",
         "red",
         "RED",
         "5",
         "red",
         "RED"
        ],
        [
         "2",
         "2",
         "5",
         "red",
         "RED",
         "6",
         "blue",
         "BLUE"
        ],
        [
         "3",
         "2",
         "6",
         "blue",
         "BLUE",
         "5",
         "red",
         "RED"
        ],
        [
         "4",
         "2",
         "6",
         "blue",
         "BLUE",
         "6",
         "blue",
         "BLUE"
        ]
       ],
       "shape": {
        "columns": 7,
        "rows": 5
       }
      },
      "text/html": [
       "<div>\n",
       "<style scoped>\n",
       "    .dataframe tbody tr th:only-of-type {\n",
       "        vertical-align: middle;\n",
       "    }\n",
       "\n",
       "    .dataframe tbody tr th {\n",
       "        vertical-align: top;\n",
       "    }\n",
       "\n",
       "    .dataframe thead th {\n",
       "        text-align: right;\n",
       "    }\n",
       "</style>\n",
       "<table border=\"1\" class=\"dataframe\">\n",
       "  <thead>\n",
       "    <tr style=\"text-align: right;\">\n",
       "      <th></th>\n",
       "      <th>A</th>\n",
       "      <th>B_x</th>\n",
       "      <th>C_x</th>\n",
       "      <th>D_x</th>\n",
       "      <th>B_y</th>\n",
       "      <th>C_y</th>\n",
       "      <th>D_y</th>\n",
       "    </tr>\n",
       "  </thead>\n",
       "  <tbody>\n",
       "    <tr>\n",
       "      <th>0</th>\n",
       "      <td>1</td>\n",
       "      <td>4</td>\n",
       "      <td>blue</td>\n",
       "      <td>BLUE</td>\n",
       "      <td>4</td>\n",
       "      <td>blue</td>\n",
       "      <td>BLUE</td>\n",
       "    </tr>\n",
       "    <tr>\n",
       "      <th>1</th>\n",
       "      <td>2</td>\n",
       "      <td>5</td>\n",
       "      <td>red</td>\n",
       "      <td>RED</td>\n",
       "      <td>5</td>\n",
       "      <td>red</td>\n",
       "      <td>RED</td>\n",
       "    </tr>\n",
       "    <tr>\n",
       "      <th>2</th>\n",
       "      <td>2</td>\n",
       "      <td>5</td>\n",
       "      <td>red</td>\n",
       "      <td>RED</td>\n",
       "      <td>6</td>\n",
       "      <td>blue</td>\n",
       "      <td>BLUE</td>\n",
       "    </tr>\n",
       "    <tr>\n",
       "      <th>3</th>\n",
       "      <td>2</td>\n",
       "      <td>6</td>\n",
       "      <td>blue</td>\n",
       "      <td>BLUE</td>\n",
       "      <td>5</td>\n",
       "      <td>red</td>\n",
       "      <td>RED</td>\n",
       "    </tr>\n",
       "    <tr>\n",
       "      <th>4</th>\n",
       "      <td>2</td>\n",
       "      <td>6</td>\n",
       "      <td>blue</td>\n",
       "      <td>BLUE</td>\n",
       "      <td>6</td>\n",
       "      <td>blue</td>\n",
       "      <td>BLUE</td>\n",
       "    </tr>\n",
       "  </tbody>\n",
       "</table>\n",
       "</div>"
      ],
      "text/plain": [
       "   A  B_x   C_x   D_x  B_y   C_y   D_y\n",
       "0  1    4  blue  BLUE    4  blue  BLUE\n",
       "1  2    5   red   RED    5   red   RED\n",
       "2  2    5   red   RED    6  blue  BLUE\n",
       "3  2    6  blue  BLUE    5   red   RED\n",
       "4  2    6  blue  BLUE    6  blue  BLUE"
      ]
     },
     "execution_count": 45,
     "metadata": {},
     "output_type": "execute_result"
    }
   ],
   "source": [
    "# Pandas\n",
    "\n",
    "df_a, df_b = df_pd, df_pd\n",
    "\n",
    "pd.merge(df_a, df_b, on='A', how='inner')"
   ]
  },
  {
   "cell_type": "code",
   "execution_count": 46,
   "id": "5555bc8c",
   "metadata": {},
   "outputs": [
    {
     "data": {
      "text/html": [
       "<div><style>\n",
       ".dataframe > thead > tr,\n",
       ".dataframe > tbody > tr {\n",
       "  text-align: right;\n",
       "  white-space: pre-wrap;\n",
       "}\n",
       "</style>\n",
       "<small>shape: (5, 7)</small><table border=\"1\" class=\"dataframe\"><thead><tr><th>A</th><th>B</th><th>C</th><th>D</th><th>B_right</th><th>C_right</th><th>D_right</th></tr><tr><td>i64</td><td>i64</td><td>str</td><td>str</td><td>i64</td><td>str</td><td>str</td></tr></thead><tbody><tr><td>1</td><td>4</td><td>&quot;blue&quot;</td><td>&quot;BLUE&quot;</td><td>4</td><td>&quot;blue&quot;</td><td>&quot;BLUE&quot;</td></tr><tr><td>2</td><td>5</td><td>&quot;red&quot;</td><td>&quot;RED&quot;</td><td>5</td><td>&quot;red&quot;</td><td>&quot;RED&quot;</td></tr><tr><td>2</td><td>6</td><td>&quot;blue&quot;</td><td>&quot;BLUE&quot;</td><td>5</td><td>&quot;red&quot;</td><td>&quot;RED&quot;</td></tr><tr><td>2</td><td>5</td><td>&quot;red&quot;</td><td>&quot;RED&quot;</td><td>6</td><td>&quot;blue&quot;</td><td>&quot;BLUE&quot;</td></tr><tr><td>2</td><td>6</td><td>&quot;blue&quot;</td><td>&quot;BLUE&quot;</td><td>6</td><td>&quot;blue&quot;</td><td>&quot;BLUE&quot;</td></tr></tbody></table></div>"
      ],
      "text/plain": [
       "shape: (5, 7)\n",
       "┌─────┬─────┬──────┬──────┬─────────┬─────────┬─────────┐\n",
       "│ A   ┆ B   ┆ C    ┆ D    ┆ B_right ┆ C_right ┆ D_right │\n",
       "│ --- ┆ --- ┆ ---  ┆ ---  ┆ ---     ┆ ---     ┆ ---     │\n",
       "│ i64 ┆ i64 ┆ str  ┆ str  ┆ i64     ┆ str     ┆ str     │\n",
       "╞═════╪═════╪══════╪══════╪═════════╪═════════╪═════════╡\n",
       "│ 1   ┆ 4   ┆ blue ┆ BLUE ┆ 4       ┆ blue    ┆ BLUE    │\n",
       "│ 2   ┆ 5   ┆ red  ┆ RED  ┆ 5       ┆ red     ┆ RED     │\n",
       "│ 2   ┆ 6   ┆ blue ┆ BLUE ┆ 5       ┆ red     ┆ RED     │\n",
       "│ 2   ┆ 5   ┆ red  ┆ RED  ┆ 6       ┆ blue    ┆ BLUE    │\n",
       "│ 2   ┆ 6   ┆ blue ┆ BLUE ┆ 6       ┆ blue    ┆ BLUE    │\n",
       "└─────┴─────┴──────┴──────┴─────────┴─────────┴─────────┘"
      ]
     },
     "execution_count": 46,
     "metadata": {},
     "output_type": "execute_result"
    }
   ],
   "source": [
    "# Polars\n",
    "\n",
    "df_a, df_b = df_pl, df_pl\n",
    "\n",
    "df_a.join(df_b, on='A', how='inner')"
   ]
  },
  {
   "cell_type": "markdown",
   "id": "00e5f1e1",
   "metadata": {},
   "source": [
    "## Pivot Table"
   ]
  },
  {
   "cell_type": "code",
   "execution_count": 47,
   "id": "4f933550",
   "metadata": {},
   "outputs": [
    {
     "data": {
      "application/vnd.microsoft.datawrangler.viewer.v0+json": {
       "columns": [
        {
         "name": "A",
         "rawType": "int64",
         "type": "integer"
        },
        {
         "name": "4",
         "rawType": "object",
         "type": "unknown"
        },
        {
         "name": "5",
         "rawType": "object",
         "type": "unknown"
        },
        {
         "name": "6",
         "rawType": "object",
         "type": "unknown"
        }
       ],
       "ref": "7504e93c-3163-4892-b25e-857040d137ed",
       "rows": [
        [
         "1",
         "BLUE",
         null,
         null
        ],
        [
         "2",
         null,
         "RED",
         "BLUE"
        ]
       ],
       "shape": {
        "columns": 3,
        "rows": 2
       }
      },
      "text/html": [
       "<div>\n",
       "<style scoped>\n",
       "    .dataframe tbody tr th:only-of-type {\n",
       "        vertical-align: middle;\n",
       "    }\n",
       "\n",
       "    .dataframe tbody tr th {\n",
       "        vertical-align: top;\n",
       "    }\n",
       "\n",
       "    .dataframe thead th {\n",
       "        text-align: right;\n",
       "    }\n",
       "</style>\n",
       "<table border=\"1\" class=\"dataframe\">\n",
       "  <thead>\n",
       "    <tr style=\"text-align: right;\">\n",
       "      <th>B</th>\n",
       "      <th>4</th>\n",
       "      <th>5</th>\n",
       "      <th>6</th>\n",
       "    </tr>\n",
       "    <tr>\n",
       "      <th>A</th>\n",
       "      <th></th>\n",
       "      <th></th>\n",
       "      <th></th>\n",
       "    </tr>\n",
       "  </thead>\n",
       "  <tbody>\n",
       "    <tr>\n",
       "      <th>1</th>\n",
       "      <td>BLUE</td>\n",
       "      <td>NaN</td>\n",
       "      <td>NaN</td>\n",
       "    </tr>\n",
       "    <tr>\n",
       "      <th>2</th>\n",
       "      <td>NaN</td>\n",
       "      <td>RED</td>\n",
       "      <td>BLUE</td>\n",
       "    </tr>\n",
       "  </tbody>\n",
       "</table>\n",
       "</div>"
      ],
      "text/plain": [
       "B     4    5     6\n",
       "A                 \n",
       "1  BLUE  NaN   NaN\n",
       "2   NaN  RED  BLUE"
      ]
     },
     "execution_count": 47,
     "metadata": {},
     "output_type": "execute_result"
    }
   ],
   "source": [
    "# Pandas\n",
    "\n",
    "df_pd.pivot_table(index='A', columns='B', values='D', aggfunc='sum')"
   ]
  },
  {
   "cell_type": "code",
   "execution_count": 48,
   "id": "f233b803",
   "metadata": {},
   "outputs": [
    {
     "data": {
      "text/html": [
       "<div><style>\n",
       ".dataframe > thead > tr,\n",
       ".dataframe > tbody > tr {\n",
       "  text-align: right;\n",
       "  white-space: pre-wrap;\n",
       "}\n",
       "</style>\n",
       "<small>shape: (2, 4)</small><table border=\"1\" class=\"dataframe\"><thead><tr><th>A</th><th>4</th><th>5</th><th>6</th></tr><tr><td>i64</td><td>str</td><td>str</td><td>str</td></tr></thead><tbody><tr><td>1</td><td>null</td><td>null</td><td>null</td></tr><tr><td>2</td><td>null</td><td>null</td><td>null</td></tr></tbody></table></div>"
      ],
      "text/plain": [
       "shape: (2, 4)\n",
       "┌─────┬──────┬──────┬──────┐\n",
       "│ A   ┆ 4    ┆ 5    ┆ 6    │\n",
       "│ --- ┆ ---  ┆ ---  ┆ ---  │\n",
       "│ i64 ┆ str  ┆ str  ┆ str  │\n",
       "╞═════╪══════╪══════╪══════╡\n",
       "│ 1   ┆ null ┆ null ┆ null │\n",
       "│ 2   ┆ null ┆ null ┆ null │\n",
       "└─────┴──────┴──────┴──────┘"
      ]
     },
     "execution_count": 48,
     "metadata": {},
     "output_type": "execute_result"
    }
   ],
   "source": [
    "# Polars\n",
    "\n",
    "df_pl.pivot(index='A', on='B', values='D', aggregate_function='sum')"
   ]
  },
  {
   "cell_type": "markdown",
   "id": "2f1f31ac",
   "metadata": {},
   "source": [
    "## Export to CSV"
   ]
  },
  {
   "cell_type": "code",
   "execution_count": 49,
   "id": "3c1b9bf3",
   "metadata": {},
   "outputs": [],
   "source": [
    "# Pandas\n",
    "\n",
    "# df_pd.to_csv('file.csv', index=False)"
   ]
  },
  {
   "cell_type": "code",
   "execution_count": 50,
   "id": "14e3c19c",
   "metadata": {},
   "outputs": [],
   "source": [
    "# Polars\n",
    "\n",
    "# df_pl.write_csv('file.csv')"
   ]
  },
  {
   "cell_type": "markdown",
   "id": "c2a0e841",
   "metadata": {},
   "source": [
    "## Convert to NumPy or List"
   ]
  },
  {
   "cell_type": "code",
   "execution_count": 51,
   "id": "82dba4d7",
   "metadata": {},
   "outputs": [
    {
     "data": {
      "text/plain": [
       "array([[1, 4, 'blue', 'BLUE'],\n",
       "       [2, 5, 'red', 'RED'],\n",
       "       [2, 6, 'blue', 'BLUE']], dtype=object)"
      ]
     },
     "execution_count": 51,
     "metadata": {},
     "output_type": "execute_result"
    }
   ],
   "source": [
    "# Pandas\n",
    "\n",
    "df_pd.to_numpy()"
   ]
  },
  {
   "cell_type": "code",
   "execution_count": 52,
   "id": "1c587cd3",
   "metadata": {},
   "outputs": [
    {
     "data": {
      "text/plain": [
       "[1, 2, 2]"
      ]
     },
     "execution_count": 52,
     "metadata": {},
     "output_type": "execute_result"
    }
   ],
   "source": [
    "# Pandas\n",
    "\n",
    "df_pd['A'].tolist()"
   ]
  },
  {
   "cell_type": "code",
   "execution_count": 53,
   "id": "b5859e2f",
   "metadata": {},
   "outputs": [
    {
     "data": {
      "text/plain": [
       "array([[1, 4, 'blue', 'BLUE'],\n",
       "       [2, 5, 'red', 'RED'],\n",
       "       [2, 6, 'blue', 'BLUE']], dtype=object)"
      ]
     },
     "execution_count": 53,
     "metadata": {},
     "output_type": "execute_result"
    }
   ],
   "source": [
    "# Polars\n",
    "\n",
    "df_pl.to_numpy()"
   ]
  },
  {
   "cell_type": "code",
   "execution_count": 54,
   "id": "a3e576ed",
   "metadata": {},
   "outputs": [
    {
     "data": {
      "text/plain": [
       "[1, 2, 2]"
      ]
     },
     "execution_count": 54,
     "metadata": {},
     "output_type": "execute_result"
    }
   ],
   "source": [
    "# Polars\n",
    "\n",
    "df_pl['A'].to_list()"
   ]
  },
  {
   "cell_type": "markdown",
   "id": "d88ac62b",
   "metadata": {},
   "source": [
    "## Lazy Execution"
   ]
  },
  {
   "cell_type": "code",
   "execution_count": 55,
   "id": "3db994c7",
   "metadata": {},
   "outputs": [],
   "source": [
    "# Pandas\n",
    "\n",
    "# Pandas does not support lazy execution"
   ]
  },
  {
   "cell_type": "code",
   "execution_count": 56,
   "id": "f2ee6501",
   "metadata": {},
   "outputs": [],
   "source": [
    "# Polars\n",
    "\n",
    "lazy_df = df_pl.lazy() # Enables lazy execution"
   ]
  },
  {
   "cell_type": "code",
   "execution_count": 57,
   "id": "7bbe8624",
   "metadata": {},
   "outputs": [
    {
     "data": {
      "text/html": [
       "<i>naive plan: (run <b>LazyFrame.explain(optimized=True)</b> to see the optimized plan)</i>\n",
       "    <p></p>\n",
       "    <div> WITH_COLUMNS:<p></p> [[(col(\"A\")) * (100)].alias(\"lazy\")] <p></p>  DF [\"A\", \"B\", \"C\", \"D\"]; PROJECT */4 COLUMNS</div>"
      ],
      "text/plain": [
       "<LazyFrame at 0x276BCB38B90>"
      ]
     },
     "execution_count": 57,
     "metadata": {},
     "output_type": "execute_result"
    }
   ],
   "source": [
    "lazy_df = lazy_df.with_columns(\n",
    "    (pl.col('A') * 100).alias('lazy')\n",
    ")\n",
    "\n",
    "lazy_df"
   ]
  },
  {
   "cell_type": "code",
   "execution_count": 58,
   "id": "947a1f50",
   "metadata": {},
   "outputs": [
    {
     "data": {
      "text/html": [
       "<div><style>\n",
       ".dataframe > thead > tr,\n",
       ".dataframe > tbody > tr {\n",
       "  text-align: right;\n",
       "  white-space: pre-wrap;\n",
       "}\n",
       "</style>\n",
       "<small>shape: (3, 5)</small><table border=\"1\" class=\"dataframe\"><thead><tr><th>A</th><th>B</th><th>C</th><th>D</th><th>lazy</th></tr><tr><td>i64</td><td>i64</td><td>str</td><td>str</td><td>i64</td></tr></thead><tbody><tr><td>1</td><td>4</td><td>&quot;blue&quot;</td><td>&quot;BLUE&quot;</td><td>100</td></tr><tr><td>2</td><td>5</td><td>&quot;red&quot;</td><td>&quot;RED&quot;</td><td>200</td></tr><tr><td>2</td><td>6</td><td>&quot;blue&quot;</td><td>&quot;BLUE&quot;</td><td>200</td></tr></tbody></table></div>"
      ],
      "text/plain": [
       "shape: (3, 5)\n",
       "┌─────┬─────┬──────┬──────┬──────┐\n",
       "│ A   ┆ B   ┆ C    ┆ D    ┆ lazy │\n",
       "│ --- ┆ --- ┆ ---  ┆ ---  ┆ ---  │\n",
       "│ i64 ┆ i64 ┆ str  ┆ str  ┆ i64  │\n",
       "╞═════╪═════╪══════╪══════╪══════╡\n",
       "│ 1   ┆ 4   ┆ blue ┆ BLUE ┆ 100  │\n",
       "│ 2   ┆ 5   ┆ red  ┆ RED  ┆ 200  │\n",
       "│ 2   ┆ 6   ┆ blue ┆ BLUE ┆ 200  │\n",
       "└─────┴─────┴──────┴──────┴──────┘"
      ]
     },
     "execution_count": 58,
     "metadata": {},
     "output_type": "execute_result"
    }
   ],
   "source": [
    "lazy_df.collect() # Executes the operations"
   ]
  }
 ],
 "metadata": {
  "kernelspec": {
   "display_name": "Python 3",
   "language": "python",
   "name": "python3"
  },
  "language_info": {
   "codemirror_mode": {
    "name": "ipython",
    "version": 3
   },
   "file_extension": ".py",
   "mimetype": "text/x-python",
   "name": "python",
   "nbconvert_exporter": "python",
   "pygments_lexer": "ipython3",
   "version": "3.11.0"
  }
 },
 "nbformat": 4,
 "nbformat_minor": 5
}
